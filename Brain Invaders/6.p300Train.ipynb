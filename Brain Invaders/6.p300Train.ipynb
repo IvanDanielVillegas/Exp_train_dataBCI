{
 "cells": [
  {
   "cell_type": "code",
   "execution_count": 1,
   "metadata": {
    "colab": {
     "base_uri": "https://localhost:8080/"
    },
    "executionInfo": {
     "elapsed": 21275,
     "status": "ok",
     "timestamp": 1699448728926,
     "user": {
      "displayName": "Ivan Daniel Villegas Isasa",
      "userId": "00302774522595278560"
     },
     "user_tz": 300
    },
    "id": "7wv1uVtmjwpq",
    "outputId": "6794368b-4c37-419a-ec99-50de58b5519a"
   },
   "outputs": [],
   "source": [
    "#from google.colab import drive\n",
    "#drive.mount('/content/drive/')"
   ]
  },
  {
   "cell_type": "code",
   "execution_count": 2,
   "metadata": {
    "colab": {
     "base_uri": "https://localhost:8080/"
    },
    "executionInfo": {
     "elapsed": 22847,
     "status": "ok",
     "timestamp": 1699448751770,
     "user": {
      "displayName": "Ivan Daniel Villegas Isasa",
      "userId": "00302774522595278560"
     },
     "user_tz": 300
    },
    "id": "dksF0EhMj1LO",
    "outputId": "2bd77715-eed7-4de3-d5e0-5b5b7d895ae2"
   },
   "outputs": [],
   "source": [
    "#!pip install mne"
   ]
  },
  {
   "cell_type": "code",
   "execution_count": 3,
   "metadata": {
    "executionInfo": {
     "elapsed": 9943,
     "status": "ok",
     "timestamp": 1699448761710,
     "user": {
      "displayName": "Ivan Daniel Villegas Isasa",
      "userId": "00302774522595278560"
     },
     "user_tz": 300
    },
    "id": "jAXaC-DQj3ab"
   },
   "outputs": [],
   "source": [
    "import scipy.io as sio\n",
    "import numpy as np\n",
    "import matplotlib.pyplot as plt\n",
    "import seaborn as sns\n",
    "import pandas as pd\n",
    "from scipy import signal\n",
    "import math\n",
    "import mne\n",
    "%matplotlib inline"
   ]
  },
  {
   "cell_type": "code",
   "execution_count": 4,
   "metadata": {
    "colab": {
     "base_uri": "https://localhost:8080/",
     "height": 393
    },
    "executionInfo": {
     "elapsed": 6761,
     "status": "ok",
     "timestamp": 1699448768469,
     "user": {
      "displayName": "Ivan Daniel Villegas Isasa",
      "userId": "00302774522595278560"
     },
     "user_tz": 300
    },
    "id": "Fac3_rjfkDBz",
    "outputId": "4891da43-2e2a-4660-ade3-3c90337aef39"
   },
   "outputs": [
    {
     "name": "stdout",
     "output_type": "stream",
     "text": [
      "Reading /home/ivandanielvillegas/work/home/BrainInvaders/Data/epocas/oddball_subsampl_epo.fif ...\n",
      "    Found the data of interest:\n",
      "        t =    -304.00 ...     688.00 ms\n",
      "        0 CTF compensation matrices available\n",
      "Not setting metadata\n",
      "60154 matching events found\n",
      "No baseline correction applied\n",
      "0 projection items activated\n"
     ]
    },
    {
     "data": {
      "text/html": [
       "<table class=\"table table-hover table-striped table-sm table-responsive small\">\n",
       "    <tr>\n",
       "        <th>Measurement date</th>\n",
       "        \n",
       "        <td>Unknown</td>\n",
       "        \n",
       "    </tr>\n",
       "    <tr>\n",
       "        <th>Experimenter</th>\n",
       "        \n",
       "        <td>Unknown</td>\n",
       "        \n",
       "    </tr>\n",
       "        <th>Participant</th>\n",
       "        \n",
       "        <td>Unknown</td>\n",
       "        \n",
       "    </tr>\n",
       "    <tr>\n",
       "        <th>Digitized points</th>\n",
       "        \n",
       "        <td>19 points</td>\n",
       "        \n",
       "    </tr>\n",
       "    <tr>\n",
       "        <th>Good channels</th>\n",
       "        <td>16 EEG</td>\n",
       "    </tr>\n",
       "    <tr>\n",
       "        <th>Bad channels</th>\n",
       "        <td>None</td>\n",
       "    </tr>\n",
       "    <tr>\n",
       "        <th>EOG channels</th>\n",
       "        <td>Not available</td>\n",
       "    </tr>\n",
       "    <tr>\n",
       "        <th>ECG channels</th>\n",
       "        <td>Not available</td>\n",
       "    \n",
       "    <tr>\n",
       "        <th>Sampling frequency</th>\n",
       "        <td>125.00 Hz</td>\n",
       "    </tr>\n",
       "    \n",
       "    \n",
       "    <tr>\n",
       "        <th>Highpass</th>\n",
       "        <td>0.10 Hz</td>\n",
       "    </tr>\n",
       "    \n",
       "    \n",
       "    <tr>\n",
       "        <th>Lowpass</th>\n",
       "        <td>15.00 Hz</td>\n",
       "    </tr>\n",
       "    \n",
       "    \n",
       "</table>"
      ],
      "text/plain": [
       "<Info | 10 non-empty values\n",
       " bads: []\n",
       " ch_names: Fp1, Fp2, F5, AFz, F6, T7, Cz, T8, P7, P3, Pz, P4, P8, O1, Oz, O2\n",
       " chs: 16 EEG\n",
       " custom_ref_applied: False\n",
       " dig: 19 items (3 Cardinal, 16 EEG)\n",
       " file_id: 4 items (dict)\n",
       " highpass: 0.1 Hz\n",
       " lowpass: 15.0 Hz\n",
       " meas_date: unspecified\n",
       " meas_id: 4 items (dict)\n",
       " nchan: 16\n",
       " projs: []\n",
       " sfreq: 125.0 Hz\n",
       ">"
      ]
     },
     "execution_count": 4,
     "metadata": {},
     "output_type": "execute_result"
    }
   ],
   "source": [
    "epochs = mne.read_epochs('Data/epocas/oddball_subsampl_epo.fif')\n",
    "epochs.info"
   ]
  },
  {
   "cell_type": "code",
   "execution_count": 5,
   "metadata": {
    "colab": {
     "base_uri": "https://localhost:8080/"
    },
    "executionInfo": {
     "elapsed": 384,
     "status": "ok",
     "timestamp": 1699448768850,
     "user": {
      "displayName": "Ivan Daniel Villegas Isasa",
      "userId": "00302774522595278560"
     },
     "user_tz": 300
    },
    "id": "qWHb6HTFkZwl",
    "outputId": "f37b12d8-f31d-4cf4-ec91-a05e9fc399d3"
   },
   "outputs": [],
   "source": [
    "pick_channels = ['Cz']#['Cz','Pz','Oz']\n",
    "target = epochs[\"P300\"].pick_channels(pick_channels)#.average()\n",
    "#target.get_data()"
   ]
  },
  {
   "cell_type": "code",
   "execution_count": 6,
   "metadata": {
    "colab": {
     "base_uri": "https://localhost:8080/",
     "height": 122
    },
    "executionInfo": {
     "elapsed": 446,
     "status": "ok",
     "timestamp": 1699448769294,
     "user": {
      "displayName": "Ivan Daniel Villegas Isasa",
      "userId": "00302774522595278560"
     },
     "user_tz": 300
    },
    "id": "dut1nDytkv9k",
    "outputId": "a6a5b3da-2f26-4e97-fd32-dbbea143c8d7"
   },
   "outputs": [
    {
     "data": {
      "text/html": [
       "<table class=\"table table-hover table-striped table-sm table-responsive small\">\n",
       "    <tr>\n",
       "        <th>Number of events</th>\n",
       "        <td>50128</td>\n",
       "    </tr>\n",
       "    <tr>\n",
       "        <th>Events</th>\n",
       "        \n",
       "        <td>NoP300: 50128</td>\n",
       "        \n",
       "    </tr>\n",
       "    <tr>\n",
       "        <th>Time range</th>\n",
       "        <td>-0.304 – 0.688 sec</td>\n",
       "    </tr>\n",
       "    <tr>\n",
       "        <th>Baseline</th>\n",
       "        <td>-0.301 – 0.000 sec</td>\n",
       "    </tr>\n",
       "</table>"
      ],
      "text/plain": [
       "<EpochsFIF |  50128 events (all good), -0.304 - 0.688 sec, baseline -0.300781 – 0 sec, ~47.8 MB, data loaded,\n",
       " 'NoP300': 50128>"
      ]
     },
     "execution_count": 6,
     "metadata": {},
     "output_type": "execute_result"
    }
   ],
   "source": [
    "standard = epochs[\"NoP300\"].pick_channels(pick_channels)#.average()\n",
    "standard"
   ]
  },
  {
   "cell_type": "code",
   "execution_count": 7,
   "metadata": {
    "executionInfo": {
     "elapsed": 4,
     "status": "ok",
     "timestamp": 1699448769294,
     "user": {
      "displayName": "Ivan Daniel Villegas Isasa",
      "userId": "00302774522595278560"
     },
     "user_tz": 300
    },
    "id": "_bzHeBi5fXuU"
   },
   "outputs": [],
   "source": [
    "def ventanas(epochs,m1,m2,m3,m4,F):\n",
    "  epochs_part1 = epochs.copy().crop(tmin=m1, tmax=m2)\n",
    "  epochs_part2 = epochs.copy().crop(tmin=m2, tmax=m3)\n",
    "  epochs_part3 = epochs.copy().crop(tmin=m3, tmax=m4)\n",
    "  epochs_part4 = epochs.copy().crop(tmin=m4, tmax=F)\n",
    "  data_part1 = epochs_part1.get_data()\n",
    "  data_part2 = epochs_part2.get_data()\n",
    "  data_part3 = epochs_part3.get_data()\n",
    "  data_part4 = epochs_part4.get_data()\n",
    "  mean_part1 = np.mean(data_part1[:, :], axis=2)\n",
    "  mean_part2 = np.mean(data_part2[:, :], axis=2)\n",
    "  mean_part3 = np.mean(data_part3[:, :], axis=2)\n",
    "  mean_part4 = np.mean(data_part4[:, :], axis=2)\n",
    "  return mean_part1, mean_part2, mean_part3, mean_part4"
   ]
  },
  {
   "cell_type": "code",
   "execution_count": 8,
   "metadata": {
    "executionInfo": {
     "elapsed": 3,
     "status": "ok",
     "timestamp": 1699448769294,
     "user": {
      "displayName": "Ivan Daniel Villegas Isasa",
      "userId": "00302774522595278560"
     },
     "user_tz": 300
    },
    "id": "T7BSb93wDZ4b"
   },
   "outputs": [],
   "source": [
    "def ventanas_CV(epochs,m1,m2,m3,m4,F):\n",
    "  prom = np.mean(epochs.get_data())  #, axis=2\n",
    "  epochs_part1 = epochs.copy().crop(tmin=m1, tmax=m2)\n",
    "  epochs_part2 = epochs.copy().crop(tmin=m2, tmax=m3)\n",
    "  epochs_part3 = epochs.copy().crop(tmin=m3, tmax=m4)\n",
    "  epochs_part4 = epochs.copy().crop(tmin=m4, tmax=F)\n",
    "  data_part1 = epochs_part1.get_data()\n",
    "  data_part2 = epochs_part2.get_data()\n",
    "  data_part3 = epochs_part3.get_data()\n",
    "  data_part4 = epochs_part4.get_data()\n",
    "  mean_part1 = np.std(data_part1[:, :], axis=2)/prom\n",
    "  mean_part2 = np.std(data_part2[:, :], axis=2)/prom\n",
    "  mean_part3 = np.std(data_part3[:, :], axis=2)/prom\n",
    "  mean_part4 = np.std(data_part4[:, :], axis=2)/prom\n",
    "  return mean_part1, mean_part2, mean_part3, mean_part4"
   ]
  },
  {
   "cell_type": "code",
   "execution_count": 9,
   "metadata": {
    "executionInfo": {
     "elapsed": 3,
     "status": "ok",
     "timestamp": 1699448769294,
     "user": {
      "displayName": "Ivan Daniel Villegas Isasa",
      "userId": "00302774522595278560"
     },
     "user_tz": 300
    },
    "id": "JAQP6RxxPHdC"
   },
   "outputs": [],
   "source": [
    "def buscar_indice_max_min(a):\n",
    "  max_indices = []\n",
    "  min_indices = []\n",
    "  for i in range(a.shape[1]):\n",
    "    index = np.argmax(a[:, i])\n",
    "    max_indices.append(index)\n",
    "  for i in range(a.shape[1]):\n",
    "    index = np.argmin(a[:, i])\n",
    "    min_indices.append(index)\n",
    "  return np.array(max_indices), np.array(min_indices)\n",
    "\n",
    "def ventanas_DADT(epochs,m1,m2,m3,m4,F):\n",
    "  epochs_part1 = epochs.copy().crop(tmin=m1, tmax=m2)\n",
    "  epochs_part2 = epochs.copy().crop(tmin=m2, tmax=m3)\n",
    "  epochs_part3 = epochs.copy().crop(tmin=m3, tmax=m4)\n",
    "  epochs_part4 = epochs.copy().crop(tmin=m4, tmax=F)\n",
    "  data_part1 = epochs_part1.get_data()\n",
    "  data_part2 = epochs_part2.get_data()\n",
    "  data_part3 = epochs_part3.get_data()\n",
    "  data_part4 = epochs_part4.get_data()\n",
    "  max_part1 = np.max(data_part1[:, :], axis=2)\n",
    "  max_part2 = np.max(data_part2[:, :], axis=2)\n",
    "  max_part3 = np.max(data_part3[:, :], axis=2)\n",
    "  max_part4 = np.max(data_part4[:, :], axis=2)\n",
    "  min_part1 = np.min(data_part1[:, :], axis=2)\n",
    "  min_part2 = np.min(data_part2[:, :], axis=2)\n",
    "  min_part3 = np.min(data_part3[:, :], axis=2)\n",
    "  min_part4 = np.min(data_part4[:, :], axis=2)\n",
    "  index_max_part1, index_min_part1 = buscar_indice_max_min(data_part1[:, :])\n",
    "  index_max_part2, index_min_part2 = buscar_indice_max_min(data_part2[:, :])\n",
    "  index_max_part3, index_min_part3 = buscar_indice_max_min(data_part3[:, :])\n",
    "  index_max_part4, index_min_part4 = buscar_indice_max_min(data_part4[:, :])\n",
    "  mean_part1 = (max_part1-min_part1)/(index_max_part1-index_min_part1)\n",
    "  mean_part2 = (max_part2-min_part2)/(index_max_part2-index_min_part2)\n",
    "  mean_part3 = (max_part3-min_part3)/(index_max_part3-index_min_part3)\n",
    "  mean_part4 = (max_part4-min_part4)/(index_max_part4-index_min_part4)\n",
    "  return mean_part1, mean_part2, mean_part3, mean_part4"
   ]
  },
  {
   "cell_type": "code",
   "execution_count": 10,
   "metadata": {
    "colab": {
     "base_uri": "https://localhost:8080/"
    },
    "executionInfo": {
     "elapsed": 4,
     "status": "ok",
     "timestamp": 1699448769674,
     "user": {
      "displayName": "Ivan Daniel Villegas Isasa",
      "userId": "00302774522595278560"
     },
     "user_tz": 300
    },
    "id": "1JRY3IoLgEWA",
    "outputId": "64c21e94-f7a8-43e8-bbc7-0844b141d24d"
   },
   "outputs": [
    {
     "name": "stderr",
     "output_type": "stream",
     "text": [
      "<ipython-input-9-870ca4a36b85>:16: RuntimeWarning: tmax is not in time interval. tmax is set to <class 'mne.epochs.EpochsFIF'>.tmax (0.688 sec)\n",
      "  epochs_part4 = epochs.copy().crop(tmin=m4, tmax=F)\n"
     ]
    },
    {
     "data": {
      "text/plain": [
       "((10026, 1), (10026, 1), (10026, 1), (10026, 1))"
      ]
     },
     "execution_count": 10,
     "metadata": {},
     "output_type": "execute_result"
    }
   ],
   "source": [
    "mean_target_part1, mean_target_part2 ,mean_target_part3 ,mean_target_part4 = ventanas_DADT(target,-0.3,0,0.25,0.4,0.7)\n",
    "mean_target_part1.shape, mean_target_part2.shape ,mean_target_part3.shape ,mean_target_part4.shape"
   ]
  },
  {
   "cell_type": "code",
   "execution_count": 11,
   "metadata": {
    "colab": {
     "base_uri": "https://localhost:8080/"
    },
    "executionInfo": {
     "elapsed": 368,
     "status": "ok",
     "timestamp": 1699448770039,
     "user": {
      "displayName": "Ivan Daniel Villegas Isasa",
      "userId": "00302774522595278560"
     },
     "user_tz": 300
    },
    "id": "mbMY_U4rhjXI",
    "outputId": "29a69ba3-6d3a-4c15-847d-125b41d4b78c"
   },
   "outputs": [
    {
     "name": "stderr",
     "output_type": "stream",
     "text": [
      "<ipython-input-9-870ca4a36b85>:16: RuntimeWarning: tmax is not in time interval. tmax is set to <class 'mne.epochs.EpochsFIF'>.tmax (0.688 sec)\n",
      "  epochs_part4 = epochs.copy().crop(tmin=m4, tmax=F)\n"
     ]
    },
    {
     "data": {
      "text/plain": [
       "((50128, 1), (50128, 1), (50128, 1), (50128, 1))"
      ]
     },
     "execution_count": 11,
     "metadata": {},
     "output_type": "execute_result"
    }
   ],
   "source": [
    "mean_standard_part1, mean_standard_part2, mean_standard_part3, mean_standard_part4 = ventanas_DADT(standard,-0.3,0,0.25,0.4,0.7)\n",
    "mean_standard_part1.shape, mean_standard_part2.shape, mean_standard_part3.shape, mean_standard_part4.shape"
   ]
  },
  {
   "cell_type": "code",
   "execution_count": 12,
   "metadata": {
    "colab": {
     "base_uri": "https://localhost:8080/",
     "height": 598
    },
    "executionInfo": {
     "elapsed": 4667,
     "status": "ok",
     "timestamp": 1699448774704,
     "user": {
      "displayName": "Ivan Daniel Villegas Isasa",
      "userId": "00302774522595278560"
     },
     "user_tz": 300
    },
    "id": "RrzUGk9-QiBI",
    "outputId": "4d8643ad-f068-4e1d-f6c0-df66a0cd6f7e"
   },
   "outputs": [
    {
     "ename": "ValueError",
     "evalue": "'c' argument has 50128 elements, which is not acceptable for use with 'x' with size 50128, 'y' with size 50128.",
     "output_type": "error",
     "traceback": [
      "\u001b[0;31m---------------------------------------------------------------------------\u001b[0m",
      "\u001b[0;31mValueError\u001b[0m                                Traceback (most recent call last)",
      "\u001b[0;32m/opt/conda/lib/python3.7/site-packages/matplotlib/axes/_axes.py\u001b[0m in \u001b[0;36m_parse_scatter_color_args\u001b[0;34m(c, edgecolors, kwargs, xshape, yshape, get_next_color_func)\u001b[0m\n\u001b[1;32m   4283\u001b[0m             \u001b[0;32mtry\u001b[0m\u001b[0;34m:\u001b[0m  \u001b[0;31m# Then is 'c' acceptable as PathCollection facecolors?\u001b[0m\u001b[0;34m\u001b[0m\u001b[0;34m\u001b[0m\u001b[0m\n\u001b[0;32m-> 4284\u001b[0;31m                 \u001b[0mcolors\u001b[0m \u001b[0;34m=\u001b[0m \u001b[0mmcolors\u001b[0m\u001b[0;34m.\u001b[0m\u001b[0mto_rgba_array\u001b[0m\u001b[0;34m(\u001b[0m\u001b[0mc\u001b[0m\u001b[0;34m)\u001b[0m\u001b[0;34m\u001b[0m\u001b[0;34m\u001b[0m\u001b[0m\n\u001b[0m\u001b[1;32m   4285\u001b[0m                 \u001b[0mn_elem\u001b[0m \u001b[0;34m=\u001b[0m \u001b[0mcolors\u001b[0m\u001b[0;34m.\u001b[0m\u001b[0mshape\u001b[0m\u001b[0;34m[\u001b[0m\u001b[0;36m0\u001b[0m\u001b[0;34m]\u001b[0m\u001b[0;34m\u001b[0m\u001b[0;34m\u001b[0m\u001b[0m\n",
      "\u001b[0;32m/opt/conda/lib/python3.7/site-packages/matplotlib/colors.py\u001b[0m in \u001b[0;36mto_rgba_array\u001b[0;34m(c, alpha)\u001b[0m\n\u001b[1;32m    293\u001b[0m     \u001b[0;32mfor\u001b[0m \u001b[0mi\u001b[0m\u001b[0;34m,\u001b[0m \u001b[0mcc\u001b[0m \u001b[0;32min\u001b[0m \u001b[0menumerate\u001b[0m\u001b[0;34m(\u001b[0m\u001b[0mc\u001b[0m\u001b[0;34m)\u001b[0m\u001b[0;34m:\u001b[0m\u001b[0;34m\u001b[0m\u001b[0;34m\u001b[0m\u001b[0m\n\u001b[0;32m--> 294\u001b[0;31m         \u001b[0mresult\u001b[0m\u001b[0;34m[\u001b[0m\u001b[0mi\u001b[0m\u001b[0;34m]\u001b[0m \u001b[0;34m=\u001b[0m \u001b[0mto_rgba\u001b[0m\u001b[0;34m(\u001b[0m\u001b[0mcc\u001b[0m\u001b[0;34m,\u001b[0m \u001b[0malpha\u001b[0m\u001b[0;34m)\u001b[0m\u001b[0;34m\u001b[0m\u001b[0;34m\u001b[0m\u001b[0m\n\u001b[0m\u001b[1;32m    295\u001b[0m     \u001b[0;32mreturn\u001b[0m \u001b[0mresult\u001b[0m\u001b[0;34m\u001b[0m\u001b[0;34m\u001b[0m\u001b[0m\n",
      "\u001b[0;32m/opt/conda/lib/python3.7/site-packages/matplotlib/colors.py\u001b[0m in \u001b[0;36mto_rgba\u001b[0;34m(c, alpha)\u001b[0m\n\u001b[1;32m    176\u001b[0m     \u001b[0;32mif\u001b[0m \u001b[0mrgba\u001b[0m \u001b[0;32mis\u001b[0m \u001b[0;32mNone\u001b[0m\u001b[0;34m:\u001b[0m  \u001b[0;31m# Suppress exception chaining of cache lookup failure.\u001b[0m\u001b[0;34m\u001b[0m\u001b[0;34m\u001b[0m\u001b[0m\n\u001b[0;32m--> 177\u001b[0;31m         \u001b[0mrgba\u001b[0m \u001b[0;34m=\u001b[0m \u001b[0m_to_rgba_no_colorcycle\u001b[0m\u001b[0;34m(\u001b[0m\u001b[0mc\u001b[0m\u001b[0;34m,\u001b[0m \u001b[0malpha\u001b[0m\u001b[0;34m)\u001b[0m\u001b[0;34m\u001b[0m\u001b[0;34m\u001b[0m\u001b[0m\n\u001b[0m\u001b[1;32m    178\u001b[0m         \u001b[0;32mtry\u001b[0m\u001b[0;34m:\u001b[0m\u001b[0;34m\u001b[0m\u001b[0;34m\u001b[0m\u001b[0m\n",
      "\u001b[0;32m/opt/conda/lib/python3.7/site-packages/matplotlib/colors.py\u001b[0m in \u001b[0;36m_to_rgba_no_colorcycle\u001b[0;34m(c, alpha)\u001b[0m\n\u001b[1;32m    243\u001b[0m     \u001b[0;32mif\u001b[0m \u001b[0mlen\u001b[0m\u001b[0;34m(\u001b[0m\u001b[0mc\u001b[0m\u001b[0;34m)\u001b[0m \u001b[0;32mnot\u001b[0m \u001b[0;32min\u001b[0m \u001b[0;34m[\u001b[0m\u001b[0;36m3\u001b[0m\u001b[0;34m,\u001b[0m \u001b[0;36m4\u001b[0m\u001b[0;34m]\u001b[0m\u001b[0;34m:\u001b[0m\u001b[0;34m\u001b[0m\u001b[0;34m\u001b[0m\u001b[0m\n\u001b[0;32m--> 244\u001b[0;31m         \u001b[0;32mraise\u001b[0m \u001b[0mValueError\u001b[0m\u001b[0;34m(\u001b[0m\u001b[0;34m\"RGBA sequence should have length 3 or 4\"\u001b[0m\u001b[0;34m)\u001b[0m\u001b[0;34m\u001b[0m\u001b[0;34m\u001b[0m\u001b[0m\n\u001b[0m\u001b[1;32m    245\u001b[0m     \u001b[0;32mif\u001b[0m \u001b[0mlen\u001b[0m\u001b[0;34m(\u001b[0m\u001b[0mc\u001b[0m\u001b[0;34m)\u001b[0m \u001b[0;34m==\u001b[0m \u001b[0;36m3\u001b[0m \u001b[0;32mand\u001b[0m \u001b[0malpha\u001b[0m \u001b[0;32mis\u001b[0m \u001b[0;32mNone\u001b[0m\u001b[0;34m:\u001b[0m\u001b[0;34m\u001b[0m\u001b[0;34m\u001b[0m\u001b[0m\n",
      "\u001b[0;31mValueError\u001b[0m: RGBA sequence should have length 3 or 4",
      "\nDuring handling of the above exception, another exception occurred:\n",
      "\u001b[0;31mValueError\u001b[0m                                Traceback (most recent call last)",
      "\u001b[0;32m<ipython-input-12-c5647290fa29>\u001b[0m in \u001b[0;36m<module>\u001b[0;34m\u001b[0m\n\u001b[1;32m     16\u001b[0m \u001b[0mc1\u001b[0m \u001b[0;34m=\u001b[0m \u001b[0mmean_standard_part3\u001b[0m\u001b[0;34m\u001b[0m\u001b[0;34m\u001b[0m\u001b[0m\n\u001b[1;32m     17\u001b[0m \u001b[0;34m\u001b[0m\u001b[0m\n\u001b[0;32m---> 18\u001b[0;31m \u001b[0mimg2\u001b[0m \u001b[0;34m=\u001b[0m \u001b[0max\u001b[0m\u001b[0;34m.\u001b[0m\u001b[0mscatter\u001b[0m\u001b[0;34m(\u001b[0m\u001b[0mx1\u001b[0m\u001b[0;34m,\u001b[0m \u001b[0my1\u001b[0m\u001b[0;34m,\u001b[0m \u001b[0mz1\u001b[0m\u001b[0;34m,\u001b[0m \u001b[0mc\u001b[0m\u001b[0;34m=\u001b[0m\u001b[0mc1\u001b[0m\u001b[0;34m,\u001b[0m \u001b[0ms\u001b[0m \u001b[0;34m=\u001b[0m \u001b[0;36m100\u001b[0m\u001b[0;34m,\u001b[0m \u001b[0mmarker\u001b[0m \u001b[0;34m=\u001b[0m \u001b[0;34m\"*\"\u001b[0m\u001b[0;34m,\u001b[0m \u001b[0mcmap\u001b[0m\u001b[0;34m=\u001b[0m\u001b[0mplt\u001b[0m\u001b[0;34m.\u001b[0m\u001b[0mwinter\u001b[0m\u001b[0;34m(\u001b[0m\u001b[0;34m)\u001b[0m\u001b[0;34m)\u001b[0m\u001b[0;34m\u001b[0m\u001b[0;34m\u001b[0m\u001b[0m\n\u001b[0m\u001b[1;32m     19\u001b[0m \u001b[0mcbar\u001b[0m \u001b[0;34m=\u001b[0m \u001b[0mfig\u001b[0m\u001b[0;34m.\u001b[0m\u001b[0mcolorbar\u001b[0m\u001b[0;34m(\u001b[0m\u001b[0mimg2\u001b[0m\u001b[0;34m)\u001b[0m\u001b[0;34m\u001b[0m\u001b[0;34m\u001b[0m\u001b[0m\n\u001b[1;32m     20\u001b[0m \u001b[0mcbar\u001b[0m\u001b[0;34m.\u001b[0m\u001b[0mset_label\u001b[0m\u001b[0;34m(\u001b[0m\u001b[0;34m'Pendiente de la ventana 1'\u001b[0m\u001b[0;34m)\u001b[0m\u001b[0;34m\u001b[0m\u001b[0;34m\u001b[0m\u001b[0m\n",
      "\u001b[0;32m/opt/conda/lib/python3.7/site-packages/mpl_toolkits/mplot3d/axes3d.py\u001b[0m in \u001b[0;36mscatter\u001b[0;34m(self, xs, ys, zs, zdir, s, c, depthshade, *args, **kwargs)\u001b[0m\n\u001b[1;32m   2325\u001b[0m         \u001b[0mxs\u001b[0m\u001b[0;34m,\u001b[0m \u001b[0mys\u001b[0m\u001b[0;34m,\u001b[0m \u001b[0mzs\u001b[0m\u001b[0;34m,\u001b[0m \u001b[0ms\u001b[0m\u001b[0;34m,\u001b[0m \u001b[0mc\u001b[0m \u001b[0;34m=\u001b[0m \u001b[0mcbook\u001b[0m\u001b[0;34m.\u001b[0m\u001b[0mdelete_masked_points\u001b[0m\u001b[0;34m(\u001b[0m\u001b[0mxs\u001b[0m\u001b[0;34m,\u001b[0m \u001b[0mys\u001b[0m\u001b[0;34m,\u001b[0m \u001b[0mzs\u001b[0m\u001b[0;34m,\u001b[0m \u001b[0ms\u001b[0m\u001b[0;34m,\u001b[0m \u001b[0mc\u001b[0m\u001b[0;34m)\u001b[0m\u001b[0;34m\u001b[0m\u001b[0;34m\u001b[0m\u001b[0m\n\u001b[1;32m   2326\u001b[0m \u001b[0;34m\u001b[0m\u001b[0m\n\u001b[0;32m-> 2327\u001b[0;31m         \u001b[0mpatches\u001b[0m \u001b[0;34m=\u001b[0m \u001b[0msuper\u001b[0m\u001b[0;34m(\u001b[0m\u001b[0;34m)\u001b[0m\u001b[0;34m.\u001b[0m\u001b[0mscatter\u001b[0m\u001b[0;34m(\u001b[0m\u001b[0mxs\u001b[0m\u001b[0;34m,\u001b[0m \u001b[0mys\u001b[0m\u001b[0;34m,\u001b[0m \u001b[0ms\u001b[0m\u001b[0;34m=\u001b[0m\u001b[0ms\u001b[0m\u001b[0;34m,\u001b[0m \u001b[0mc\u001b[0m\u001b[0;34m=\u001b[0m\u001b[0mc\u001b[0m\u001b[0;34m,\u001b[0m \u001b[0;34m*\u001b[0m\u001b[0margs\u001b[0m\u001b[0;34m,\u001b[0m \u001b[0;34m**\u001b[0m\u001b[0mkwargs\u001b[0m\u001b[0;34m)\u001b[0m\u001b[0;34m\u001b[0m\u001b[0;34m\u001b[0m\u001b[0m\n\u001b[0m\u001b[1;32m   2328\u001b[0m         art3d.patch_collection_2d_to_3d(patches, zs=zs, zdir=zdir,\n\u001b[1;32m   2329\u001b[0m                                         depthshade=depthshade)\n",
      "\u001b[0;32m/opt/conda/lib/python3.7/site-packages/matplotlib/__init__.py\u001b[0m in \u001b[0;36minner\u001b[0;34m(ax, data, *args, **kwargs)\u001b[0m\n\u001b[1;32m   1597\u001b[0m     \u001b[0;32mdef\u001b[0m \u001b[0minner\u001b[0m\u001b[0;34m(\u001b[0m\u001b[0max\u001b[0m\u001b[0;34m,\u001b[0m \u001b[0;34m*\u001b[0m\u001b[0margs\u001b[0m\u001b[0;34m,\u001b[0m \u001b[0mdata\u001b[0m\u001b[0;34m=\u001b[0m\u001b[0;32mNone\u001b[0m\u001b[0;34m,\u001b[0m \u001b[0;34m**\u001b[0m\u001b[0mkwargs\u001b[0m\u001b[0;34m)\u001b[0m\u001b[0;34m:\u001b[0m\u001b[0;34m\u001b[0m\u001b[0;34m\u001b[0m\u001b[0m\n\u001b[1;32m   1598\u001b[0m         \u001b[0;32mif\u001b[0m \u001b[0mdata\u001b[0m \u001b[0;32mis\u001b[0m \u001b[0;32mNone\u001b[0m\u001b[0;34m:\u001b[0m\u001b[0;34m\u001b[0m\u001b[0;34m\u001b[0m\u001b[0m\n\u001b[0;32m-> 1599\u001b[0;31m             \u001b[0;32mreturn\u001b[0m \u001b[0mfunc\u001b[0m\u001b[0;34m(\u001b[0m\u001b[0max\u001b[0m\u001b[0;34m,\u001b[0m \u001b[0;34m*\u001b[0m\u001b[0mmap\u001b[0m\u001b[0;34m(\u001b[0m\u001b[0msanitize_sequence\u001b[0m\u001b[0;34m,\u001b[0m \u001b[0margs\u001b[0m\u001b[0;34m)\u001b[0m\u001b[0;34m,\u001b[0m \u001b[0;34m**\u001b[0m\u001b[0mkwargs\u001b[0m\u001b[0;34m)\u001b[0m\u001b[0;34m\u001b[0m\u001b[0;34m\u001b[0m\u001b[0m\n\u001b[0m\u001b[1;32m   1600\u001b[0m \u001b[0;34m\u001b[0m\u001b[0m\n\u001b[1;32m   1601\u001b[0m         \u001b[0mbound\u001b[0m \u001b[0;34m=\u001b[0m \u001b[0mnew_sig\u001b[0m\u001b[0;34m.\u001b[0m\u001b[0mbind\u001b[0m\u001b[0;34m(\u001b[0m\u001b[0max\u001b[0m\u001b[0;34m,\u001b[0m \u001b[0;34m*\u001b[0m\u001b[0margs\u001b[0m\u001b[0;34m,\u001b[0m \u001b[0;34m**\u001b[0m\u001b[0mkwargs\u001b[0m\u001b[0;34m)\u001b[0m\u001b[0;34m\u001b[0m\u001b[0;34m\u001b[0m\u001b[0m\n",
      "\u001b[0;32m/opt/conda/lib/python3.7/site-packages/matplotlib/axes/_axes.py\u001b[0m in \u001b[0;36mscatter\u001b[0;34m(self, x, y, s, c, marker, cmap, norm, vmin, vmax, alpha, linewidths, verts, edgecolors, plotnonfinite, **kwargs)\u001b[0m\n\u001b[1;32m   4451\u001b[0m             self._parse_scatter_color_args(\n\u001b[1;32m   4452\u001b[0m                 \u001b[0mc\u001b[0m\u001b[0;34m,\u001b[0m \u001b[0medgecolors\u001b[0m\u001b[0;34m,\u001b[0m \u001b[0mkwargs\u001b[0m\u001b[0;34m,\u001b[0m \u001b[0mxshape\u001b[0m\u001b[0;34m,\u001b[0m \u001b[0myshape\u001b[0m\u001b[0;34m,\u001b[0m\u001b[0;34m\u001b[0m\u001b[0;34m\u001b[0m\u001b[0m\n\u001b[0;32m-> 4453\u001b[0;31m                 get_next_color_func=self._get_patches_for_fill.get_next_color)\n\u001b[0m\u001b[1;32m   4454\u001b[0m \u001b[0;34m\u001b[0m\u001b[0m\n\u001b[1;32m   4455\u001b[0m         \u001b[0;32mif\u001b[0m \u001b[0mplotnonfinite\u001b[0m \u001b[0;32mand\u001b[0m \u001b[0mcolors\u001b[0m \u001b[0;32mis\u001b[0m \u001b[0;32mNone\u001b[0m\u001b[0;34m:\u001b[0m\u001b[0;34m\u001b[0m\u001b[0;34m\u001b[0m\u001b[0m\n",
      "\u001b[0;32m/opt/conda/lib/python3.7/site-packages/matplotlib/axes/_axes.py\u001b[0m in \u001b[0;36m_parse_scatter_color_args\u001b[0;34m(c, edgecolors, kwargs, xshape, yshape, get_next_color_func)\u001b[0m\n\u001b[1;32m   4295\u001b[0m                         \u001b[0;34m\"acceptable for use with 'x' with size {xs}, \"\u001b[0m\u001b[0;34m\u001b[0m\u001b[0;34m\u001b[0m\u001b[0m\n\u001b[1;32m   4296\u001b[0m                         \u001b[0;34m\"'y' with size {ys}.\"\u001b[0m\u001b[0;34m\u001b[0m\u001b[0;34m\u001b[0m\u001b[0m\n\u001b[0;32m-> 4297\u001b[0;31m                             \u001b[0;34m.\u001b[0m\u001b[0mformat\u001b[0m\u001b[0;34m(\u001b[0m\u001b[0mnc\u001b[0m\u001b[0;34m=\u001b[0m\u001b[0mn_elem\u001b[0m\u001b[0;34m,\u001b[0m \u001b[0mxs\u001b[0m\u001b[0;34m=\u001b[0m\u001b[0mxsize\u001b[0m\u001b[0;34m,\u001b[0m \u001b[0mys\u001b[0m\u001b[0;34m=\u001b[0m\u001b[0mysize\u001b[0m\u001b[0;34m)\u001b[0m\u001b[0;34m\u001b[0m\u001b[0;34m\u001b[0m\u001b[0m\n\u001b[0m\u001b[1;32m   4298\u001b[0m                     )\n\u001b[1;32m   4299\u001b[0m                 \u001b[0;32melse\u001b[0m\u001b[0;34m:\u001b[0m\u001b[0;34m\u001b[0m\u001b[0;34m\u001b[0m\u001b[0m\n",
      "\u001b[0;31mValueError\u001b[0m: 'c' argument has 50128 elements, which is not acceptable for use with 'x' with size 50128, 'y' with size 50128."
     ]
    },
    {
     "data": {
      "image/png": "[encoded data removed]",
      "text/plain": [
       "<Figure size 720x504 with 1 Axes>"
      ]
     },
     "metadata": {
      "needs_background": "light"
     },
     "output_type": "display_data"
    }
   ],
   "source": [
    "from mpl_toolkits.mplot3d import Axes3D\n",
    "import matplotlib.pyplot as plt\n",
    "import numpy as np\n",
    "\n",
    "fig = plt.figure(figsize =(10, 7))\n",
    "ax = fig.add_subplot(111, projection='3d')\n",
    "\n",
    "x = mean_target_part1\n",
    "y = mean_target_part4\n",
    "z = mean_target_part2\n",
    "c = mean_target_part3\n",
    "\n",
    "x1 = mean_standard_part1\n",
    "y1 = mean_standard_part4\n",
    "z1 = mean_standard_part2\n",
    "c1 = mean_standard_part3\n",
    "\n",
    "img2 = ax.scatter(x1, y1, z1, c=c1, s = 100, marker = \"*\", cmap=plt.winter())\n",
    "cbar = fig.colorbar(img2)\n",
    "cbar.set_label('Pendiente de la ventana 1')\n",
    "\n",
    "ax.set_xlabel('Pendiente de la ventana 3')\n",
    "ax.set_ylabel('Pendiente de la ventana 4')\n",
    "ax.set_zlabel('Pendiente de la ventana 2')\n",
    "ax.set_label('Pendiente de la ventana 1')\n",
    "plt.title('Pendientes en diferentes ventanas, los + P300 y los * son No P300')\n",
    "\n",
    "\n",
    "img = ax.scatter(x, y, z, c=c, s = 100,marker = \"+\", cmap=plt.winter())\n",
    "ax.view_init(40, 10)\n",
    "#fig.colorbar(img,img2)\n",
    "fig.savefig('scatter_Competition')\n",
    "plt.show()"
   ]
  },
  {
   "cell_type": "code",
   "execution_count": 13,
   "metadata": {
    "colab": {
     "base_uri": "https://localhost:8080/"
    },
    "executionInfo": {
     "elapsed": 9,
     "status": "ok",
     "timestamp": 1699448774704,
     "user": {
      "displayName": "Ivan Daniel Villegas Isasa",
      "userId": "00302774522595278560"
     },
     "user_tz": 300
    },
    "id": "U0wCVROXk9qb",
    "outputId": "068bf363-cfb0-4071-83fa-017cb1a88428"
   },
   "outputs": [
    {
     "name": "stdout",
     "output_type": "stream",
     "text": [
      "(10026, 4)\n",
      "(50128, 4)\n"
     ]
    }
   ],
   "source": [
    "featuresT = np.concatenate((mean_target_part1, mean_target_part2, mean_target_part3, mean_target_part4), axis=1)\n",
    "featuresF = np.concatenate((mean_standard_part1, mean_standard_part2, mean_standard_part3, mean_standard_part4), axis=1)\n",
    "print(featuresT.shape)\n",
    "print(featuresF.shape)"
   ]
  },
  {
   "cell_type": "code",
   "execution_count": 14,
   "metadata": {
    "colab": {
     "base_uri": "https://localhost:8080/"
    },
    "executionInfo": {
     "elapsed": 6,
     "status": "ok",
     "timestamp": 1699448774704,
     "user": {
      "displayName": "Ivan Daniel Villegas Isasa",
      "userId": "00302774522595278560"
     },
     "user_tz": 300
    },
    "id": "CCZGBvftlYZe",
    "outputId": "220df8c9-0864-4cdf-e910-e76b7d6ac1b1"
   },
   "outputs": [
    {
     "name": "stdout",
     "output_type": "stream",
     "text": [
      "(10026,)\n",
      "(50128,)\n"
     ]
    }
   ],
   "source": [
    "labelT = np.ones([len(mean_target_part1)])\n",
    "labelF = np.zeros([len(mean_standard_part1)])\n",
    "print(labelT.shape)\n",
    "print(labelF.shape)"
   ]
  },
  {
   "cell_type": "code",
   "execution_count": 15,
   "metadata": {
    "colab": {
     "base_uri": "https://localhost:8080/"
    },
    "executionInfo": {
     "elapsed": 5,
     "status": "ok",
     "timestamp": 1699448774704,
     "user": {
      "displayName": "Ivan Daniel Villegas Isasa",
      "userId": "00302774522595278560"
     },
     "user_tz": 300
    },
    "id": "SuQHy-lolyAD",
    "outputId": "6d93747c-600d-416e-cb57-84f1f973ad41"
   },
   "outputs": [
    {
     "name": "stdout",
     "output_type": "stream",
     "text": [
      "(60154, 4)\n",
      "(60154,)\n"
     ]
    }
   ],
   "source": [
    "features = np.concatenate((featuresT,featuresF), axis=0)\n",
    "labels = np.concatenate((labelT,labelF), axis=0)\n",
    "\n",
    "print(features.shape)\n",
    "print(labels.shape)"
   ]
  },
  {
   "cell_type": "markdown",
   "metadata": {
    "id": "rotdcfdR_s-S"
   },
   "source": [
    "## División del dataset"
   ]
  },
  {
   "cell_type": "code",
   "execution_count": 16,
   "metadata": {
    "executionInfo": {
     "elapsed": 556,
     "status": "ok",
     "timestamp": 1699448775257,
     "user": {
      "displayName": "Ivan Daniel Villegas Isasa",
      "userId": "00302774522595278560"
     },
     "user_tz": 300
    },
    "id": "rbEjFAS_mHQF"
   },
   "outputs": [],
   "source": [
    "import numpy as np\n",
    "from sklearn.discriminant_analysis import LinearDiscriminantAnalysis\n",
    "from sklearn.model_selection import train_test_split\n",
    "from sklearn.metrics import confusion_matrix, classification_report, f1_score, precision_score, accuracy_score\n",
    "from sklearn.model_selection import cross_val_score, cross_validate\n"
   ]
  },
  {
   "cell_type": "code",
   "execution_count": 17,
   "metadata": {
    "colab": {
     "base_uri": "https://localhost:8080/"
    },
    "executionInfo": {
     "elapsed": 276,
     "status": "ok",
     "timestamp": 1699448775531,
     "user": {
      "displayName": "Ivan Daniel Villegas Isasa",
      "userId": "00302774522595278560"
     },
     "user_tz": 300
    },
    "id": "UA1U7RYJ4NOs",
    "outputId": "821c2927-792c-45c3-a329-5e2d83ce7293"
   },
   "outputs": [
    {
     "name": "stdout",
     "output_type": "stream",
     "text": [
      "(36092, 4)\n",
      "(12031, 4)\n",
      "(12031, 4)\n"
     ]
    }
   ],
   "source": [
    "\n",
    "# Crear los datos de las características (X) y las etiquetas de las clases (y)\n",
    "# Estos son datos de prueba, debes reemplazarlos por tus datos reales\n",
    "X = features # Arreglo con los valores de las cuatro características\n",
    "y = labels # Arreglo con las etiquetas de las clases (0 o 1)\n",
    "\n",
    "# Dividir los datos en train y test usando una proporción de 80/20\n",
    "X_train, X_test, y_train, y_test = train_test_split(X, y, test_size=0.2, random_state=42)\n",
    "\n",
    "# Dividir el subconjunto de train en train y validation usando una proporción de 75/25\n",
    "X_train, X_val, y_train, y_val = train_test_split(X_train, y_train, test_size=0.25, random_state=42)\n",
    "\n",
    "# Mostrar el resultado\n",
    "print(X_train.shape) # (2052, 4)\n",
    "print(X_val.shape) # (684, 4)\n",
    "print(X_test.shape) # (684, 4)"
   ]
  },
  {
   "cell_type": "markdown",
   "metadata": {
    "id": "V_kdrwlT_2GN"
   },
   "source": [
    "## Entrenamiento"
   ]
  },
  {
   "cell_type": "code",
   "execution_count": 18,
   "metadata": {
    "colab": {
     "base_uri": "https://localhost:8080/"
    },
    "executionInfo": {
     "elapsed": 1005,
     "status": "ok",
     "timestamp": 1699448776534,
     "user": {
      "displayName": "Ivan Daniel Villegas Isasa",
      "userId": "00302774522595278560"
     },
     "user_tz": 300
    },
    "id": "kHQgaI-oobQ-",
    "outputId": "10e345c2-98c4-4612-8654-52fd68e6de94"
   },
   "outputs": [
    {
     "name": "stdout",
     "output_type": "stream",
     "text": [
      "F1 SCORE: 0.09049011759133134\n",
      "Recall: 0.04807916307161346\n",
      "Precision: 0.8771278122626208\n",
      "Accuracy: 0.8381914766201302\n"
     ]
    }
   ],
   "source": [
    "import numpy as np\n",
    "from sklearn.discriminant_analysis import LinearDiscriminantAnalysis\n",
    "from sklearn.model_selection import cross_validate\n",
    "from sklearn.metrics import f1_score, precision_score, accuracy_score, recall_score, make_scorer\n",
    "\n",
    "# Estos son datos de prueba, debes reemplazarlos por tus datos reales\n",
    "X = X_train # Arreglo con los valores de las cuatro características\n",
    "y = y_train # Arreglo con las etiquetas de las clases (0 o 1)\n",
    "\n",
    "# Crear el clasificador de discriminante lineal\n",
    "lda = LinearDiscriminantAnalysis()\n",
    "\n",
    "# Crear un diccionario que mapee los nombres de las métricas con las funciones\n",
    "scoring = ['f1', 'recall', 'precision', 'accuracy']\n",
    "scores1 = cross_validate(lda, X, y, cv=20, scoring=scoring)\n",
    "\n",
    "\n",
    "print('F1 SCORE:', scores1['test_f1'].mean())\n",
    "print('Recall:', scores1['test_recall'].mean())\n",
    "print('Precision:', scores1['test_precision'].mean())\n",
    "print('Accuracy:', scores1['test_accuracy'].mean())\n",
    "#print(scores1)"
   ]
  },
  {
   "cell_type": "code",
   "execution_count": 19,
   "metadata": {
    "colab": {
     "base_uri": "https://localhost:8080/"
    },
    "executionInfo": {
     "elapsed": 675,
     "status": "ok",
     "timestamp": 1699448777206,
     "user": {
      "displayName": "Ivan Daniel Villegas Isasa",
      "userId": "00302774522595278560"
     },
     "user_tz": 300
    },
    "id": "aLYDZIC3AZxc",
    "outputId": "1f984388-4891-44ca-fbee-e62ce7de8716"
   },
   "outputs": [
    {
     "name": "stdout",
     "output_type": "stream",
     "text": [
      "F1 SCORE: 1.0\n",
      "Recall: 1.0\n",
      "Precision: 1.0\n",
      "Accuracy: 1.0\n"
     ]
    }
   ],
   "source": [
    "from sklearn import tree\n",
    "\n",
    "X = X_train # Arreglo con los valores de las cuatro características\n",
    "y = y_train # Arreglo con las etiquetas de las clases (0 o 1)\n",
    "\n",
    "# Crea una instancia de la clase SVC\n",
    "tr = tree.DecisionTreeClassifier(max_depth=7)\n",
    "\n",
    "# Realiza validación cruzada en los datos\n",
    "scoring = ['f1', 'recall', 'precision', 'accuracy']\n",
    "scores2 = cross_validate(tr, X, y, cv=20, scoring=scoring)\n",
    "\n",
    "print('F1 SCORE:', scores2['test_f1'].mean())\n",
    "print('Recall:', scores2['test_recall'].mean())\n",
    "print('Precision:', scores2['test_precision'].mean())\n",
    "print('Accuracy:', scores2['test_accuracy'].mean())\n",
    "#print(scores2)"
   ]
  },
  {
   "cell_type": "code",
   "execution_count": 20,
   "metadata": {
    "colab": {
     "base_uri": "https://localhost:8080/"
    },
    "executionInfo": {
     "elapsed": 21236,
     "status": "ok",
     "timestamp": 1699448798440,
     "user": {
      "displayName": "Ivan Daniel Villegas Isasa",
      "userId": "00302774522595278560"
     },
     "user_tz": 300
    },
    "id": "IPGN1GEdaxcE",
    "outputId": "2a4714f1-7960-4a85-9fee-6330602228a9"
   },
   "outputs": [
    {
     "name": "stdout",
     "output_type": "stream",
     "text": [
      "F1 SCORE: 1.0\n",
      "Recall: 1.0\n",
      "Precision: 1.0\n",
      "Accuracy: 1.0\n"
     ]
    }
   ],
   "source": [
    "from sklearn.ensemble import RandomForestClassifier\n",
    "from sklearn.model_selection import cross_val_score\n",
    "import numpy as np\n",
    "\n",
    "X = X_train # Arreglo con los valores de las cuatro características\n",
    "y = y_train # Arreglo con las etiquetas de las clases (0 o 1)\n",
    "\n",
    "# Crea una instancia del clasificador Random Forest\n",
    "rfc = RandomForestClassifier(n_estimators=100, max_depth=2, random_state=42)\n",
    "\n",
    "# Realiza validación cruzada en los datos\n",
    "scoring = ['f1', 'recall', 'precision', 'accuracy']\n",
    "scores3 = cross_validate(rfc, X, y, cv=20, scoring=scoring)\n",
    "\n",
    "print('F1 SCORE:', scores3['test_f1'].mean())\n",
    "print('Recall:', scores3['test_recall'].mean())\n",
    "print('Precision:', scores3['test_precision'].mean())\n",
    "print('Accuracy:', scores3['test_accuracy'].mean())\n",
    "#print(scores3)"
   ]
  },
  {
   "cell_type": "code",
   "execution_count": 21,
   "metadata": {
    "colab": {
     "base_uri": "https://localhost:8080/"
    },
    "executionInfo": {
     "elapsed": 4969,
     "status": "ok",
     "timestamp": 1699448803406,
     "user": {
      "displayName": "Ivan Daniel Villegas Isasa",
      "userId": "00302774522595278560"
     },
     "user_tz": 300
    },
    "id": "He7EmP-ch5Ak",
    "outputId": "74ff8b91-d5ca-42d1-be2e-77ba199fba66"
   },
   "outputs": [
    {
     "name": "stdout",
     "output_type": "stream",
     "text": [
      "F1 SCORE: 0.9941338467923359\n",
      "Recall: 1.0\n",
      "Precision: 0.9883476916505443\n",
      "Accuracy: 0.9980050795093698\n"
     ]
    }
   ],
   "source": [
    "from sklearn.svm import SVC\n",
    "\n",
    "X = X_train # Arreglo con los valores de las cuatro características\n",
    "y = y_train # Arreglo con las etiquetas de las clases (0 o 1)\n",
    "\n",
    "# Crea una instancia de la clase SVC\n",
    "svm = SVC(gamma=\"auto\",kernel='rbf', C=1)\n",
    "\n",
    "# Realiza validación cruzada en los datos\n",
    "scoring = ['f1', 'recall', 'precision', 'accuracy']\n",
    "scores4 = cross_validate(svm, X, y, cv=20, scoring=scoring)\n",
    "\n",
    "print('F1 SCORE:', scores4['test_f1'].mean())\n",
    "print('Recall:', scores4['test_recall'].mean())\n",
    "print('Precision:', scores4['test_precision'].mean())\n",
    "print('Accuracy:', scores4['test_accuracy'].mean())\n",
    "#print(scores4)"
   ]
  },
  {
   "cell_type": "markdown",
   "metadata": {
    "id": "LE-imsb__9PC"
   },
   "source": [
    "## Test"
   ]
  },
  {
   "cell_type": "code",
   "execution_count": 22,
   "metadata": {
    "executionInfo": {
     "elapsed": 10,
     "status": "ok",
     "timestamp": 1699448803407,
     "user": {
      "displayName": "Ivan Daniel Villegas Isasa",
      "userId": "00302774522595278560"
     },
     "user_tz": 300
    },
    "id": "SFokmJJnAJIo"
   },
   "outputs": [],
   "source": [
    "from sklearn.metrics import confusion_matrix, cohen_kappa_score, precision_score, accuracy_score, recall_score, f1_score, roc_auc_score\n",
    "def evaluacion (y_test, y_predi):\n",
    "  cm = confusion_matrix(y_test, y_predi, normalize='true')\n",
    "  acc = accuracy_score(y_true=y_test , y_pred= y_predi)\n",
    "  pre = precision_score(y_true=y_test , y_pred= y_predi)\n",
    "  rec = recall_score(y_true=y_test , y_pred= y_predi)\n",
    "  f1 = f1_score(y_true=y_test , y_pred= y_predi)\n",
    "  k = cohen_kappa_score(y1=y_test, y2=y_predi)\n",
    "\n",
    "  return {'Conf_Matrix':[cm],'Accuracy':acc,'Precision':pre,'Recall':rec,'F1_Score':f1,'Cohen_Kappa':k}\n",
    "\n",
    "def comparar_modelos(y_test,y_predi,modelos):\n",
    "  for i in range(len(y_test)):\n",
    "    eval = evaluacion(y_test[i],y_predi[i])\n",
    "    if(i==0):\n",
    "      df = pd.DataFrame(eval, index=[0])\n",
    "    else:\n",
    "      df = df.append(eval, ignore_index=True)\n",
    "  df['modelo'] = modelos\n",
    "  df = df.reindex(columns=['modelo', 'Accuracy', 'Precision', 'Recall', 'F1_Score', 'Cohen_Kappa','Conf_Matrix'])\n",
    "  fig = df.plot(kind = 'bar', x='modelo')\n",
    "  #hist_modelos(df)\n",
    "  return df, fig"
   ]
  },
  {
   "cell_type": "code",
   "execution_count": 23,
   "metadata": {
    "colab": {
     "base_uri": "https://localhost:8080/",
     "height": 835
    },
    "executionInfo": {
     "elapsed": 4591,
     "status": "ok",
     "timestamp": 1699448807989,
     "user": {
      "displayName": "Ivan Daniel Villegas Isasa",
      "userId": "00302774522595278560"
     },
     "user_tz": 300
    },
    "id": "zmYcHfwSCmKE",
    "outputId": "37a3fdc1-fef2-4777-dbd3-d7cc55868a7c"
   },
   "outputs": [
    {
     "name": "stdout",
     "output_type": "stream",
     "text": [
      "4 4\n"
     ]
    },
    {
     "data": {
      "text/html": [
       "<div>\n",
       "<style scoped>\n",
       "    .dataframe tbody tr th:only-of-type {\n",
       "        vertical-align: middle;\n",
       "    }\n",
       "\n",
       "    .dataframe tbody tr th {\n",
       "        vertical-align: top;\n",
       "    }\n",
       "\n",
       "    .dataframe thead th {\n",
       "        text-align: right;\n",
       "    }\n",
       "</style>\n",
       "<table border=\"1\" class=\"dataframe\">\n",
       "  <thead>\n",
       "    <tr style=\"text-align: right;\">\n",
       "      <th></th>\n",
       "      <th>modelo</th>\n",
       "      <th>Accuracy</th>\n",
       "      <th>Precision</th>\n",
       "      <th>Recall</th>\n",
       "      <th>F1_Score</th>\n",
       "      <th>Cohen_Kappa</th>\n",
       "      <th>Conf_Matrix</th>\n",
       "    </tr>\n",
       "  </thead>\n",
       "  <tbody>\n",
       "    <tr>\n",
       "      <th>0</th>\n",
       "      <td>LDA</td>\n",
       "      <td>0.839165</td>\n",
       "      <td>0.87156</td>\n",
       "      <td>0.047123</td>\n",
       "      <td>0.089412</td>\n",
       "      <td>0.073485</td>\n",
       "      <td>[[0.9986020968547179, 0.001397903145282077], [...</td>\n",
       "    </tr>\n",
       "    <tr>\n",
       "      <th>1</th>\n",
       "      <td>Tree</td>\n",
       "      <td>1.000000</td>\n",
       "      <td>1.00000</td>\n",
       "      <td>1.000000</td>\n",
       "      <td>1.000000</td>\n",
       "      <td>1.000000</td>\n",
       "      <td>[[[1.0, 0.0], [0.0, 1.0]]]</td>\n",
       "    </tr>\n",
       "    <tr>\n",
       "      <th>2</th>\n",
       "      <td>RF</td>\n",
       "      <td>1.000000</td>\n",
       "      <td>1.00000</td>\n",
       "      <td>1.000000</td>\n",
       "      <td>1.000000</td>\n",
       "      <td>1.000000</td>\n",
       "      <td>[[[1.0, 0.0], [0.0, 1.0]]]</td>\n",
       "    </tr>\n",
       "    <tr>\n",
       "      <th>3</th>\n",
       "      <td>SVM</td>\n",
       "      <td>0.839165</td>\n",
       "      <td>0.87156</td>\n",
       "      <td>0.047123</td>\n",
       "      <td>0.089412</td>\n",
       "      <td>0.073485</td>\n",
       "      <td>[[[0.9986020968547179, 0.001397903145282077], ...</td>\n",
       "    </tr>\n",
       "  </tbody>\n",
       "</table>\n",
       "</div>"
      ],
      "text/plain": [
       "  modelo  Accuracy  Precision    Recall  F1_Score  Cohen_Kappa  \\\n",
       "0    LDA  0.839165    0.87156  0.047123  0.089412     0.073485   \n",
       "1   Tree  1.000000    1.00000  1.000000  1.000000     1.000000   \n",
       "2     RF  1.000000    1.00000  1.000000  1.000000     1.000000   \n",
       "3    SVM  0.839165    0.87156  0.047123  0.089412     0.073485   \n",
       "\n",
       "                                         Conf_Matrix  \n",
       "0  [[0.9986020968547179, 0.001397903145282077], [...  \n",
       "1                         [[[1.0, 0.0], [0.0, 1.0]]]  \n",
       "2                         [[[1.0, 0.0], [0.0, 1.0]]]  \n",
       "3  [[[0.9986020968547179, 0.001397903145282077], ...  "
      ]
     },
     "execution_count": 23,
     "metadata": {},
     "output_type": "execute_result"
    },
    {
     "data": {
      "image/png": "[encoded data removed]",
      "text/plain": [
       "<Figure size 432x288 with 1 Axes>"
      ]
     },
     "metadata": {
      "needs_background": "light"
     },
     "output_type": "display_data"
    }
   ],
   "source": [
    "lda.fit(X, y)\n",
    "tr = tr.fit(X_train, y_train)\n",
    "rfc.fit(X, y)\n",
    "svm.fit(X, y)\n",
    "\n",
    "y_pred_lda = lda.predict(X_test)\n",
    "y_pred_tr = tr.predict(X_test)\n",
    "y_pred_rfc = rfc.predict(X_test)\n",
    "y_pred_svm = lda.predict(X_test)\n",
    "Y_test = [y_test, y_test, y_test, y_test]\n",
    "y_predi = [y_pred_lda, y_pred_tr, y_pred_rfc, y_pred_svm]\n",
    "print(len(Y_test), len(y_predi))\n",
    "modelos = ['LDA','Tree','RF','SVM']\n",
    "df, fig = comparar_modelos(Y_test,y_predi,modelos)\n",
    "df"
   ]
  },
  {
   "cell_type": "code",
   "execution_count": 24,
   "metadata": {
    "executionInfo": {
     "elapsed": 3,
     "status": "ok",
     "timestamp": 1699448807989,
     "user": {
      "displayName": "Ivan Daniel Villegas Isasa",
      "userId": "00302774522595278560"
     },
     "user_tz": 300
    },
    "id": "TM4hlFMkPnbH"
   },
   "outputs": [],
   "source": [
    "#from sklearn.metrics import clasification_report\n",
    "#print(clasification_report(y_test, y_pred_rfc))"
   ]
  },
  {
   "cell_type": "markdown",
   "metadata": {
    "id": "J76af7kl3iWS"
   },
   "source": [
    "https://www.fisterra.com/formacion/metodologia-investigacion/medidas-concordancia-indice-kappa/"
   ]
  },
  {
   "cell_type": "code",
   "execution_count": 25,
   "metadata": {
    "executionInfo": {
     "elapsed": 2,
     "status": "ok",
     "timestamp": 1699448807989,
     "user": {
      "displayName": "Ivan Daniel Villegas Isasa",
      "userId": "00302774522595278560"
     },
     "user_tz": 300
    },
    "id": "zBPYK7fFizTZ"
   },
   "outputs": [],
   "source": [
    "#importances = rfc.feature_importances_\n",
    "#print(importances)\n",
    "#columns = ['M ventana 1', 'M ventana 2', 'M ventana 3', 'M ventana 4']\n",
    "#print(columns)\n",
    "#sns.barplot(x=columns, y=importances, palette='bright', saturation=2.0, edgecolor='black', linewidth=2)\n",
    "#plt.title('Importancia de cada Feature')\n",
    "#plt.show()"
   ]
  },
  {
   "cell_type": "code",
   "execution_count": 26,
   "metadata": {
    "executionInfo": {
     "elapsed": 2,
     "status": "ok",
     "timestamp": 1699448807989,
     "user": {
      "displayName": "Ivan Daniel Villegas Isasa",
      "userId": "00302774522595278560"
     },
     "user_tz": 300
    },
    "id": "fh4grPFvumCE"
   },
   "outputs": [],
   "source": [
    "#import graphviz\n",
    "#dot_data = tree.export_graphviz(tr, out_file=None)\n",
    "#graph = graphviz.Source(dot_data)\n",
    "#graph.render(\"iris\")\n",
    "\n",
    "\n",
    "#dot_data = tree.export_graphviz(tr, out_file=None,\n",
    "#                         feature_names=columns,\n",
    "#                         class_names='P300',\n",
    "#                         filled=True, rounded=True,\n",
    "#                         special_characters=True)\n",
    "#graph = graphviz.Source(dot_data)\n",
    "#graph"
   ]
  },
  {
   "cell_type": "code",
   "execution_count": 27,
   "metadata": {
    "executionInfo": {
     "elapsed": 2,
     "status": "ok",
     "timestamp": 1699448807989,
     "user": {
      "displayName": "Ivan Daniel Villegas Isasa",
      "userId": "00302774522595278560"
     },
     "user_tz": 300
    },
    "id": "CUlzL6iLa-P1"
   },
   "outputs": [],
   "source": [
    "import pandas as pd\n",
    "def tup2data(scores1, clasificador):\n",
    "  data_tuples = list(zip(scores1.keys(), scores1.values()))\n",
    "  df1 = pd.DataFrame(data=data_tuples, columns=['metric', 'values'])\n",
    "  df1 = df1.explode('values')\n",
    "  df1['classifier'] = clasificador\n",
    "  return df1"
   ]
  },
  {
   "cell_type": "code",
   "execution_count": 28,
   "metadata": {
    "executionInfo": {
     "elapsed": 281,
     "status": "ok",
     "timestamp": 1699448808268,
     "user": {
      "displayName": "Ivan Daniel Villegas Isasa",
      "userId": "00302774522595278560"
     },
     "user_tz": 300
    },
    "id": "ytDXknYfqBfw"
   },
   "outputs": [],
   "source": [
    "df1 = tup2data(scores1,'LDA')\n",
    "df2 = tup2data(scores2,'Tree')\n",
    "df3 = tup2data(scores3,'RF')\n",
    "df4 = tup2data(scores4,'SVM')"
   ]
  },
  {
   "cell_type": "code",
   "execution_count": 29,
   "metadata": {
    "colab": {
     "base_uri": "https://localhost:8080/",
     "height": 424
    },
    "executionInfo": {
     "elapsed": 6,
     "status": "ok",
     "timestamp": 1699448808268,
     "user": {
      "displayName": "Ivan Daniel Villegas Isasa",
      "userId": "00302774522595278560"
     },
     "user_tz": 300
    },
    "id": "xdeBIzjMqu1m",
    "outputId": "ff8a5af1-cd79-4613-b02b-7b55500e8108"
   },
   "outputs": [
    {
     "data": {
      "text/html": [
       "<div>\n",
       "<style scoped>\n",
       "    .dataframe tbody tr th:only-of-type {\n",
       "        vertical-align: middle;\n",
       "    }\n",
       "\n",
       "    .dataframe tbody tr th {\n",
       "        vertical-align: top;\n",
       "    }\n",
       "\n",
       "    .dataframe thead th {\n",
       "        text-align: right;\n",
       "    }\n",
       "</style>\n",
       "<table border=\"1\" class=\"dataframe\">\n",
       "  <thead>\n",
       "    <tr style=\"text-align: right;\">\n",
       "      <th></th>\n",
       "      <th>metric</th>\n",
       "      <th>values</th>\n",
       "      <th>classifier</th>\n",
       "    </tr>\n",
       "  </thead>\n",
       "  <tbody>\n",
       "    <tr>\n",
       "      <th>0</th>\n",
       "      <td>fit_time</td>\n",
       "      <td>0.0182858</td>\n",
       "      <td>LDA</td>\n",
       "    </tr>\n",
       "    <tr>\n",
       "      <th>0</th>\n",
       "      <td>fit_time</td>\n",
       "      <td>0.019556</td>\n",
       "      <td>LDA</td>\n",
       "    </tr>\n",
       "    <tr>\n",
       "      <th>0</th>\n",
       "      <td>fit_time</td>\n",
       "      <td>0.0193665</td>\n",
       "      <td>LDA</td>\n",
       "    </tr>\n",
       "    <tr>\n",
       "      <th>0</th>\n",
       "      <td>fit_time</td>\n",
       "      <td>0.0216708</td>\n",
       "      <td>LDA</td>\n",
       "    </tr>\n",
       "    <tr>\n",
       "      <th>0</th>\n",
       "      <td>fit_time</td>\n",
       "      <td>0.0196431</td>\n",
       "      <td>LDA</td>\n",
       "    </tr>\n",
       "    <tr>\n",
       "      <th>...</th>\n",
       "      <td>...</td>\n",
       "      <td>...</td>\n",
       "      <td>...</td>\n",
       "    </tr>\n",
       "    <tr>\n",
       "      <th>5</th>\n",
       "      <td>test_accuracy</td>\n",
       "      <td>0.997228</td>\n",
       "      <td>SVM</td>\n",
       "    </tr>\n",
       "    <tr>\n",
       "      <th>5</th>\n",
       "      <td>test_accuracy</td>\n",
       "      <td>0.997228</td>\n",
       "      <td>SVM</td>\n",
       "    </tr>\n",
       "    <tr>\n",
       "      <th>5</th>\n",
       "      <td>test_accuracy</td>\n",
       "      <td>0.997783</td>\n",
       "      <td>SVM</td>\n",
       "    </tr>\n",
       "    <tr>\n",
       "      <th>5</th>\n",
       "      <td>test_accuracy</td>\n",
       "      <td>0.998337</td>\n",
       "      <td>SVM</td>\n",
       "    </tr>\n",
       "    <tr>\n",
       "      <th>5</th>\n",
       "      <td>test_accuracy</td>\n",
       "      <td>0.998891</td>\n",
       "      <td>SVM</td>\n",
       "    </tr>\n",
       "  </tbody>\n",
       "</table>\n",
       "<p>480 rows × 3 columns</p>\n",
       "</div>"
      ],
      "text/plain": [
       "           metric     values classifier\n",
       "0        fit_time  0.0182858        LDA\n",
       "0        fit_time   0.019556        LDA\n",
       "0        fit_time  0.0193665        LDA\n",
       "0        fit_time  0.0216708        LDA\n",
       "0        fit_time  0.0196431        LDA\n",
       "..            ...        ...        ...\n",
       "5   test_accuracy   0.997228        SVM\n",
       "5   test_accuracy   0.997228        SVM\n",
       "5   test_accuracy   0.997783        SVM\n",
       "5   test_accuracy   0.998337        SVM\n",
       "5   test_accuracy   0.998891        SVM\n",
       "\n",
       "[480 rows x 3 columns]"
      ]
     },
     "execution_count": 29,
     "metadata": {},
     "output_type": "execute_result"
    }
   ],
   "source": [
    "df = pd.concat([df1, df2, df3, df4], axis = 0)\n",
    "df"
   ]
  },
  {
   "cell_type": "code",
   "execution_count": 30,
   "metadata": {
    "colab": {
     "base_uri": "https://localhost:8080/",
     "height": 424
    },
    "executionInfo": {
     "elapsed": 205,
     "status": "ok",
     "timestamp": 1699448808468,
     "user": {
      "displayName": "Ivan Daniel Villegas Isasa",
      "userId": "00302774522595278560"
     },
     "user_tz": 300
    },
    "id": "yAAgpgF_chwI",
    "outputId": "26d43a0f-9c8c-4c98-e6eb-0491aecef5a8"
   },
   "outputs": [
    {
     "data": {
      "text/html": [
       "<div>\n",
       "<style scoped>\n",
       "    .dataframe tbody tr th:only-of-type {\n",
       "        vertical-align: middle;\n",
       "    }\n",
       "\n",
       "    .dataframe tbody tr th {\n",
       "        vertical-align: top;\n",
       "    }\n",
       "\n",
       "    .dataframe thead th {\n",
       "        text-align: right;\n",
       "    }\n",
       "</style>\n",
       "<table border=\"1\" class=\"dataframe\">\n",
       "  <thead>\n",
       "    <tr style=\"text-align: right;\">\n",
       "      <th></th>\n",
       "      <th>metric</th>\n",
       "      <th>values</th>\n",
       "      <th>classifier</th>\n",
       "    </tr>\n",
       "  </thead>\n",
       "  <tbody>\n",
       "    <tr>\n",
       "      <th>2</th>\n",
       "      <td>test_f1</td>\n",
       "      <td>0.0447284</td>\n",
       "      <td>LDA</td>\n",
       "    </tr>\n",
       "    <tr>\n",
       "      <th>2</th>\n",
       "      <td>test_f1</td>\n",
       "      <td>0.0626959</td>\n",
       "      <td>LDA</td>\n",
       "    </tr>\n",
       "    <tr>\n",
       "      <th>2</th>\n",
       "      <td>test_f1</td>\n",
       "      <td>0.0384615</td>\n",
       "      <td>LDA</td>\n",
       "    </tr>\n",
       "    <tr>\n",
       "      <th>2</th>\n",
       "      <td>test_f1</td>\n",
       "      <td>0.155224</td>\n",
       "      <td>LDA</td>\n",
       "    </tr>\n",
       "    <tr>\n",
       "      <th>2</th>\n",
       "      <td>test_f1</td>\n",
       "      <td>0.056962</td>\n",
       "      <td>LDA</td>\n",
       "    </tr>\n",
       "    <tr>\n",
       "      <th>...</th>\n",
       "      <td>...</td>\n",
       "      <td>...</td>\n",
       "      <td>...</td>\n",
       "    </tr>\n",
       "    <tr>\n",
       "      <th>5</th>\n",
       "      <td>test_accuracy</td>\n",
       "      <td>0.997228</td>\n",
       "      <td>SVM</td>\n",
       "    </tr>\n",
       "    <tr>\n",
       "      <th>5</th>\n",
       "      <td>test_accuracy</td>\n",
       "      <td>0.997228</td>\n",
       "      <td>SVM</td>\n",
       "    </tr>\n",
       "    <tr>\n",
       "      <th>5</th>\n",
       "      <td>test_accuracy</td>\n",
       "      <td>0.997783</td>\n",
       "      <td>SVM</td>\n",
       "    </tr>\n",
       "    <tr>\n",
       "      <th>5</th>\n",
       "      <td>test_accuracy</td>\n",
       "      <td>0.998337</td>\n",
       "      <td>SVM</td>\n",
       "    </tr>\n",
       "    <tr>\n",
       "      <th>5</th>\n",
       "      <td>test_accuracy</td>\n",
       "      <td>0.998891</td>\n",
       "      <td>SVM</td>\n",
       "    </tr>\n",
       "  </tbody>\n",
       "</table>\n",
       "<p>320 rows × 3 columns</p>\n",
       "</div>"
      ],
      "text/plain": [
       "           metric     values classifier\n",
       "2         test_f1  0.0447284        LDA\n",
       "2         test_f1  0.0626959        LDA\n",
       "2         test_f1  0.0384615        LDA\n",
       "2         test_f1   0.155224        LDA\n",
       "2         test_f1   0.056962        LDA\n",
       "..            ...        ...        ...\n",
       "5   test_accuracy   0.997228        SVM\n",
       "5   test_accuracy   0.997228        SVM\n",
       "5   test_accuracy   0.997783        SVM\n",
       "5   test_accuracy   0.998337        SVM\n",
       "5   test_accuracy   0.998891        SVM\n",
       "\n",
       "[320 rows x 3 columns]"
      ]
     },
     "execution_count": 30,
     "metadata": {},
     "output_type": "execute_result"
    }
   ],
   "source": [
    "metrics_to_select = ['test_f1', 'test_recall', 'test_precision', 'test_accuracy']\n",
    "df_selected = df.loc[df['metric'].isin(metrics_to_select)]\n",
    "df_selected"
   ]
  },
  {
   "cell_type": "code",
   "execution_count": 31,
   "metadata": {
    "colab": {
     "base_uri": "https://localhost:8080/",
     "height": 564
    },
    "executionInfo": {
     "elapsed": 2879,
     "status": "ok",
     "timestamp": 1699448811345,
     "user": {
      "displayName": "Ivan Daniel Villegas Isasa",
      "userId": "00302774522595278560"
     },
     "user_tz": 300
    },
    "id": "vcqaNgWXIaoP",
    "outputId": "75401a84-3b6b-4906-cfec-e73e38c5060d"
   },
   "outputs": [
    {
     "data": {
      "image/png": "[encoded data removed]",
      "text/plain": [
       "<Figure size 864x432 with 1 Axes>"
      ]
     },
     "metadata": {
      "needs_background": "light"
     },
     "output_type": "display_data"
    }
   ],
   "source": [
    "# DATOS DE ENTRADA\n",
    "variable_numerica = \"values\"\n",
    "variable_categorica_agrupacion = \"metric\"\n",
    "variable_categorica_agrupacion2 = \"classifier\"\n",
    "titulo_grafico = \"Resultados de las metricas en diferentes clasificadores dataset BCI Competition\"\n",
    "\n",
    "#Gráfico Boxplot a una sola variable númerica según dos categorica\n",
    "plt.figure(figsize=(12,6))\n",
    "sns.boxplot(x=variable_categorica_agrupacion, y=variable_numerica, hue=variable_categorica_agrupacion2, data=df_selected, palette=\"Set1\")\n",
    "plt.title(titulo_grafico)\n",
    "plt.savefig('boxplot_Competition')\n",
    "plt.show()"
   ]
  },
  {
   "cell_type": "markdown",
   "metadata": {
    "id": "IUMzP7_O3lND"
   },
   "source": [
    "# Electrodos promediados\n",
    "Se utiliza Keras para realizar la clasificación"
   ]
  },
  {
   "cell_type": "code",
   "execution_count": 32,
   "metadata": {
    "colab": {
     "base_uri": "https://localhost:8080/",
     "height": 410
    },
    "executionInfo": {
     "elapsed": 550,
     "status": "ok",
     "timestamp": 1699448811883,
     "user": {
      "displayName": "Ivan Daniel Villegas Isasa",
      "userId": "00302774522595278560"
     },
     "user_tz": 300
    },
    "id": "96xfCFfXFoME",
    "outputId": "5c876515-abd1-4b9a-9bf1-7e8937d2b64f"
   },
   "outputs": [
    {
     "name": "stdout",
     "output_type": "stream",
     "text": [
      "Reading /home/ivandanielvillegas/work/home/BrainInvaders/Data/epocas/elect_mean_epo.fif ...\n",
      "Isotrak not found\n",
      "    Found the data of interest:\n",
      "        t =    -304.00 ...     688.00 ms\n",
      "        0 CTF compensation matrices available\n",
      "Not setting metadata\n",
      "60154 matching events found\n",
      "No baseline correction applied\n",
      "0 projection items activated\n"
     ]
    },
    {
     "data": {
      "text/html": [
       "<table class=\"table table-hover table-striped table-sm table-responsive small\">\n",
       "    <tr>\n",
       "        <th>Measurement date</th>\n",
       "        \n",
       "        <td>Unknown</td>\n",
       "        \n",
       "    </tr>\n",
       "    <tr>\n",
       "        <th>Experimenter</th>\n",
       "        \n",
       "        <td>Unknown</td>\n",
       "        \n",
       "    </tr>\n",
       "        <th>Participant</th>\n",
       "        \n",
       "        <td>Unknown</td>\n",
       "        \n",
       "    </tr>\n",
       "    <tr>\n",
       "        <th>Digitized points</th>\n",
       "        \n",
       "        <td>Not available</td>\n",
       "        \n",
       "    </tr>\n",
       "    <tr>\n",
       "        <th>Good channels</th>\n",
       "        <td>4 EEG</td>\n",
       "    </tr>\n",
       "    <tr>\n",
       "        <th>Bad channels</th>\n",
       "        <td>None</td>\n",
       "    </tr>\n",
       "    <tr>\n",
       "        <th>EOG channels</th>\n",
       "        <td>Not available</td>\n",
       "    </tr>\n",
       "    <tr>\n",
       "        <th>ECG channels</th>\n",
       "        <td>Not available</td>\n",
       "    \n",
       "    <tr>\n",
       "        <th>Sampling frequency</th>\n",
       "        <td>125.00 Hz</td>\n",
       "    </tr>\n",
       "    \n",
       "    \n",
       "    <tr>\n",
       "        <th>Highpass</th>\n",
       "        <td>0.00 Hz</td>\n",
       "    </tr>\n",
       "    \n",
       "    \n",
       "    <tr>\n",
       "        <th>Lowpass</th>\n",
       "        <td>62.50 Hz</td>\n",
       "    </tr>\n",
       "    \n",
       "    \n",
       "</table>"
      ],
      "text/plain": [
       "<Info | 9 non-empty values\n",
       " bads: []\n",
       " ch_names: O, C, P, F\n",
       " chs: 4 EEG\n",
       " custom_ref_applied: False\n",
       " file_id: 4 items (dict)\n",
       " highpass: 0.0 Hz\n",
       " lowpass: 62.5 Hz\n",
       " meas_date: unspecified\n",
       " meas_id: 4 items (dict)\n",
       " nchan: 4\n",
       " projs: []\n",
       " sfreq: 125.0 Hz\n",
       ">"
      ]
     },
     "execution_count": 32,
     "metadata": {},
     "output_type": "execute_result"
    }
   ],
   "source": [
    "epochs = mne.read_epochs('Data/epocas/elect_mean_epo.fif')\n",
    "epochs.info"
   ]
  },
  {
   "cell_type": "code",
   "execution_count": 33,
   "metadata": {
    "colab": {
     "base_uri": "https://localhost:8080/",
     "height": 177
    },
    "executionInfo": {
     "elapsed": 8,
     "status": "ok",
     "timestamp": 1699448811883,
     "user": {
      "displayName": "Ivan Daniel Villegas Isasa",
      "userId": "00302774522595278560"
     },
     "user_tz": 300
    },
    "id": "Qz_GIt3DBGwf",
    "outputId": "fb055b6f-21b7-4fc3-daab-daa674a70e70"
   },
   "outputs": [
    {
     "data": {
      "text/html": [
       "<table class=\"table table-hover table-striped table-sm table-responsive small\">\n",
       "    <tr>\n",
       "        <th>Number of events</th>\n",
       "        <td>10026</td>\n",
       "    </tr>\n",
       "    <tr>\n",
       "        <th>Events</th>\n",
       "        \n",
       "        <td>1: 10026</td>\n",
       "        \n",
       "    </tr>\n",
       "    <tr>\n",
       "        <th>Time range</th>\n",
       "        <td>-0.304 – 0.688 sec</td>\n",
       "    </tr>\n",
       "    <tr>\n",
       "        <th>Baseline</th>\n",
       "        <td>off</td>\n",
       "    </tr>\n",
       "</table>"
      ],
      "text/plain": [
       "<EpochsFIF |  10026 events (all good), -0.304 - 0.688 sec, baseline off, ~38.3 MB, data loaded,\n",
       " '1': 10026>"
      ]
     },
     "execution_count": 33,
     "metadata": {},
     "output_type": "execute_result"
    }
   ],
   "source": [
    "pick_channels = ['F','C','P','O']\n",
    "target = epochs[\"1\"].pick_channels(pick_channels)#.average()\n",
    "target"
   ]
  },
  {
   "cell_type": "code",
   "execution_count": 34,
   "metadata": {
    "colab": {
     "base_uri": "https://localhost:8080/",
     "height": 177
    },
    "executionInfo": {
     "elapsed": 376,
     "status": "ok",
     "timestamp": 1699448812254,
     "user": {
      "displayName": "Ivan Daniel Villegas Isasa",
      "userId": "00302774522595278560"
     },
     "user_tz": 300
    },
    "id": "1fxzGlQ_BSlv",
    "outputId": "ffe942c1-bb0c-47be-d482-4741c460a74a"
   },
   "outputs": [
    {
     "data": {
      "text/html": [
       "<table class=\"table table-hover table-striped table-sm table-responsive small\">\n",
       "    <tr>\n",
       "        <th>Number of events</th>\n",
       "        <td>50128</td>\n",
       "    </tr>\n",
       "    <tr>\n",
       "        <th>Events</th>\n",
       "        \n",
       "        <td>0: 50128</td>\n",
       "        \n",
       "    </tr>\n",
       "    <tr>\n",
       "        <th>Time range</th>\n",
       "        <td>-0.304 – 0.688 sec</td>\n",
       "    </tr>\n",
       "    <tr>\n",
       "        <th>Baseline</th>\n",
       "        <td>off</td>\n",
       "    </tr>\n",
       "</table>"
      ],
      "text/plain": [
       "<EpochsFIF |  50128 events (all good), -0.304 - 0.688 sec, baseline off, ~191.2 MB, data loaded,\n",
       " '0': 50128>"
      ]
     },
     "execution_count": 34,
     "metadata": {},
     "output_type": "execute_result"
    }
   ],
   "source": [
    "standard = epochs[\"0\"].pick_channels(pick_channels)#.average()\n",
    "standard"
   ]
  },
  {
   "cell_type": "code",
   "execution_count": 35,
   "metadata": {
    "colab": {
     "base_uri": "https://localhost:8080/"
    },
    "executionInfo": {
     "elapsed": 5,
     "status": "ok",
     "timestamp": 1699448812255,
     "user": {
      "displayName": "Ivan Daniel Villegas Isasa",
      "userId": "00302774522595278560"
     },
     "user_tz": 300
    },
    "id": "g_OMrGdaBaGP",
    "outputId": "a4a12f4c-991a-43aa-8337-91641e2241d4"
   },
   "outputs": [
    {
     "name": "stderr",
     "output_type": "stream",
     "text": [
      "<ipython-input-9-870ca4a36b85>:16: RuntimeWarning: tmax is not in time interval. tmax is set to <class 'mne.epochs.EpochsFIF'>.tmax (0.688 sec)\n",
      "  epochs_part4 = epochs.copy().crop(tmin=m4, tmax=F)\n"
     ]
    },
    {
     "name": "stdout",
     "output_type": "stream",
     "text": [
      "(10026, 4) (10026, 4) (10026, 4) (10026, 4)\n"
     ]
    },
    {
     "name": "stderr",
     "output_type": "stream",
     "text": [
      "<ipython-input-9-870ca4a36b85>:16: RuntimeWarning: tmax is not in time interval. tmax is set to <class 'mne.epochs.EpochsFIF'>.tmax (0.688 sec)\n",
      "  epochs_part4 = epochs.copy().crop(tmin=m4, tmax=F)\n"
     ]
    },
    {
     "name": "stdout",
     "output_type": "stream",
     "text": [
      "(50128, 4) (50128, 4) (50128, 4) (50128, 4)\n"
     ]
    }
   ],
   "source": [
    "mean_target_part1, mean_target_part2 ,mean_target_part3 ,mean_target_part4 = ventanas_DADT(target,-0.3,0,0.25,0.4,0.7)\n",
    "print(mean_target_part1.shape, mean_target_part2.shape ,mean_target_part3.shape ,mean_target_part4.shape)\n",
    "\n",
    "mean_standard_part1, mean_standard_part2, mean_standard_part3, mean_standard_part4 = ventanas_DADT(standard,-0.3,0,0.25,0.4,0.7)\n",
    "print(mean_standard_part1.shape, mean_standard_part2.shape, mean_standard_part3.shape, mean_standard_part4.shape)"
   ]
  },
  {
   "cell_type": "code",
   "execution_count": 36,
   "metadata": {
    "colab": {
     "base_uri": "https://localhost:8080/",
     "height": 601
    },
    "executionInfo": {
     "elapsed": 2696,
     "status": "ok",
     "timestamp": 1699448814948,
     "user": {
      "displayName": "Ivan Daniel Villegas Isasa",
      "userId": "00302774522595278560"
     },
     "user_tz": 300
    },
    "id": "iLVVh-m5Bhe_",
    "outputId": "200db63b-aea2-4235-b618-57480179b496"
   },
   "outputs": [
    {
     "ename": "ValueError",
     "evalue": "'c' argument has 50128 elements, which is not acceptable for use with 'x' with size 200512, 'y' with size 200512.",
     "output_type": "error",
     "traceback": [
      "\u001b[0;31m---------------------------------------------------------------------------\u001b[0m",
      "\u001b[0;31mValueError\u001b[0m                                Traceback (most recent call last)",
      "\u001b[0;32m/opt/conda/lib/python3.7/site-packages/matplotlib/axes/_axes.py\u001b[0m in \u001b[0;36m_parse_scatter_color_args\u001b[0;34m(c, edgecolors, kwargs, xshape, yshape, get_next_color_func)\u001b[0m\n\u001b[1;32m   4283\u001b[0m             \u001b[0;32mtry\u001b[0m\u001b[0;34m:\u001b[0m  \u001b[0;31m# Then is 'c' acceptable as PathCollection facecolors?\u001b[0m\u001b[0;34m\u001b[0m\u001b[0;34m\u001b[0m\u001b[0m\n\u001b[0;32m-> 4284\u001b[0;31m                 \u001b[0mcolors\u001b[0m \u001b[0;34m=\u001b[0m \u001b[0mmcolors\u001b[0m\u001b[0;34m.\u001b[0m\u001b[0mto_rgba_array\u001b[0m\u001b[0;34m(\u001b[0m\u001b[0mc\u001b[0m\u001b[0;34m)\u001b[0m\u001b[0;34m\u001b[0m\u001b[0;34m\u001b[0m\u001b[0m\n\u001b[0m\u001b[1;32m   4285\u001b[0m                 \u001b[0mn_elem\u001b[0m \u001b[0;34m=\u001b[0m \u001b[0mcolors\u001b[0m\u001b[0;34m.\u001b[0m\u001b[0mshape\u001b[0m\u001b[0;34m[\u001b[0m\u001b[0;36m0\u001b[0m\u001b[0;34m]\u001b[0m\u001b[0;34m\u001b[0m\u001b[0;34m\u001b[0m\u001b[0m\n",
      "\u001b[0;32m/opt/conda/lib/python3.7/site-packages/matplotlib/colors.py\u001b[0m in \u001b[0;36mto_rgba_array\u001b[0;34m(c, alpha)\u001b[0m\n\u001b[1;32m    278\u001b[0m         \u001b[0;32mif\u001b[0m \u001b[0mnp\u001b[0m\u001b[0;34m.\u001b[0m\u001b[0many\u001b[0m\u001b[0;34m(\u001b[0m\u001b[0;34m(\u001b[0m\u001b[0mresult\u001b[0m \u001b[0;34m<\u001b[0m \u001b[0;36m0\u001b[0m\u001b[0;34m)\u001b[0m \u001b[0;34m|\u001b[0m \u001b[0;34m(\u001b[0m\u001b[0mresult\u001b[0m \u001b[0;34m>\u001b[0m \u001b[0;36m1\u001b[0m\u001b[0;34m)\u001b[0m\u001b[0;34m)\u001b[0m\u001b[0;34m:\u001b[0m\u001b[0;34m\u001b[0m\u001b[0;34m\u001b[0m\u001b[0m\n\u001b[0;32m--> 279\u001b[0;31m             \u001b[0;32mraise\u001b[0m \u001b[0mValueError\u001b[0m\u001b[0;34m(\u001b[0m\u001b[0;34m\"RGBA values should be within 0-1 range\"\u001b[0m\u001b[0;34m)\u001b[0m\u001b[0;34m\u001b[0m\u001b[0;34m\u001b[0m\u001b[0m\n\u001b[0m\u001b[1;32m    280\u001b[0m         \u001b[0;32mreturn\u001b[0m \u001b[0mresult\u001b[0m\u001b[0;34m\u001b[0m\u001b[0;34m\u001b[0m\u001b[0m\n",
      "\u001b[0;31mValueError\u001b[0m: RGBA values should be within 0-1 range",
      "\nDuring handling of the above exception, another exception occurred:\n",
      "\u001b[0;31mValueError\u001b[0m                                Traceback (most recent call last)",
      "\u001b[0;32m<ipython-input-36-c5647290fa29>\u001b[0m in \u001b[0;36m<module>\u001b[0;34m\u001b[0m\n\u001b[1;32m     16\u001b[0m \u001b[0mc1\u001b[0m \u001b[0;34m=\u001b[0m \u001b[0mmean_standard_part3\u001b[0m\u001b[0;34m\u001b[0m\u001b[0;34m\u001b[0m\u001b[0m\n\u001b[1;32m     17\u001b[0m \u001b[0;34m\u001b[0m\u001b[0m\n\u001b[0;32m---> 18\u001b[0;31m \u001b[0mimg2\u001b[0m \u001b[0;34m=\u001b[0m \u001b[0max\u001b[0m\u001b[0;34m.\u001b[0m\u001b[0mscatter\u001b[0m\u001b[0;34m(\u001b[0m\u001b[0mx1\u001b[0m\u001b[0;34m,\u001b[0m \u001b[0my1\u001b[0m\u001b[0;34m,\u001b[0m \u001b[0mz1\u001b[0m\u001b[0;34m,\u001b[0m \u001b[0mc\u001b[0m\u001b[0;34m=\u001b[0m\u001b[0mc1\u001b[0m\u001b[0;34m,\u001b[0m \u001b[0ms\u001b[0m \u001b[0;34m=\u001b[0m \u001b[0;36m100\u001b[0m\u001b[0;34m,\u001b[0m \u001b[0mmarker\u001b[0m \u001b[0;34m=\u001b[0m \u001b[0;34m\"*\"\u001b[0m\u001b[0;34m,\u001b[0m \u001b[0mcmap\u001b[0m\u001b[0;34m=\u001b[0m\u001b[0mplt\u001b[0m\u001b[0;34m.\u001b[0m\u001b[0mwinter\u001b[0m\u001b[0;34m(\u001b[0m\u001b[0;34m)\u001b[0m\u001b[0;34m)\u001b[0m\u001b[0;34m\u001b[0m\u001b[0;34m\u001b[0m\u001b[0m\n\u001b[0m\u001b[1;32m     19\u001b[0m \u001b[0mcbar\u001b[0m \u001b[0;34m=\u001b[0m \u001b[0mfig\u001b[0m\u001b[0;34m.\u001b[0m\u001b[0mcolorbar\u001b[0m\u001b[0;34m(\u001b[0m\u001b[0mimg2\u001b[0m\u001b[0;34m)\u001b[0m\u001b[0;34m\u001b[0m\u001b[0;34m\u001b[0m\u001b[0m\n\u001b[1;32m     20\u001b[0m \u001b[0mcbar\u001b[0m\u001b[0;34m.\u001b[0m\u001b[0mset_label\u001b[0m\u001b[0;34m(\u001b[0m\u001b[0;34m'Pendiente de la ventana 1'\u001b[0m\u001b[0;34m)\u001b[0m\u001b[0;34m\u001b[0m\u001b[0;34m\u001b[0m\u001b[0m\n",
      "\u001b[0;32m/opt/conda/lib/python3.7/site-packages/mpl_toolkits/mplot3d/axes3d.py\u001b[0m in \u001b[0;36mscatter\u001b[0;34m(self, xs, ys, zs, zdir, s, c, depthshade, *args, **kwargs)\u001b[0m\n\u001b[1;32m   2325\u001b[0m         \u001b[0mxs\u001b[0m\u001b[0;34m,\u001b[0m \u001b[0mys\u001b[0m\u001b[0;34m,\u001b[0m \u001b[0mzs\u001b[0m\u001b[0;34m,\u001b[0m \u001b[0ms\u001b[0m\u001b[0;34m,\u001b[0m \u001b[0mc\u001b[0m \u001b[0;34m=\u001b[0m \u001b[0mcbook\u001b[0m\u001b[0;34m.\u001b[0m\u001b[0mdelete_masked_points\u001b[0m\u001b[0;34m(\u001b[0m\u001b[0mxs\u001b[0m\u001b[0;34m,\u001b[0m \u001b[0mys\u001b[0m\u001b[0;34m,\u001b[0m \u001b[0mzs\u001b[0m\u001b[0;34m,\u001b[0m \u001b[0ms\u001b[0m\u001b[0;34m,\u001b[0m \u001b[0mc\u001b[0m\u001b[0;34m)\u001b[0m\u001b[0;34m\u001b[0m\u001b[0;34m\u001b[0m\u001b[0m\n\u001b[1;32m   2326\u001b[0m \u001b[0;34m\u001b[0m\u001b[0m\n\u001b[0;32m-> 2327\u001b[0;31m         \u001b[0mpatches\u001b[0m \u001b[0;34m=\u001b[0m \u001b[0msuper\u001b[0m\u001b[0;34m(\u001b[0m\u001b[0;34m)\u001b[0m\u001b[0;34m.\u001b[0m\u001b[0mscatter\u001b[0m\u001b[0;34m(\u001b[0m\u001b[0mxs\u001b[0m\u001b[0;34m,\u001b[0m \u001b[0mys\u001b[0m\u001b[0;34m,\u001b[0m \u001b[0ms\u001b[0m\u001b[0;34m=\u001b[0m\u001b[0ms\u001b[0m\u001b[0;34m,\u001b[0m \u001b[0mc\u001b[0m\u001b[0;34m=\u001b[0m\u001b[0mc\u001b[0m\u001b[0;34m,\u001b[0m \u001b[0;34m*\u001b[0m\u001b[0margs\u001b[0m\u001b[0;34m,\u001b[0m \u001b[0;34m**\u001b[0m\u001b[0mkwargs\u001b[0m\u001b[0;34m)\u001b[0m\u001b[0;34m\u001b[0m\u001b[0;34m\u001b[0m\u001b[0m\n\u001b[0m\u001b[1;32m   2328\u001b[0m         art3d.patch_collection_2d_to_3d(patches, zs=zs, zdir=zdir,\n\u001b[1;32m   2329\u001b[0m                                         depthshade=depthshade)\n",
      "\u001b[0;32m/opt/conda/lib/python3.7/site-packages/matplotlib/__init__.py\u001b[0m in \u001b[0;36minner\u001b[0;34m(ax, data, *args, **kwargs)\u001b[0m\n\u001b[1;32m   1597\u001b[0m     \u001b[0;32mdef\u001b[0m \u001b[0minner\u001b[0m\u001b[0;34m(\u001b[0m\u001b[0max\u001b[0m\u001b[0;34m,\u001b[0m \u001b[0;34m*\u001b[0m\u001b[0margs\u001b[0m\u001b[0;34m,\u001b[0m \u001b[0mdata\u001b[0m\u001b[0;34m=\u001b[0m\u001b[0;32mNone\u001b[0m\u001b[0;34m,\u001b[0m \u001b[0;34m**\u001b[0m\u001b[0mkwargs\u001b[0m\u001b[0;34m)\u001b[0m\u001b[0;34m:\u001b[0m\u001b[0;34m\u001b[0m\u001b[0;34m\u001b[0m\u001b[0m\n\u001b[1;32m   1598\u001b[0m         \u001b[0;32mif\u001b[0m \u001b[0mdata\u001b[0m \u001b[0;32mis\u001b[0m \u001b[0;32mNone\u001b[0m\u001b[0;34m:\u001b[0m\u001b[0;34m\u001b[0m\u001b[0;34m\u001b[0m\u001b[0m\n\u001b[0;32m-> 1599\u001b[0;31m             \u001b[0;32mreturn\u001b[0m \u001b[0mfunc\u001b[0m\u001b[0;34m(\u001b[0m\u001b[0max\u001b[0m\u001b[0;34m,\u001b[0m \u001b[0;34m*\u001b[0m\u001b[0mmap\u001b[0m\u001b[0;34m(\u001b[0m\u001b[0msanitize_sequence\u001b[0m\u001b[0;34m,\u001b[0m \u001b[0margs\u001b[0m\u001b[0;34m)\u001b[0m\u001b[0;34m,\u001b[0m \u001b[0;34m**\u001b[0m\u001b[0mkwargs\u001b[0m\u001b[0;34m)\u001b[0m\u001b[0;34m\u001b[0m\u001b[0;34m\u001b[0m\u001b[0m\n\u001b[0m\u001b[1;32m   1600\u001b[0m \u001b[0;34m\u001b[0m\u001b[0m\n\u001b[1;32m   1601\u001b[0m         \u001b[0mbound\u001b[0m \u001b[0;34m=\u001b[0m \u001b[0mnew_sig\u001b[0m\u001b[0;34m.\u001b[0m\u001b[0mbind\u001b[0m\u001b[0;34m(\u001b[0m\u001b[0max\u001b[0m\u001b[0;34m,\u001b[0m \u001b[0;34m*\u001b[0m\u001b[0margs\u001b[0m\u001b[0;34m,\u001b[0m \u001b[0;34m**\u001b[0m\u001b[0mkwargs\u001b[0m\u001b[0;34m)\u001b[0m\u001b[0;34m\u001b[0m\u001b[0;34m\u001b[0m\u001b[0m\n",
      "\u001b[0;32m/opt/conda/lib/python3.7/site-packages/matplotlib/axes/_axes.py\u001b[0m in \u001b[0;36mscatter\u001b[0;34m(self, x, y, s, c, marker, cmap, norm, vmin, vmax, alpha, linewidths, verts, edgecolors, plotnonfinite, **kwargs)\u001b[0m\n\u001b[1;32m   4451\u001b[0m             self._parse_scatter_color_args(\n\u001b[1;32m   4452\u001b[0m                 \u001b[0mc\u001b[0m\u001b[0;34m,\u001b[0m \u001b[0medgecolors\u001b[0m\u001b[0;34m,\u001b[0m \u001b[0mkwargs\u001b[0m\u001b[0;34m,\u001b[0m \u001b[0mxshape\u001b[0m\u001b[0;34m,\u001b[0m \u001b[0myshape\u001b[0m\u001b[0;34m,\u001b[0m\u001b[0;34m\u001b[0m\u001b[0;34m\u001b[0m\u001b[0m\n\u001b[0;32m-> 4453\u001b[0;31m                 get_next_color_func=self._get_patches_for_fill.get_next_color)\n\u001b[0m\u001b[1;32m   4454\u001b[0m \u001b[0;34m\u001b[0m\u001b[0m\n\u001b[1;32m   4455\u001b[0m         \u001b[0;32mif\u001b[0m \u001b[0mplotnonfinite\u001b[0m \u001b[0;32mand\u001b[0m \u001b[0mcolors\u001b[0m \u001b[0;32mis\u001b[0m \u001b[0;32mNone\u001b[0m\u001b[0;34m:\u001b[0m\u001b[0;34m\u001b[0m\u001b[0;34m\u001b[0m\u001b[0m\n",
      "\u001b[0;32m/opt/conda/lib/python3.7/site-packages/matplotlib/axes/_axes.py\u001b[0m in \u001b[0;36m_parse_scatter_color_args\u001b[0;34m(c, edgecolors, kwargs, xshape, yshape, get_next_color_func)\u001b[0m\n\u001b[1;32m   4295\u001b[0m                         \u001b[0;34m\"acceptable for use with 'x' with size {xs}, \"\u001b[0m\u001b[0;34m\u001b[0m\u001b[0;34m\u001b[0m\u001b[0m\n\u001b[1;32m   4296\u001b[0m                         \u001b[0;34m\"'y' with size {ys}.\"\u001b[0m\u001b[0;34m\u001b[0m\u001b[0;34m\u001b[0m\u001b[0m\n\u001b[0;32m-> 4297\u001b[0;31m                             \u001b[0;34m.\u001b[0m\u001b[0mformat\u001b[0m\u001b[0;34m(\u001b[0m\u001b[0mnc\u001b[0m\u001b[0;34m=\u001b[0m\u001b[0mn_elem\u001b[0m\u001b[0;34m,\u001b[0m \u001b[0mxs\u001b[0m\u001b[0;34m=\u001b[0m\u001b[0mxsize\u001b[0m\u001b[0;34m,\u001b[0m \u001b[0mys\u001b[0m\u001b[0;34m=\u001b[0m\u001b[0mysize\u001b[0m\u001b[0;34m)\u001b[0m\u001b[0;34m\u001b[0m\u001b[0;34m\u001b[0m\u001b[0m\n\u001b[0m\u001b[1;32m   4298\u001b[0m                     )\n\u001b[1;32m   4299\u001b[0m                 \u001b[0;32melse\u001b[0m\u001b[0;34m:\u001b[0m\u001b[0;34m\u001b[0m\u001b[0;34m\u001b[0m\u001b[0m\n",
      "\u001b[0;31mValueError\u001b[0m: 'c' argument has 50128 elements, which is not acceptable for use with 'x' with size 200512, 'y' with size 200512."
     ]
    },
    {
     "data": {
      "image/png": "[encoded data removed]",
      "text/plain": [
       "<Figure size 720x504 with 1 Axes>"
      ]
     },
     "metadata": {
      "needs_background": "light"
     },
     "output_type": "display_data"
    }
   ],
   "source": [
    "from mpl_toolkits.mplot3d import Axes3D\n",
    "import matplotlib.pyplot as plt\n",
    "import numpy as np\n",
    "\n",
    "fig = plt.figure(figsize =(10, 7))\n",
    "ax = fig.add_subplot(111, projection='3d')\n",
    "\n",
    "x = mean_target_part1\n",
    "y = mean_target_part4\n",
    "z = mean_target_part2\n",
    "c = mean_target_part3\n",
    "\n",
    "x1 = mean_standard_part1\n",
    "y1 = mean_standard_part4\n",
    "z1 = mean_standard_part2\n",
    "c1 = mean_standard_part3\n",
    "\n",
    "img2 = ax.scatter(x1, y1, z1, c=c1, s = 100, marker = \"*\", cmap=plt.winter())\n",
    "cbar = fig.colorbar(img2)\n",
    "cbar.set_label('Pendiente de la ventana 1')\n",
    "\n",
    "ax.set_xlabel('Pendiente de la ventana 3')\n",
    "ax.set_ylabel('Pendiente de la ventana 4')\n",
    "ax.set_zlabel('Pendiente de la ventana 2')\n",
    "ax.set_label('Pendiente de la ventana 1')\n",
    "plt.title('Pendientes en diferentes ventanas, los + P300 y los * son No P300')\n",
    "\n",
    "\n",
    "img = ax.scatter(x, y, z, c=c, s = 100,marker = \"+\", cmap=plt.winter())\n",
    "ax.view_init(40, 10)\n",
    "#fig.colorbar(img,img2)\n",
    "fig.savefig('scatter_Competition')\n",
    "plt.show()"
   ]
  },
  {
   "cell_type": "code",
   "execution_count": 37,
   "metadata": {
    "colab": {
     "base_uri": "https://localhost:8080/"
    },
    "executionInfo": {
     "elapsed": 308,
     "status": "ok",
     "timestamp": 1699448815246,
     "user": {
      "displayName": "Ivan Daniel Villegas Isasa",
      "userId": "00302774522595278560"
     },
     "user_tz": 300
    },
    "id": "Joe7t37IBlLA",
    "outputId": "0a93faf0-fb14-473f-9417-c2b5925f1049"
   },
   "outputs": [
    {
     "name": "stdout",
     "output_type": "stream",
     "text": [
      "Features True shape (10026, 16)\n",
      "Features False shape (50128, 16)\n",
      "(10026,)\n",
      "(50128,)\n"
     ]
    }
   ],
   "source": [
    "featuresT = np.concatenate((mean_target_part1, mean_target_part2, mean_target_part3, mean_target_part4), axis=1)\n",
    "featuresF = np.concatenate((mean_standard_part1, mean_standard_part2, mean_standard_part3, mean_standard_part4), axis=1)\n",
    "print('Features True shape', featuresT.shape)\n",
    "print('Features False shape',featuresF.shape)\n",
    "\n",
    "labelT = np.ones([len(mean_target_part1)])\n",
    "labelF = np.zeros([len(mean_standard_part1)])\n",
    "print(labelT.shape)\n",
    "print(labelF.shape)"
   ]
  },
  {
   "cell_type": "code",
   "execution_count": 38,
   "metadata": {
    "colab": {
     "base_uri": "https://localhost:8080/"
    },
    "executionInfo": {
     "elapsed": 6,
     "status": "ok",
     "timestamp": 1699448815246,
     "user": {
      "displayName": "Ivan Daniel Villegas Isasa",
      "userId": "00302774522595278560"
     },
     "user_tz": 300
    },
    "id": "JITbrJHBB1uI",
    "outputId": "d42ba606-2d15-49b3-aad5-ebfc84a2b578"
   },
   "outputs": [
    {
     "name": "stdout",
     "output_type": "stream",
     "text": [
      "(60154, 16)\n",
      "(60154,)\n"
     ]
    }
   ],
   "source": [
    "features = np.concatenate((featuresT,featuresF), axis=0)\n",
    "labels = np.concatenate((labelT,labelF), axis=0)\n",
    "\n",
    "print(features.shape)\n",
    "print(labels.shape)"
   ]
  },
  {
   "cell_type": "markdown",
   "metadata": {
    "id": "UsfoHm6qB6IH"
   },
   "source": [
    "## División del dataset"
   ]
  },
  {
   "cell_type": "code",
   "execution_count": 39,
   "metadata": {
    "executionInfo": {
     "elapsed": 4,
     "status": "ok",
     "timestamp": 1699448815246,
     "user": {
      "displayName": "Ivan Daniel Villegas Isasa",
      "userId": "00302774522595278560"
     },
     "user_tz": 300
    },
    "id": "LDleepJWB8Jh"
   },
   "outputs": [],
   "source": [
    "import numpy as np\n",
    "from sklearn.discriminant_analysis import LinearDiscriminantAnalysis\n",
    "from sklearn.model_selection import train_test_split\n",
    "from sklearn.metrics import confusion_matrix, classification_report, f1_score, precision_score, accuracy_score\n",
    "from sklearn.model_selection import cross_val_score, cross_validate"
   ]
  },
  {
   "cell_type": "code",
   "execution_count": 40,
   "metadata": {
    "colab": {
     "base_uri": "https://localhost:8080/"
    },
    "executionInfo": {
     "elapsed": 4,
     "status": "ok",
     "timestamp": 1699448815246,
     "user": {
      "displayName": "Ivan Daniel Villegas Isasa",
      "userId": "00302774522595278560"
     },
     "user_tz": 300
    },
    "id": "ZTgErt55B84H",
    "outputId": "a3bd206c-2681-4941-bf9d-d2b5a2e1899b"
   },
   "outputs": [
    {
     "name": "stdout",
     "output_type": "stream",
     "text": [
      "(36092, 16)\n",
      "(12031, 16)\n",
      "(12031, 16)\n"
     ]
    }
   ],
   "source": [
    "# Estos son datos de prueba, debes reemplazarlos por tus datos reales\n",
    "X = features # Arreglo con los valores de las cuatro características\n",
    "y = labels # Arreglo con las etiquetas de las clases (0 o 1)\n",
    "\n",
    "# Dividir los datos en train y test usando una proporción de 80/20\n",
    "X_train, X_test, y_train, y_test = train_test_split(X, y, test_size=0.2, random_state=42)\n",
    "\n",
    "# Dividir el subconjunto de train en train y validation usando una proporción de 75/25\n",
    "X_train, X_val, y_train, y_val = train_test_split(X_train, y_train, test_size=0.25, random_state=42)\n",
    "\n",
    "# Mostrar el resultado\n",
    "print(X_train.shape) # (2052, 4)\n",
    "print(X_val.shape) # (684, 4)\n",
    "print(X_test.shape) # (684, 4)"
   ]
  },
  {
   "cell_type": "markdown",
   "metadata": {
    "id": "Ic0P5Y3iCCBo"
   },
   "source": [
    "## Entrenamiento"
   ]
  },
  {
   "cell_type": "code",
   "execution_count": 41,
   "metadata": {
    "colab": {
     "base_uri": "https://localhost:8080/"
    },
    "executionInfo": {
     "elapsed": 271,
     "status": "ok",
     "timestamp": 1699448815514,
     "user": {
      "displayName": "Ivan Daniel Villegas Isasa",
      "userId": "00302774522595278560"
     },
     "user_tz": 300
    },
    "id": "rifrbuDNB_SJ",
    "outputId": "ff3e6b9c-12d1-4478-b8a0-e852990defb7"
   },
   "outputs": [
    {
     "name": "stdout",
     "output_type": "stream",
     "text": [
      "F1 SCORE: 0.6048361174039218\n",
      "Recall: 0.43609738999137193\n",
      "Precision: 0.9907274805427511\n",
      "Accuracy: 0.9040784713563579\n"
     ]
    }
   ],
   "source": [
    "import numpy as np\n",
    "from sklearn.discriminant_analysis import LinearDiscriminantAnalysis\n",
    "from sklearn.model_selection import cross_validate\n",
    "from sklearn.metrics import f1_score, precision_score, accuracy_score, recall_score, make_scorer\n",
    "\n",
    "# Estos son datos de prueba, debes reemplazarlos por tus datos reales\n",
    "X = X_train # Arreglo con los valores de las cuatro características\n",
    "y = y_train # Arreglo con las etiquetas de las clases (0 o 1)\n",
    "\n",
    "# Crear el clasificador de discriminante lineal\n",
    "lda = LinearDiscriminantAnalysis()\n",
    "\n",
    "# Crear un diccionario que mapee los nombres de las métricas con las funciones\n",
    "scoring = ['f1', 'recall', 'precision', 'accuracy']\n",
    "scores1 = cross_validate(lda, X, y, cv=20, scoring=scoring)\n",
    "\n",
    "\n",
    "print('F1 SCORE:', scores1['test_f1'].mean())\n",
    "print('Recall:', scores1['test_recall'].mean())\n",
    "print('Precision:', scores1['test_precision'].mean())\n",
    "print('Accuracy:', scores1['test_accuracy'].mean())\n",
    "#print(scores1)"
   ]
  },
  {
   "cell_type": "code",
   "execution_count": 42,
   "metadata": {
    "colab": {
     "base_uri": "https://localhost:8080/"
    },
    "executionInfo": {
     "elapsed": 230,
     "status": "ok",
     "timestamp": 1699448815742,
     "user": {
      "displayName": "Ivan Daniel Villegas Isasa",
      "userId": "00302774522595278560"
     },
     "user_tz": 300
    },
    "id": "H9djJ-mhCFpJ",
    "outputId": "9f1c01b2-1d1f-46cf-80ac-34a9607079d6"
   },
   "outputs": [
    {
     "name": "stdout",
     "output_type": "stream",
     "text": [
      "F1 SCORE: 1.0\n",
      "Recall: 1.0\n",
      "Precision: 1.0\n",
      "Accuracy: 1.0\n"
     ]
    }
   ],
   "source": [
    "from sklearn import tree\n",
    "\n",
    "X = X_train # Arreglo con los valores de las cuatro características\n",
    "y = y_train # Arreglo con las etiquetas de las clases (0 o 1)\n",
    "\n",
    "# Crea una instancia de la clase SVC\n",
    "tr = tree.DecisionTreeClassifier(max_depth=7)\n",
    "\n",
    "# Realiza validación cruzada en los datos\n",
    "scoring = ['f1', 'recall', 'precision', 'accuracy']\n",
    "scores2 = cross_validate(tr, X, y, cv=20, scoring=scoring)\n",
    "\n",
    "print('F1 SCORE:', scores2['test_f1'].mean())\n",
    "print('Recall:', scores2['test_recall'].mean())\n",
    "print('Precision:', scores2['test_precision'].mean())\n",
    "print('Accuracy:', scores2['test_accuracy'].mean())\n",
    "#print(scores2)"
   ]
  },
  {
   "cell_type": "code",
   "execution_count": 43,
   "metadata": {
    "colab": {
     "base_uri": "https://localhost:8080/"
    },
    "executionInfo": {
     "elapsed": 11187,
     "status": "ok",
     "timestamp": 1699448826928,
     "user": {
      "displayName": "Ivan Daniel Villegas Isasa",
      "userId": "00302774522595278560"
     },
     "user_tz": 300
    },
    "id": "TlmTumrcCIKy",
    "outputId": "1579d33a-053b-4637-e623-97978b271077"
   },
   "outputs": [
    {
     "name": "stdout",
     "output_type": "stream",
     "text": [
      "F1 SCORE: 1.0\n",
      "Recall: 1.0\n",
      "Precision: 1.0\n",
      "Accuracy: 1.0\n"
     ]
    }
   ],
   "source": [
    "from sklearn.ensemble import RandomForestClassifier\n",
    "from sklearn.model_selection import cross_val_score\n",
    "import numpy as np\n",
    "\n",
    "X = X_train # Arreglo con los valores de las cuatro características\n",
    "y = y_train # Arreglo con las etiquetas de las clases (0 o 1)\n",
    "\n",
    "# Crea una instancia del clasificador Random Forest\n",
    "rfc = RandomForestClassifier(n_estimators=100, max_depth=2, random_state=42)\n",
    "\n",
    "# Realiza validación cruzada en los datos\n",
    "scoring = ['f1', 'recall', 'precision', 'accuracy']\n",
    "scores3 = cross_validate(rfc, X, y, cv=20, scoring=scoring)\n",
    "\n",
    "print('F1 SCORE:', scores3['test_f1'].mean())\n",
    "print('Recall:', scores3['test_recall'].mean())\n",
    "print('Precision:', scores3['test_precision'].mean())\n",
    "print('Accuracy:', scores3['test_accuracy'].mean())\n",
    "#print(scores3)"
   ]
  },
  {
   "cell_type": "code",
   "execution_count": 44,
   "metadata": {
    "colab": {
     "base_uri": "https://localhost:8080/"
    },
    "executionInfo": {
     "elapsed": 1304,
     "status": "ok",
     "timestamp": 1699448828230,
     "user": {
      "displayName": "Ivan Daniel Villegas Isasa",
      "userId": "00302774522595278560"
     },
     "user_tz": 300
    },
    "id": "Qsii0fdBCKZw",
    "outputId": "a8a92ae7-7235-48e3-931f-18fc506df1bb"
   },
   "outputs": [
    {
     "name": "stdout",
     "output_type": "stream",
     "text": [
      "F1 SCORE: 0.9898696245816085\n",
      "Recall: 0.9799822044866267\n",
      "Precision: 1.0\n",
      "Accuracy: 0.9966197308535666\n"
     ]
    }
   ],
   "source": [
    "from sklearn.svm import SVC\n",
    "\n",
    "X = X_train # Arreglo con los valores de las cuatro características\n",
    "y = y_train # Arreglo con las etiquetas de las clases (0 o 1)\n",
    "\n",
    "# Crea una instancia de la clase SVC\n",
    "svm = SVC(gamma=\"auto\",kernel='rbf', C=1)\n",
    "\n",
    "# Realiza validación cruzada en los datos\n",
    "scoring = ['f1', 'recall', 'precision', 'accuracy']\n",
    "scores4 = cross_validate(svm, X, y, cv=20, scoring=scoring)\n",
    "\n",
    "print('F1 SCORE:', scores4['test_f1'].mean())\n",
    "print('Recall:', scores4['test_recall'].mean())\n",
    "print('Precision:', scores4['test_precision'].mean())\n",
    "print('Accuracy:', scores4['test_accuracy'].mean())\n",
    "#print(scores4)"
   ]
  },
  {
   "cell_type": "markdown",
   "metadata": {
    "id": "f4Q3qfrLCNq4"
   },
   "source": [
    "## Test"
   ]
  },
  {
   "cell_type": "code",
   "execution_count": 45,
   "metadata": {
    "colab": {
     "base_uri": "https://localhost:8080/",
     "height": 745
    },
    "executionInfo": {
     "elapsed": 1791,
     "status": "ok",
     "timestamp": 1699448830019,
     "user": {
      "displayName": "Ivan Daniel Villegas Isasa",
      "userId": "00302774522595278560"
     },
     "user_tz": 300
    },
    "id": "EO9FTPDjCMK3",
    "outputId": "40b8682f-d730-4818-d31f-ca45085594e2"
   },
   "outputs": [
    {
     "name": "stdout",
     "output_type": "stream",
     "text": [
      "4 4\n"
     ]
    },
    {
     "data": {
      "text/html": [
       "<div>\n",
       "<style scoped>\n",
       "    .dataframe tbody tr th:only-of-type {\n",
       "        vertical-align: middle;\n",
       "    }\n",
       "\n",
       "    .dataframe tbody tr th {\n",
       "        vertical-align: top;\n",
       "    }\n",
       "\n",
       "    .dataframe thead th {\n",
       "        text-align: right;\n",
       "    }\n",
       "</style>\n",
       "<table border=\"1\" class=\"dataframe\">\n",
       "  <thead>\n",
       "    <tr style=\"text-align: right;\">\n",
       "      <th></th>\n",
       "      <th>modelo</th>\n",
       "      <th>Accuracy</th>\n",
       "      <th>Precision</th>\n",
       "      <th>Recall</th>\n",
       "      <th>F1_Score</th>\n",
       "      <th>Cohen_Kappa</th>\n",
       "      <th>Conf_Matrix</th>\n",
       "    </tr>\n",
       "  </thead>\n",
       "  <tbody>\n",
       "    <tr>\n",
       "      <th>0</th>\n",
       "      <td>LDA</td>\n",
       "      <td>0.906658</td>\n",
       "      <td>0.99556</td>\n",
       "      <td>0.44494</td>\n",
       "      <td>0.615015</td>\n",
       "      <td>0.570562</td>\n",
       "      <td>[[0.999600599101348, 0.00039940089865202194], ...</td>\n",
       "    </tr>\n",
       "    <tr>\n",
       "      <th>1</th>\n",
       "      <td>Tree</td>\n",
       "      <td>1.000000</td>\n",
       "      <td>1.00000</td>\n",
       "      <td>1.00000</td>\n",
       "      <td>1.000000</td>\n",
       "      <td>1.000000</td>\n",
       "      <td>[[[1.0, 0.0], [0.0, 1.0]]]</td>\n",
       "    </tr>\n",
       "    <tr>\n",
       "      <th>2</th>\n",
       "      <td>RF</td>\n",
       "      <td>1.000000</td>\n",
       "      <td>1.00000</td>\n",
       "      <td>1.00000</td>\n",
       "      <td>1.000000</td>\n",
       "      <td>1.000000</td>\n",
       "      <td>[[[1.0, 0.0], [0.0, 1.0]]]</td>\n",
       "    </tr>\n",
       "    <tr>\n",
       "      <th>3</th>\n",
       "      <td>SVM</td>\n",
       "      <td>0.906658</td>\n",
       "      <td>0.99556</td>\n",
       "      <td>0.44494</td>\n",
       "      <td>0.615015</td>\n",
       "      <td>0.570562</td>\n",
       "      <td>[[[0.999600599101348, 0.00039940089865202194],...</td>\n",
       "    </tr>\n",
       "  </tbody>\n",
       "</table>\n",
       "</div>"
      ],
      "text/plain": [
       "  modelo  Accuracy  Precision   Recall  F1_Score  Cohen_Kappa  \\\n",
       "0    LDA  0.906658    0.99556  0.44494  0.615015     0.570562   \n",
       "1   Tree  1.000000    1.00000  1.00000  1.000000     1.000000   \n",
       "2     RF  1.000000    1.00000  1.00000  1.000000     1.000000   \n",
       "3    SVM  0.906658    0.99556  0.44494  0.615015     0.570562   \n",
       "\n",
       "                                         Conf_Matrix  \n",
       "0  [[0.999600599101348, 0.00039940089865202194], ...  \n",
       "1                         [[[1.0, 0.0], [0.0, 1.0]]]  \n",
       "2                         [[[1.0, 0.0], [0.0, 1.0]]]  \n",
       "3  [[[0.999600599101348, 0.00039940089865202194],...  "
      ]
     },
     "execution_count": 45,
     "metadata": {},
     "output_type": "execute_result"
    },
    {
     "data": {
      "image/png": "[encoded data removed]",
      "text/plain": [
       "<Figure size 432x288 with 1 Axes>"
      ]
     },
     "metadata": {
      "needs_background": "light"
     },
     "output_type": "display_data"
    }
   ],
   "source": [
    "lda.fit(X, y)\n",
    "tr = tr.fit(X_train, y_train)\n",
    "rfc.fit(X, y)\n",
    "svm.fit(X, y)\n",
    "\n",
    "y_pred_lda = lda.predict(X_test)\n",
    "y_pred_tr = tr.predict(X_test)\n",
    "y_pred_rfc = rfc.predict(X_test)\n",
    "y_pred_svm = lda.predict(X_test)\n",
    "Y_test = [y_test, y_test, y_test, y_test]\n",
    "y_predi = [y_pred_lda, y_pred_tr, y_pred_rfc, y_pred_svm]\n",
    "print(len(Y_test), len(y_predi))\n",
    "modelos = ['LDA','Tree','RF','SVM']\n",
    "df, fig = comparar_modelos(Y_test,y_predi,modelos)\n",
    "df"
   ]
  },
  {
   "cell_type": "code",
   "execution_count": 46,
   "metadata": {
    "executionInfo": {
     "elapsed": 7,
     "status": "ok",
     "timestamp": 1699448830238,
     "user": {
      "displayName": "Ivan Daniel Villegas Isasa",
      "userId": "00302774522595278560"
     },
     "user_tz": 300
    },
    "id": "G1ma3RilCdJQ"
   },
   "outputs": [],
   "source": [
    "import pandas as pd\n",
    "def tup2data(scores1, clasificador):\n",
    "  data_tuples = list(zip(scores1.keys(), scores1.values()))\n",
    "  df1 = pd.DataFrame(data=data_tuples, columns=['metric', 'values'])\n",
    "  df1 = df1.explode('values')\n",
    "  df1['classifier'] = clasificador\n",
    "  return df1"
   ]
  },
  {
   "cell_type": "code",
   "execution_count": 47,
   "metadata": {
    "colab": {
     "base_uri": "https://localhost:8080/",
     "height": 424
    },
    "executionInfo": {
     "elapsed": 7,
     "status": "ok",
     "timestamp": 1699448830238,
     "user": {
      "displayName": "Ivan Daniel Villegas Isasa",
      "userId": "00302774522595278560"
     },
     "user_tz": 300
    },
    "id": "G8GylEw5Cdsn",
    "outputId": "bece4e21-0938-44eb-c6e9-7909b0f6432f"
   },
   "outputs": [
    {
     "data": {
      "text/html": [
       "<div>\n",
       "<style scoped>\n",
       "    .dataframe tbody tr th:only-of-type {\n",
       "        vertical-align: middle;\n",
       "    }\n",
       "\n",
       "    .dataframe tbody tr th {\n",
       "        vertical-align: top;\n",
       "    }\n",
       "\n",
       "    .dataframe thead th {\n",
       "        text-align: right;\n",
       "    }\n",
       "</style>\n",
       "<table border=\"1\" class=\"dataframe\">\n",
       "  <thead>\n",
       "    <tr style=\"text-align: right;\">\n",
       "      <th></th>\n",
       "      <th>metric</th>\n",
       "      <th>values</th>\n",
       "      <th>classifier</th>\n",
       "    </tr>\n",
       "  </thead>\n",
       "  <tbody>\n",
       "    <tr>\n",
       "      <th>0</th>\n",
       "      <td>fit_time</td>\n",
       "      <td>0.0488133</td>\n",
       "      <td>LDA</td>\n",
       "    </tr>\n",
       "    <tr>\n",
       "      <th>0</th>\n",
       "      <td>fit_time</td>\n",
       "      <td>0.0580227</td>\n",
       "      <td>LDA</td>\n",
       "    </tr>\n",
       "    <tr>\n",
       "      <th>0</th>\n",
       "      <td>fit_time</td>\n",
       "      <td>0.0578444</td>\n",
       "      <td>LDA</td>\n",
       "    </tr>\n",
       "    <tr>\n",
       "      <th>0</th>\n",
       "      <td>fit_time</td>\n",
       "      <td>0.057683</td>\n",
       "      <td>LDA</td>\n",
       "    </tr>\n",
       "    <tr>\n",
       "      <th>0</th>\n",
       "      <td>fit_time</td>\n",
       "      <td>0.0577757</td>\n",
       "      <td>LDA</td>\n",
       "    </tr>\n",
       "    <tr>\n",
       "      <th>...</th>\n",
       "      <td>...</td>\n",
       "      <td>...</td>\n",
       "      <td>...</td>\n",
       "    </tr>\n",
       "    <tr>\n",
       "      <th>5</th>\n",
       "      <td>test_accuracy</td>\n",
       "      <td>0.996674</td>\n",
       "      <td>SVM</td>\n",
       "    </tr>\n",
       "    <tr>\n",
       "      <th>5</th>\n",
       "      <td>test_accuracy</td>\n",
       "      <td>0.993902</td>\n",
       "      <td>SVM</td>\n",
       "    </tr>\n",
       "    <tr>\n",
       "      <th>5</th>\n",
       "      <td>test_accuracy</td>\n",
       "      <td>0.994457</td>\n",
       "      <td>SVM</td>\n",
       "    </tr>\n",
       "    <tr>\n",
       "      <th>5</th>\n",
       "      <td>test_accuracy</td>\n",
       "      <td>0.998337</td>\n",
       "      <td>SVM</td>\n",
       "    </tr>\n",
       "    <tr>\n",
       "      <th>5</th>\n",
       "      <td>test_accuracy</td>\n",
       "      <td>0.998337</td>\n",
       "      <td>SVM</td>\n",
       "    </tr>\n",
       "  </tbody>\n",
       "</table>\n",
       "<p>480 rows × 3 columns</p>\n",
       "</div>"
      ],
      "text/plain": [
       "           metric     values classifier\n",
       "0        fit_time  0.0488133        LDA\n",
       "0        fit_time  0.0580227        LDA\n",
       "0        fit_time  0.0578444        LDA\n",
       "0        fit_time   0.057683        LDA\n",
       "0        fit_time  0.0577757        LDA\n",
       "..            ...        ...        ...\n",
       "5   test_accuracy   0.996674        SVM\n",
       "5   test_accuracy   0.993902        SVM\n",
       "5   test_accuracy   0.994457        SVM\n",
       "5   test_accuracy   0.998337        SVM\n",
       "5   test_accuracy   0.998337        SVM\n",
       "\n",
       "[480 rows x 3 columns]"
      ]
     },
     "execution_count": 47,
     "metadata": {},
     "output_type": "execute_result"
    }
   ],
   "source": [
    "df1 = tup2data(scores1,'LDA')\n",
    "df2 = tup2data(scores2,'Tree')\n",
    "df3 = tup2data(scores3,'RF')\n",
    "df4 = tup2data(scores4,'SVM')\n",
    "\n",
    "df = pd.concat([df1, df2, df3, df4], axis = 0)\n",
    "df"
   ]
  },
  {
   "cell_type": "code",
   "execution_count": 48,
   "metadata": {
    "colab": {
     "base_uri": "https://localhost:8080/",
     "height": 424
    },
    "executionInfo": {
     "elapsed": 6,
     "status": "ok",
     "timestamp": 1699448830238,
     "user": {
      "displayName": "Ivan Daniel Villegas Isasa",
      "userId": "00302774522595278560"
     },
     "user_tz": 300
    },
    "id": "oaaMLkIMCh73",
    "outputId": "60fe622d-d612-493d-e0e9-36baa9473b2a"
   },
   "outputs": [
    {
     "data": {
      "text/html": [
       "<div>\n",
       "<style scoped>\n",
       "    .dataframe tbody tr th:only-of-type {\n",
       "        vertical-align: middle;\n",
       "    }\n",
       "\n",
       "    .dataframe tbody tr th {\n",
       "        vertical-align: top;\n",
       "    }\n",
       "\n",
       "    .dataframe thead th {\n",
       "        text-align: right;\n",
       "    }\n",
       "</style>\n",
       "<table border=\"1\" class=\"dataframe\">\n",
       "  <thead>\n",
       "    <tr style=\"text-align: right;\">\n",
       "      <th></th>\n",
       "      <th>metric</th>\n",
       "      <th>values</th>\n",
       "      <th>classifier</th>\n",
       "    </tr>\n",
       "  </thead>\n",
       "  <tbody>\n",
       "    <tr>\n",
       "      <th>2</th>\n",
       "      <td>test_f1</td>\n",
       "      <td>0.535885</td>\n",
       "      <td>LDA</td>\n",
       "    </tr>\n",
       "    <tr>\n",
       "      <th>2</th>\n",
       "      <td>test_f1</td>\n",
       "      <td>0.621924</td>\n",
       "      <td>LDA</td>\n",
       "    </tr>\n",
       "    <tr>\n",
       "      <th>2</th>\n",
       "      <td>test_f1</td>\n",
       "      <td>0.580046</td>\n",
       "      <td>LDA</td>\n",
       "    </tr>\n",
       "    <tr>\n",
       "      <th>2</th>\n",
       "      <td>test_f1</td>\n",
       "      <td>0.626667</td>\n",
       "      <td>LDA</td>\n",
       "    </tr>\n",
       "    <tr>\n",
       "      <th>2</th>\n",
       "      <td>test_f1</td>\n",
       "      <td>0.594966</td>\n",
       "      <td>LDA</td>\n",
       "    </tr>\n",
       "    <tr>\n",
       "      <th>...</th>\n",
       "      <td>...</td>\n",
       "      <td>...</td>\n",
       "      <td>...</td>\n",
       "    </tr>\n",
       "    <tr>\n",
       "      <th>5</th>\n",
       "      <td>test_accuracy</td>\n",
       "      <td>0.996674</td>\n",
       "      <td>SVM</td>\n",
       "    </tr>\n",
       "    <tr>\n",
       "      <th>5</th>\n",
       "      <td>test_accuracy</td>\n",
       "      <td>0.993902</td>\n",
       "      <td>SVM</td>\n",
       "    </tr>\n",
       "    <tr>\n",
       "      <th>5</th>\n",
       "      <td>test_accuracy</td>\n",
       "      <td>0.994457</td>\n",
       "      <td>SVM</td>\n",
       "    </tr>\n",
       "    <tr>\n",
       "      <th>5</th>\n",
       "      <td>test_accuracy</td>\n",
       "      <td>0.998337</td>\n",
       "      <td>SVM</td>\n",
       "    </tr>\n",
       "    <tr>\n",
       "      <th>5</th>\n",
       "      <td>test_accuracy</td>\n",
       "      <td>0.998337</td>\n",
       "      <td>SVM</td>\n",
       "    </tr>\n",
       "  </tbody>\n",
       "</table>\n",
       "<p>320 rows × 3 columns</p>\n",
       "</div>"
      ],
      "text/plain": [
       "           metric    values classifier\n",
       "2         test_f1  0.535885        LDA\n",
       "2         test_f1  0.621924        LDA\n",
       "2         test_f1  0.580046        LDA\n",
       "2         test_f1  0.626667        LDA\n",
       "2         test_f1  0.594966        LDA\n",
       "..            ...       ...        ...\n",
       "5   test_accuracy  0.996674        SVM\n",
       "5   test_accuracy  0.993902        SVM\n",
       "5   test_accuracy  0.994457        SVM\n",
       "5   test_accuracy  0.998337        SVM\n",
       "5   test_accuracy  0.998337        SVM\n",
       "\n",
       "[320 rows x 3 columns]"
      ]
     },
     "execution_count": 48,
     "metadata": {},
     "output_type": "execute_result"
    }
   ],
   "source": [
    "metrics_to_select = ['test_f1', 'test_recall', 'test_precision', 'test_accuracy']\n",
    "df_selected = df.loc[df['metric'].isin(metrics_to_select)]\n",
    "df_selected"
   ]
  },
  {
   "cell_type": "code",
   "execution_count": 49,
   "metadata": {
    "colab": {
     "base_uri": "https://localhost:8080/",
     "height": 564
    },
    "executionInfo": {
     "elapsed": 1974,
     "status": "ok",
     "timestamp": 1699448832207,
     "user": {
      "displayName": "Ivan Daniel Villegas Isasa",
      "userId": "00302774522595278560"
     },
     "user_tz": 300
    },
    "id": "avB6OnVkCkYn",
    "outputId": "b62f50dd-4bbe-44ea-8ccc-286f0cba72ef"
   },
   "outputs": [
    {
     "data": {
      "image/png": "[encoded data removed]",
      "text/plain": [
       "<Figure size 864x432 with 1 Axes>"
      ]
     },
     "metadata": {
      "needs_background": "light"
     },
     "output_type": "display_data"
    }
   ],
   "source": [
    "# DATOS DE ENTRADA\n",
    "variable_numerica = \"values\"\n",
    "variable_categorica_agrupacion = \"metric\"\n",
    "variable_categorica_agrupacion2 = \"classifier\"\n",
    "titulo_grafico = \"Resultados de las metricas en diferentes clasificadores dataset BCI Competition\"\n",
    "\n",
    "#Gráfico Boxplot a una sola variable númerica según dos categorica\n",
    "plt.figure(figsize=(12,6))\n",
    "sns.boxplot(x=variable_categorica_agrupacion, y=variable_numerica, hue=variable_categorica_agrupacion2, data=df_selected, palette=\"Set1\")\n",
    "plt.title(titulo_grafico)\n",
    "plt.savefig('boxplot_Competition')\n",
    "plt.show()"
   ]
  },
  {
   "cell_type": "markdown",
   "metadata": {
    "id": "3HqhRFmSDtdb"
   },
   "source": [
    "# Data normalizada"
   ]
  },
  {
   "cell_type": "code",
   "execution_count": 50,
   "metadata": {
    "colab": {
     "base_uri": "https://localhost:8080/",
     "height": 126
    },
    "executionInfo": {
     "elapsed": 204,
     "status": "ok",
     "timestamp": 1699449813365,
     "user": {
      "displayName": "Ivan Daniel Villegas Isasa",
      "userId": "00302774522595278560"
     },
     "user_tz": 300
    },
    "id": "-S1CyWscEjea",
    "outputId": "7bc161cb-e899-40ce-ad78-4e3fb8455017"
   },
   "outputs": [],
   "source": [
    "from sklearn.pipeline import make_pipeline\n",
    "from sklearn.preprocessing import Normalizer\n",
    "\n",
    "X = X_train # Arreglo con los valores de las cuatro características\n",
    "y = y_train # Arreglo con las etiquetas de las clases (0 o 1)\n",
    "\n",
    "lda = LinearDiscriminantAnalysis()\n",
    "tr = tree.DecisionTreeClassifier(max_depth=7)\n",
    "rfc = RandomForestClassifier(n_estimators=100, max_depth=2, random_state=42)\n",
    "svm = SVC(gamma=\"auto\",kernel='rbf', C=1)\n",
    "\n",
    "clf_lda = make_pipeline(Normalizer(), lda)\n",
    "clf_tr = make_pipeline(Normalizer(), tr)\n",
    "clf_rfc = make_pipeline(Normalizer(), rfc)\n",
    "clf_svm = make_pipeline(Normalizer(), svm)"
   ]
  },
  {
   "cell_type": "code",
   "execution_count": 51,
   "metadata": {
    "colab": {
     "base_uri": "https://localhost:8080/",
     "height": 126
    },
    "executionInfo": {
     "elapsed": 208,
     "status": "ok",
     "timestamp": 1699449877122,
     "user": {
      "displayName": "Ivan Daniel Villegas Isasa",
      "userId": "00302774522595278560"
     },
     "user_tz": 300
    },
    "id": "PBMNwrQxFyaO",
    "outputId": "47006e6d-d54e-406e-e606-a62aa800a064"
   },
   "outputs": [
    {
     "data": {
      "text/plain": [
       "Pipeline(memory=None,\n",
       "         steps=[('normalizer', Normalizer(copy=True, norm='l2')),\n",
       "                ('lineardiscriminantanalysis',\n",
       "                 LinearDiscriminantAnalysis(n_components=None, priors=None,\n",
       "                                            shrinkage=None, solver='svd',\n",
       "                                            store_covariance=False,\n",
       "                                            tol=0.0001))],\n",
       "         verbose=False)"
      ]
     },
     "execution_count": 51,
     "metadata": {},
     "output_type": "execute_result"
    }
   ],
   "source": [
    "clf_lda.fit(X, y)"
   ]
  },
  {
   "cell_type": "code",
   "execution_count": 52,
   "metadata": {
    "colab": {
     "base_uri": "https://localhost:8080/",
     "height": 126
    },
    "executionInfo": {
     "elapsed": 3,
     "status": "ok",
     "timestamp": 1699449877671,
     "user": {
      "displayName": "Ivan Daniel Villegas Isasa",
      "userId": "00302774522595278560"
     },
     "user_tz": 300
    },
    "id": "ILh1EvYIGsXT",
    "outputId": "c811759c-dd41-45d5-edd9-05e77a385032"
   },
   "outputs": [
    {
     "data": {
      "text/plain": [
       "Pipeline(memory=None,\n",
       "         steps=[('normalizer', Normalizer(copy=True, norm='l2')),\n",
       "                ('decisiontreeclassifier',\n",
       "                 DecisionTreeClassifier(ccp_alpha=0.0, class_weight=None,\n",
       "                                        criterion='gini', max_depth=7,\n",
       "                                        max_features=None, max_leaf_nodes=None,\n",
       "                                        min_impurity_decrease=0.0,\n",
       "                                        min_impurity_split=None,\n",
       "                                        min_samples_leaf=1, min_samples_split=2,\n",
       "                                        min_weight_fraction_leaf=0.0,\n",
       "                                        presort='deprecated', random_state=None,\n",
       "                                        splitter='best'))],\n",
       "         verbose=False)"
      ]
     },
     "execution_count": 52,
     "metadata": {},
     "output_type": "execute_result"
    }
   ],
   "source": [
    "clf_tr.fit(X, y)"
   ]
  },
  {
   "cell_type": "code",
   "execution_count": 53,
   "metadata": {
    "colab": {
     "base_uri": "https://localhost:8080/",
     "height": 126
    },
    "executionInfo": {
     "elapsed": 568,
     "status": "ok",
     "timestamp": 1699449878485,
     "user": {
      "displayName": "Ivan Daniel Villegas Isasa",
      "userId": "00302774522595278560"
     },
     "user_tz": 300
    },
    "id": "pMIZdMDZGu5d",
    "outputId": "3f5b8bc3-7ea6-45f3-b1d6-1d5264c5f620"
   },
   "outputs": [
    {
     "data": {
      "text/plain": [
       "Pipeline(memory=None,\n",
       "         steps=[('normalizer', Normalizer(copy=True, norm='l2')),\n",
       "                ('randomforestclassifier',\n",
       "                 RandomForestClassifier(bootstrap=True, ccp_alpha=0.0,\n",
       "                                        class_weight=None, criterion='gini',\n",
       "                                        max_depth=2, max_features='auto',\n",
       "                                        max_leaf_nodes=None, max_samples=None,\n",
       "                                        min_impurity_decrease=0.0,\n",
       "                                        min_impurity_split=None,\n",
       "                                        min_samples_leaf=1, min_samples_split=2,\n",
       "                                        min_weight_fraction_leaf=0.0,\n",
       "                                        n_estimators=100, n_jobs=None,\n",
       "                                        oob_score=False, random_state=42,\n",
       "                                        verbose=0, warm_start=False))],\n",
       "         verbose=False)"
      ]
     },
     "execution_count": 53,
     "metadata": {},
     "output_type": "execute_result"
    }
   ],
   "source": [
    "clf_rfc.fit(X, y)"
   ]
  },
  {
   "cell_type": "code",
   "execution_count": 54,
   "metadata": {
    "colab": {
     "base_uri": "https://localhost:8080/",
     "height": 126
    },
    "executionInfo": {
     "elapsed": 4,
     "status": "ok",
     "timestamp": 1699449878485,
     "user": {
      "displayName": "Ivan Daniel Villegas Isasa",
      "userId": "00302774522595278560"
     },
     "user_tz": 300
    },
    "id": "cztxnvHQGvqT",
    "outputId": "6bfb9a27-3f06-4d81-f00a-127bdcfe22d4"
   },
   "outputs": [
    {
     "data": {
      "text/plain": [
       "Pipeline(memory=None,\n",
       "         steps=[('normalizer', Normalizer(copy=True, norm='l2')),\n",
       "                ('svc',\n",
       "                 SVC(C=1, break_ties=False, cache_size=200, class_weight=None,\n",
       "                     coef0=0.0, decision_function_shape='ovr', degree=3,\n",
       "                     gamma='auto', kernel='rbf', max_iter=-1, probability=False,\n",
       "                     random_state=None, shrinking=True, tol=0.001,\n",
       "                     verbose=False))],\n",
       "         verbose=False)"
      ]
     },
     "execution_count": 54,
     "metadata": {},
     "output_type": "execute_result"
    }
   ],
   "source": [
    "clf_svm.fit(X, y)"
   ]
  },
  {
   "cell_type": "code",
   "execution_count": 55,
   "metadata": {
    "colab": {
     "base_uri": "https://localhost:8080/",
     "height": 745
    },
    "executionInfo": {
     "elapsed": 1133,
     "status": "ok",
     "timestamp": 1699449960728,
     "user": {
      "displayName": "Ivan Daniel Villegas Isasa",
      "userId": "00302774522595278560"
     },
     "user_tz": 300
    },
    "id": "m_XE8FQFGzXY",
    "outputId": "647d58ba-4c40-45a9-adb6-cdc946ea793d"
   },
   "outputs": [
    {
     "name": "stdout",
     "output_type": "stream",
     "text": [
      "4 4\n"
     ]
    },
    {
     "data": {
      "text/html": [
       "<div>\n",
       "<style scoped>\n",
       "    .dataframe tbody tr th:only-of-type {\n",
       "        vertical-align: middle;\n",
       "    }\n",
       "\n",
       "    .dataframe tbody tr th {\n",
       "        vertical-align: top;\n",
       "    }\n",
       "\n",
       "    .dataframe thead th {\n",
       "        text-align: right;\n",
       "    }\n",
       "</style>\n",
       "<table border=\"1\" class=\"dataframe\">\n",
       "  <thead>\n",
       "    <tr style=\"text-align: right;\">\n",
       "      <th></th>\n",
       "      <th>modelo</th>\n",
       "      <th>Accuracy</th>\n",
       "      <th>Precision</th>\n",
       "      <th>Recall</th>\n",
       "      <th>F1_Score</th>\n",
       "      <th>Cohen_Kappa</th>\n",
       "      <th>Conf_Matrix</th>\n",
       "    </tr>\n",
       "  </thead>\n",
       "  <tbody>\n",
       "    <tr>\n",
       "      <th>0</th>\n",
       "      <td>LDA</td>\n",
       "      <td>1.0</td>\n",
       "      <td>1.0</td>\n",
       "      <td>1.0</td>\n",
       "      <td>1.0</td>\n",
       "      <td>1.0</td>\n",
       "      <td>[[1.0, 0.0], [0.0, 1.0]]</td>\n",
       "    </tr>\n",
       "    <tr>\n",
       "      <th>1</th>\n",
       "      <td>Tree</td>\n",
       "      <td>1.0</td>\n",
       "      <td>1.0</td>\n",
       "      <td>1.0</td>\n",
       "      <td>1.0</td>\n",
       "      <td>1.0</td>\n",
       "      <td>[[[1.0, 0.0], [0.0, 1.0]]]</td>\n",
       "    </tr>\n",
       "    <tr>\n",
       "      <th>2</th>\n",
       "      <td>RF</td>\n",
       "      <td>1.0</td>\n",
       "      <td>1.0</td>\n",
       "      <td>1.0</td>\n",
       "      <td>1.0</td>\n",
       "      <td>1.0</td>\n",
       "      <td>[[[1.0, 0.0], [0.0, 1.0]]]</td>\n",
       "    </tr>\n",
       "    <tr>\n",
       "      <th>3</th>\n",
       "      <td>SVM</td>\n",
       "      <td>1.0</td>\n",
       "      <td>1.0</td>\n",
       "      <td>1.0</td>\n",
       "      <td>1.0</td>\n",
       "      <td>1.0</td>\n",
       "      <td>[[[1.0, 0.0], [0.0, 1.0]]]</td>\n",
       "    </tr>\n",
       "  </tbody>\n",
       "</table>\n",
       "</div>"
      ],
      "text/plain": [
       "  modelo  Accuracy  Precision  Recall  F1_Score  Cohen_Kappa  \\\n",
       "0    LDA       1.0        1.0     1.0       1.0          1.0   \n",
       "1   Tree       1.0        1.0     1.0       1.0          1.0   \n",
       "2     RF       1.0        1.0     1.0       1.0          1.0   \n",
       "3    SVM       1.0        1.0     1.0       1.0          1.0   \n",
       "\n",
       "                  Conf_Matrix  \n",
       "0    [[1.0, 0.0], [0.0, 1.0]]  \n",
       "1  [[[1.0, 0.0], [0.0, 1.0]]]  \n",
       "2  [[[1.0, 0.0], [0.0, 1.0]]]  \n",
       "3  [[[1.0, 0.0], [0.0, 1.0]]]  "
      ]
     },
     "execution_count": 55,
     "metadata": {},
     "output_type": "execute_result"
    },
    {
     "data": {
      "image/png": "[encoded data removed]",
      "text/plain": [
       "<Figure size 432x288 with 1 Axes>"
      ]
     },
     "metadata": {
      "needs_background": "light"
     },
     "output_type": "display_data"
    }
   ],
   "source": [
    "y_pred_lda = clf_lda.predict(X_test)\n",
    "y_pred_tr = clf_tr.predict(X_test)\n",
    "y_pred_rfc = clf_rfc.predict(X_test)\n",
    "y_pred_svm = clf_svm.predict(X_test)\n",
    "Y_test = [y_test, y_test, y_test, y_test]\n",
    "y_predi = [y_pred_lda, y_pred_tr, y_pred_rfc, y_pred_svm]\n",
    "print(len(Y_test), len(y_predi))\n",
    "modelos = ['LDA','Tree','RF','SVM']\n",
    "df, fig = comparar_modelos(Y_test,y_predi,modelos)\n",
    "df"
   ]
  }
 ],
 "metadata": {
  "colab": {
   "authorship_tag": "ABX9TyMynym+qtTvmAXsOYM2KVlB",
   "provenance": []
  },
  "kernelspec": {
   "display_name": "Python 3",
   "language": "python",
   "name": "python3"
  },
  "language_info": {
   "codemirror_mode": {
    "name": "ipython",
    "version": 3
   },
   "file_extension": ".py",
   "mimetype": "text/x-python",
   "name": "python",
   "nbconvert_exporter": "python",
   "pygments_lexer": "ipython3",
   "version": "3.7.6"
  }
 },
 "nbformat": 4,
 "nbformat_minor": 4
}
