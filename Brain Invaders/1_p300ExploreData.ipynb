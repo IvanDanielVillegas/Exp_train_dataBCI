{
 "cells": [
  {
   "cell_type": "code",
   "execution_count": 1,
   "metadata": {
    "executionInfo": {
     "elapsed": 2051,
     "status": "ok",
     "timestamp": 1694293093973,
     "user": {
      "displayName": "Ivan Daniel Villegas Isasa",
      "userId": "00302774522595278560"
     },
     "user_tz": 300
    },
    "id": "BXhtQ1F_BAN2"
   },
   "outputs": [],
   "source": [
    "import scipy.io as sio\n",
    "import numpy as np\n",
    "import matplotlib.pyplot as plt\n",
    "import pandas as pd\n",
    "from scipy import signal\n",
    "import math\n",
    "import mne\n",
    "import pybv\n",
    "%matplotlib inline"
   ]
  },
  {
   "cell_type": "code",
   "execution_count": 2,
   "metadata": {
    "colab": {
     "base_uri": "https://localhost:8080/"
    },
    "executionInfo": {
     "elapsed": 13,
     "status": "ok",
     "timestamp": 1694293252800,
     "user": {
      "displayName": "Ivan Daniel Villegas Isasa",
      "userId": "00302774522595278560"
     },
     "user_tz": 300
    },
    "id": "UpxdYZePBDGG",
    "outputId": "a30bc68d-fa24-46ee-d914-9fa4eacab199"
   },
   "outputs": [
    {
     "name": "stdout",
     "output_type": "stream",
     "text": [
      "Extracting parameters from Data/pybv/pybv_file01.vhdr...\n",
      "Setting channel info structure...\n",
      "Reading 0 ... 417923  =      0.000 ...   816.256 secs...\n"
     ]
    }
   ],
   "source": [
    "raw1 = mne.io.read_raw_brainvision('Data/pybv/pybv_file01.vhdr', preload=True)\n",
    "# Imprimir información sobre Raw\n",
    "#print(raw.info)\n",
    "#print(raw.ch_names)"
   ]
  },
  {
   "cell_type": "code",
   "execution_count": 3,
   "metadata": {
    "colab": {
     "base_uri": "https://localhost:8080/"
    },
    "executionInfo": {
     "elapsed": 545,
     "status": "ok",
     "timestamp": 1694293253544,
     "user": {
      "displayName": "Ivan Daniel Villegas Isasa",
      "userId": "00302774522595278560"
     },
     "user_tz": 300
    },
    "id": "AR8o6y8BgAxM",
    "outputId": "ba231569-ce13-43b6-ee98-737f0ca09594"
   },
   "outputs": [
    {
     "name": "stdout",
     "output_type": "stream",
     "text": [
      "Extracting parameters from Data/pybv/pybv_file02.vhdr...\n",
      "Setting channel info structure...\n",
      "Reading 0 ... 202369  =      0.000 ...   395.252 secs...\n",
      "Extracting parameters from Data/pybv/pybv_file03.vhdr...\n",
      "Setting channel info structure...\n",
      "Reading 0 ... 575980  =      0.000 ...  1124.961 secs...\n",
      "Extracting parameters from Data/pybv/pybv_file04.vhdr...\n",
      "Setting channel info structure...\n",
      "Reading 0 ... 311097  =      0.000 ...   607.611 secs...\n",
      "Extracting parameters from Data/pybv/pybv_file05.vhdr...\n",
      "Setting channel info structure...\n",
      "Reading 0 ... 312989  =      0.000 ...   611.307 secs...\n",
      "Extracting parameters from Data/pybv/pybv_file06.vhdr...\n",
      "Setting channel info structure...\n",
      "Reading 0 ... 238569  =      0.000 ...   465.955 secs...\n",
      "Extracting parameters from Data/pybv/pybv_file07.vhdr...\n",
      "Setting channel info structure...\n",
      "Reading 0 ... 491940  =      0.000 ...   960.820 secs...\n",
      "Extracting parameters from Data/pybv/pybv_file08.vhdr...\n",
      "Setting channel info structure...\n",
      "Reading 0 ... 206923  =      0.000 ...   404.146 secs...\n",
      "Extracting parameters from Data/pybv/pybv_file09.vhdr...\n",
      "Setting channel info structure...\n",
      "Reading 0 ... 485715  =      0.000 ...   948.662 secs...\n",
      "Extracting parameters from Data/pybv/pybv_file10.vhdr...\n",
      "Setting channel info structure...\n",
      "Reading 0 ... 241338  =      0.000 ...   471.363 secs...\n"
     ]
    }
   ],
   "source": [
    "raw2 = mne.io.read_raw_brainvision('Data/pybv/pybv_file02.vhdr', preload=True)\n",
    "raw3 = mne.io.read_raw_brainvision('Data/pybv/pybv_file03.vhdr', preload=True)\n",
    "raw4 = mne.io.read_raw_brainvision('Data/pybv/pybv_file04.vhdr', preload=True)\n",
    "raw5 = mne.io.read_raw_brainvision('Data/pybv/pybv_file05.vhdr', preload=True)\n",
    "raw6 = mne.io.read_raw_brainvision('Data/pybv/pybv_file06.vhdr', preload=True)\n",
    "raw7 = mne.io.read_raw_brainvision('Data/pybv/pybv_file07.vhdr', preload=True)\n",
    "raw8 = mne.io.read_raw_brainvision('Data/pybv/pybv_file08.vhdr', preload=True)\n",
    "raw9 = mne.io.read_raw_brainvision('Data/pybv/pybv_file09.vhdr', preload=True)\n",
    "raw10 = mne.io.read_raw_brainvision('Data/pybv/pybv_file10.vhdr', preload=True)\n",
    "raw = mne.concatenate_raws([raw1, raw2, raw3, raw4, raw5, raw6, raw7, raw8, raw9, raw10])"
   ]
  },
  {
   "cell_type": "code",
   "execution_count": 4,
   "metadata": {},
   "outputs": [
    {
     "name": "stdout",
     "output_type": "stream",
     "text": [
      "Extracting parameters from Data/pybv/pybv_file11.vhdr...\n",
      "Setting channel info structure...\n",
      "Reading 0 ... 327861  =      0.000 ...   640.354 secs...\n",
      "Extracting parameters from Data/pybv/pybv_file12.vhdr...\n",
      "Setting channel info structure...\n",
      "Reading 0 ... 360810  =      0.000 ...   704.707 secs...\n",
      "Extracting parameters from Data/pybv/pybv_file13.vhdr...\n",
      "Setting channel info structure...\n",
      "Reading 0 ... 206476  =      0.000 ...   403.273 secs...\n",
      "Extracting parameters from Data/pybv/pybv_file14.vhdr...\n",
      "Setting channel info structure...\n",
      "Reading 0 ... 310249  =      0.000 ...   605.955 secs...\n",
      "Extracting parameters from Data/pybv/pybv_file15.vhdr...\n",
      "Setting channel info structure...\n",
      "Reading 0 ... 401027  =      0.000 ...   783.256 secs...\n",
      "Extracting parameters from Data/pybv/pybv_file16.vhdr...\n",
      "Setting channel info structure...\n",
      "Reading 0 ... 295844  =      0.000 ...   577.820 secs...\n",
      "Extracting parameters from Data/pybv/pybv_file17.vhdr...\n",
      "Setting channel info structure...\n",
      "Reading 0 ... 407855  =      0.000 ...   796.592 secs...\n",
      "Extracting parameters from Data/pybv/pybv_file18.vhdr...\n",
      "Setting channel info structure...\n",
      "Reading 0 ... 376314  =      0.000 ...   734.988 secs...\n",
      "Extracting parameters from Data/pybv/pybv_file19.vhdr...\n",
      "Setting channel info structure...\n",
      "Reading 0 ... 361169  =      0.000 ...   705.408 secs...\n",
      "Extracting parameters from Data/pybv/pybv_file20.vhdr...\n",
      "Setting channel info structure...\n",
      "Reading 0 ... 281360  =      0.000 ...   549.531 secs...\n"
     ]
    }
   ],
   "source": [
    "raw1 = mne.io.read_raw_brainvision('Data/pybv/pybv_file11.vhdr', preload=True)\n",
    "raw2 = mne.io.read_raw_brainvision('Data/pybv/pybv_file12.vhdr', preload=True)\n",
    "raw3 = mne.io.read_raw_brainvision('Data/pybv/pybv_file13.vhdr', preload=True)\n",
    "raw4 = mne.io.read_raw_brainvision('Data/pybv/pybv_file14.vhdr', preload=True)\n",
    "raw5 = mne.io.read_raw_brainvision('Data/pybv/pybv_file15.vhdr', preload=True)\n",
    "raw6 = mne.io.read_raw_brainvision('Data/pybv/pybv_file16.vhdr', preload=True)\n",
    "raw7 = mne.io.read_raw_brainvision('Data/pybv/pybv_file17.vhdr', preload=True)\n",
    "raw8 = mne.io.read_raw_brainvision('Data/pybv/pybv_file18.vhdr', preload=True)\n",
    "raw9 = mne.io.read_raw_brainvision('Data/pybv/pybv_file19.vhdr', preload=True)\n",
    "raw10 = mne.io.read_raw_brainvision('Data/pybv/pybv_file20.vhdr', preload=True)\n",
    "raw = mne.concatenate_raws([raw, raw1, raw2, raw3, raw4, raw5, raw6, raw7, raw8, raw9, raw10])"
   ]
  },
  {
   "cell_type": "code",
   "execution_count": 5,
   "metadata": {},
   "outputs": [
    {
     "name": "stdout",
     "output_type": "stream",
     "text": [
      "Extracting parameters from Data/pybv/pybv_file21.vhdr...\n",
      "Setting channel info structure...\n",
      "Reading 0 ... 377095  =      0.000 ...   736.514 secs...\n",
      "Extracting parameters from Data/pybv/pybv_file22.vhdr...\n",
      "Setting channel info structure...\n",
      "Reading 0 ... 259461  =      0.000 ...   506.760 secs...\n",
      "Extracting parameters from Data/pybv/pybv_file23.vhdr...\n",
      "Setting channel info structure...\n",
      "Reading 0 ... 358120  =      0.000 ...   699.453 secs...\n",
      "Extracting parameters from Data/pybv/pybv_file24.vhdr...\n",
      "Setting channel info structure...\n",
      "Reading 0 ... 261197  =      0.000 ...   510.150 secs...\n",
      "Extracting parameters from Data/pybv/pybv_file25.vhdr...\n",
      "Setting channel info structure...\n",
      "Reading 0 ... 326835  =      0.000 ...   638.350 secs...\n",
      "Extracting parameters from Data/pybv/pybv_file26.vhdr...\n",
      "Setting channel info structure...\n",
      "Reading 0 ... 377770  =      0.000 ...   737.832 secs...\n",
      "Extracting parameters from Data/pybv/pybv_file27.vhdr...\n",
      "Setting channel info structure...\n",
      "Reading 0 ... 359713  =      0.000 ...   702.564 secs...\n",
      "Extracting parameters from Data/pybv/pybv_file28.vhdr...\n",
      "Setting channel info structure...\n",
      "Reading 0 ... 288885  =      0.000 ...   564.229 secs...\n",
      "Extracting parameters from Data/pybv/pybv_file29.vhdr...\n",
      "Setting channel info structure...\n",
      "Reading 0 ... 465532  =      0.000 ...   909.242 secs...\n",
      "Extracting parameters from Data/pybv/pybv_file30.vhdr...\n",
      "Setting channel info structure...\n",
      "Reading 0 ... 307140  =      0.000 ...   599.883 secs...\n"
     ]
    }
   ],
   "source": [
    "raw1 = mne.io.read_raw_brainvision('Data/pybv/pybv_file21.vhdr', preload=True)\n",
    "raw2 = mne.io.read_raw_brainvision('Data/pybv/pybv_file22.vhdr', preload=True)\n",
    "raw3 = mne.io.read_raw_brainvision('Data/pybv/pybv_file23.vhdr', preload=True)\n",
    "raw4 = mne.io.read_raw_brainvision('Data/pybv/pybv_file24.vhdr', preload=True)\n",
    "raw5 = mne.io.read_raw_brainvision('Data/pybv/pybv_file25.vhdr', preload=True)\n",
    "raw6 = mne.io.read_raw_brainvision('Data/pybv/pybv_file26.vhdr', preload=True)\n",
    "raw7 = mne.io.read_raw_brainvision('Data/pybv/pybv_file27.vhdr', preload=True)\n",
    "raw8 = mne.io.read_raw_brainvision('Data/pybv/pybv_file28.vhdr', preload=True)\n",
    "raw9 = mne.io.read_raw_brainvision('Data/pybv/pybv_file29.vhdr', preload=True)\n",
    "raw10 = mne.io.read_raw_brainvision('Data/pybv/pybv_file30.vhdr', preload=True)\n",
    "raw = mne.concatenate_raws([raw, raw1, raw2, raw3, raw4, raw5, raw6, raw7, raw8, raw9, raw10])"
   ]
  },
  {
   "cell_type": "code",
   "execution_count": 6,
   "metadata": {},
   "outputs": [
    {
     "name": "stdout",
     "output_type": "stream",
     "text": [
      "Extracting parameters from Data/pybv/pybv_file31.vhdr...\n",
      "Setting channel info structure...\n",
      "Reading 0 ... 491750  =      0.000 ...   960.449 secs...\n",
      "Extracting parameters from Data/pybv/pybv_file32.vhdr...\n",
      "Setting channel info structure...\n",
      "Reading 0 ... 280727  =      0.000 ...   548.295 secs...\n",
      "Extracting parameters from Data/pybv/pybv_file33.vhdr...\n",
      "Setting channel info structure...\n",
      "Reading 0 ... 398733  =      0.000 ...   778.775 secs...\n",
      "Extracting parameters from Data/pybv/pybv_file34.vhdr...\n",
      "Setting channel info structure...\n",
      "Reading 0 ... 329112  =      0.000 ...   642.797 secs...\n",
      "Extracting parameters from Data/pybv/pybv_file35.vhdr...\n",
      "Setting channel info structure...\n",
      "Reading 0 ... 396207  =      0.000 ...   773.842 secs...\n",
      "Extracting parameters from Data/pybv/pybv_file36.vhdr...\n",
      "Setting channel info structure...\n",
      "Reading 0 ... 287864  =      0.000 ...   562.234 secs...\n",
      "Extracting parameters from Data/pybv/pybv_file37.vhdr...\n",
      "Setting channel info structure...\n",
      "Reading 0 ... 299603  =      0.000 ...   585.162 secs...\n",
      "Extracting parameters from Data/pybv/pybv_file38.vhdr...\n",
      "Setting channel info structure...\n",
      "Reading 0 ... 367205  =      0.000 ...   717.197 secs...\n",
      "Extracting parameters from Data/pybv/pybv_file39.vhdr...\n",
      "Setting channel info structure...\n",
      "Reading 0 ... 330672  =      0.000 ...   645.844 secs...\n",
      "Extracting parameters from Data/pybv/pybv_file40.vhdr...\n",
      "Setting channel info structure...\n",
      "Reading 0 ... 300468  =      0.000 ...   586.852 secs...\n"
     ]
    }
   ],
   "source": [
    "raw1 = mne.io.read_raw_brainvision('Data/pybv/pybv_file31.vhdr', preload=True)\n",
    "raw2 = mne.io.read_raw_brainvision('Data/pybv/pybv_file32.vhdr', preload=True)\n",
    "raw3 = mne.io.read_raw_brainvision('Data/pybv/pybv_file33.vhdr', preload=True)\n",
    "raw4 = mne.io.read_raw_brainvision('Data/pybv/pybv_file34.vhdr', preload=True)\n",
    "raw5 = mne.io.read_raw_brainvision('Data/pybv/pybv_file35.vhdr', preload=True)\n",
    "raw6 = mne.io.read_raw_brainvision('Data/pybv/pybv_file36.vhdr', preload=True)\n",
    "raw7 = mne.io.read_raw_brainvision('Data/pybv/pybv_file37.vhdr', preload=True)\n",
    "raw8 = mne.io.read_raw_brainvision('Data/pybv/pybv_file38.vhdr', preload=True)\n",
    "raw9 = mne.io.read_raw_brainvision('Data/pybv/pybv_file39.vhdr', preload=True)\n",
    "raw10 = mne.io.read_raw_brainvision('Data/pybv/pybv_file40.vhdr', preload=True)\n",
    "raw = mne.concatenate_raws([raw, raw1, raw2, raw3, raw4, raw5, raw6, raw7, raw8, raw9, raw10])"
   ]
  },
  {
   "cell_type": "code",
   "execution_count": 7,
   "metadata": {},
   "outputs": [
    {
     "name": "stdout",
     "output_type": "stream",
     "text": [
      "Extracting parameters from Data/pybv/pybv_file41.vhdr...\n",
      "Setting channel info structure...\n",
      "Reading 0 ... 327352  =      0.000 ...   639.359 secs...\n",
      "Extracting parameters from Data/pybv/pybv_file42.vhdr...\n",
      "Setting channel info structure...\n",
      "Reading 0 ... 275361  =      0.000 ...   537.814 secs...\n",
      "Extracting parameters from Data/pybv/pybv_file43.vhdr...\n",
      "Setting channel info structure...\n",
      "Reading 0 ... 289129  =      0.000 ...   564.705 secs...\n",
      "Extracting parameters from Data/pybv/pybv_file44.vhdr...\n",
      "Setting channel info structure...\n",
      "Reading 0 ... 305407  =      0.000 ...   596.498 secs...\n",
      "Extracting parameters from Data/pybv/pybv_file45.vhdr...\n",
      "Setting channel info structure...\n",
      "Reading 0 ... 437403  =      0.000 ...   854.303 secs...\n",
      "Extracting parameters from Data/pybv/pybv_file46.vhdr...\n",
      "Setting channel info structure...\n",
      "Reading 0 ... 415113  =      0.000 ...   810.768 secs...\n",
      "Extracting parameters from Data/pybv/pybv_file47.vhdr...\n",
      "Setting channel info structure...\n",
      "Reading 0 ... 403796  =      0.000 ...   788.664 secs...\n",
      "Extracting parameters from Data/pybv/pybv_file48.vhdr...\n",
      "Setting channel info structure...\n",
      "Reading 0 ... 407830  =      0.000 ...   796.543 secs...\n",
      "Extracting parameters from Data/pybv/pybv_file49.vhdr...\n",
      "Setting channel info structure...\n",
      "Reading 0 ... 457894  =      0.000 ...   894.324 secs...\n",
      "Extracting parameters from Data/pybv/pybv_file50.vhdr...\n",
      "Setting channel info structure...\n",
      "Reading 0 ... 474938  =      0.000 ...   927.613 secs...\n"
     ]
    }
   ],
   "source": [
    "raw1 = mne.io.read_raw_brainvision('Data/pybv/pybv_file41.vhdr', preload=True)\n",
    "raw2 = mne.io.read_raw_brainvision('Data/pybv/pybv_file42.vhdr', preload=True)\n",
    "raw3 = mne.io.read_raw_brainvision('Data/pybv/pybv_file43.vhdr', preload=True)\n",
    "raw4 = mne.io.read_raw_brainvision('Data/pybv/pybv_file44.vhdr', preload=True)\n",
    "raw5 = mne.io.read_raw_brainvision('Data/pybv/pybv_file45.vhdr', preload=True)\n",
    "raw6 = mne.io.read_raw_brainvision('Data/pybv/pybv_file46.vhdr', preload=True)\n",
    "raw7 = mne.io.read_raw_brainvision('Data/pybv/pybv_file47.vhdr', preload=True)\n",
    "raw8 = mne.io.read_raw_brainvision('Data/pybv/pybv_file48.vhdr', preload=True)\n",
    "raw9 = mne.io.read_raw_brainvision('Data/pybv/pybv_file49.vhdr', preload=True)\n",
    "raw10 = mne.io.read_raw_brainvision('Data/pybv/pybv_file50.vhdr', preload=True)\n",
    "raw = mne.concatenate_raws([raw, raw1, raw2, raw3, raw4, raw5, raw6, raw7, raw8, raw9, raw10])"
   ]
  },
  {
   "cell_type": "code",
   "execution_count": 8,
   "metadata": {},
   "outputs": [
    {
     "name": "stdout",
     "output_type": "stream",
     "text": [
      "Extracting parameters from Data/pybv/pybv_file51.vhdr...\n",
      "Setting channel info structure...\n",
      "Reading 0 ... 522786  =      0.000 ...  1021.066 secs...\n",
      "Extracting parameters from Data/pybv/pybv_file61.vhdr...\n",
      "Setting channel info structure...\n",
      "Reading 0 ... 459995  =      0.000 ...   898.428 secs...\n",
      "Extracting parameters from Data/pybv/pybv_file53.vhdr...\n",
      "Setting channel info structure...\n",
      "Reading 0 ... 498210  =      0.000 ...   973.066 secs...\n",
      "Extracting parameters from Data/pybv/pybv_file54.vhdr...\n",
      "Setting channel info structure...\n",
      "Reading 0 ... 366175  =      0.000 ...   715.186 secs...\n",
      "Extracting parameters from Data/pybv/pybv_file55.vhdr...\n",
      "Setting channel info structure...\n",
      "Reading 0 ... 445940  =      0.000 ...   870.977 secs...\n",
      "Extracting parameters from Data/pybv/pybv_file56.vhdr...\n",
      "Setting channel info structure...\n",
      "Reading 0 ... 424492  =      0.000 ...   829.086 secs...\n",
      "Extracting parameters from Data/pybv/pybv_file57.vhdr...\n",
      "Setting channel info structure...\n",
      "Reading 0 ... 454078  =      0.000 ...   886.871 secs...\n",
      "Extracting parameters from Data/pybv/pybv_file58.vhdr...\n",
      "Setting channel info structure...\n",
      "Reading 0 ... 297984  =      0.000 ...   582.000 secs...\n",
      "Extracting parameters from Data/pybv/pybv_file59.vhdr...\n",
      "Setting channel info structure...\n",
      "Reading 0 ... 259389  =      0.000 ...   506.619 secs...\n",
      "Extracting parameters from Data/pybv/pybv_file60.vhdr...\n",
      "Setting channel info structure...\n",
      "Reading 0 ... 285591  =      0.000 ...   557.795 secs...\n"
     ]
    }
   ],
   "source": [
    "raw1 = mne.io.read_raw_brainvision('Data/pybv/pybv_file51.vhdr', preload=True)\n",
    "raw2 = mne.io.read_raw_brainvision('Data/pybv/pybv_file61.vhdr', preload=True)\n",
    "raw3 = mne.io.read_raw_brainvision('Data/pybv/pybv_file53.vhdr', preload=True)\n",
    "raw4 = mne.io.read_raw_brainvision('Data/pybv/pybv_file54.vhdr', preload=True)\n",
    "raw5 = mne.io.read_raw_brainvision('Data/pybv/pybv_file55.vhdr', preload=True)\n",
    "raw6 = mne.io.read_raw_brainvision('Data/pybv/pybv_file56.vhdr', preload=True)\n",
    "raw7 = mne.io.read_raw_brainvision('Data/pybv/pybv_file57.vhdr', preload=True)\n",
    "raw8 = mne.io.read_raw_brainvision('Data/pybv/pybv_file58.vhdr', preload=True)\n",
    "raw9 = mne.io.read_raw_brainvision('Data/pybv/pybv_file59.vhdr', preload=True)\n",
    "raw10 = mne.io.read_raw_brainvision('Data/pybv/pybv_file60.vhdr', preload=True)\n",
    "raw = mne.concatenate_raws([raw, raw1, raw3, raw4, raw5, raw6, raw7, raw8, raw9, raw10, raw2])"
   ]
  },
  {
   "cell_type": "code",
   "execution_count": 9,
   "metadata": {},
   "outputs": [
    {
     "name": "stdout",
     "output_type": "stream",
     "text": [
      "Extracting parameters from Data/pybv/pybv_file62.vhdr...\n",
      "Setting channel info structure...\n",
      "Reading 0 ... 435389  =      0.000 ...   850.369 secs...\n",
      "Extracting parameters from Data/pybv/pybv_file63.vhdr...\n",
      "Setting channel info structure...\n",
      "Reading 0 ... 149616  =      0.000 ...   292.219 secs...\n",
      "Extracting parameters from Data/pybv/pybv_file64.vhdr...\n",
      "Setting channel info structure...\n",
      "Reading 0 ... 554420  =      0.000 ...  1082.852 secs...\n"
     ]
    }
   ],
   "source": [
    "raw2 = mne.io.read_raw_brainvision('Data/pybv/pybv_file62.vhdr', preload=True)\n",
    "raw3 = mne.io.read_raw_brainvision('Data/pybv/pybv_file63.vhdr', preload=True)\n",
    "raw4 = mne.io.read_raw_brainvision('Data/pybv/pybv_file64.vhdr', preload=True)\n",
    "raw = mne.concatenate_raws([raw, raw2, raw3, raw4])"
   ]
  },
  {
   "cell_type": "code",
   "execution_count": 10,
   "metadata": {
    "colab": {
     "base_uri": "https://localhost:8080/",
     "height": 1000
    },
    "executionInfo": {
     "elapsed": 11512,
     "status": "ok",
     "timestamp": 1694293265051,
     "user": {
      "displayName": "Ivan Daniel Villegas Isasa",
      "userId": "00302774522595278560"
     },
     "user_tz": 300
    },
    "id": "8TFxrg88BtMN",
    "outputId": "256013a7-1a9b-4504-9869-8b0a3adc2dd4"
   },
   "outputs": [
    {
     "data": {
      "text/html": [
       "<table class=\"table table-hover table-striped table-sm table-responsive small\">\n",
       "    <tr>\n",
       "        <th>Measurement date</th>\n",
       "        \n",
       "        <td>Unknown</td>\n",
       "        \n",
       "    </tr>\n",
       "    <tr>\n",
       "        <th>Experimenter</th>\n",
       "        \n",
       "        <td>Unknown</td>\n",
       "        \n",
       "    </tr>\n",
       "        <th>Participant</th>\n",
       "        \n",
       "        <td>Unknown</td>\n",
       "        \n",
       "    </tr>\n",
       "    <tr>\n",
       "        <th>Digitized points</th>\n",
       "        \n",
       "        <td>19 points</td>\n",
       "        \n",
       "    </tr>\n",
       "    <tr>\n",
       "        <th>Good channels</th>\n",
       "        <td>16 EEG</td>\n",
       "    </tr>\n",
       "    <tr>\n",
       "        <th>Bad channels</th>\n",
       "        <td>None</td>\n",
       "    </tr>\n",
       "    <tr>\n",
       "        <th>EOG channels</th>\n",
       "        <td>Not available</td>\n",
       "    </tr>\n",
       "    <tr>\n",
       "        <th>ECG channels</th>\n",
       "        <td>Not available</td>\n",
       "    \n",
       "    <tr>\n",
       "        <th>Sampling frequency</th>\n",
       "        <td>512.00 Hz</td>\n",
       "    </tr>\n",
       "    \n",
       "    \n",
       "    <tr>\n",
       "        <th>Highpass</th>\n",
       "        <td>0.00 Hz</td>\n",
       "    </tr>\n",
       "    \n",
       "    \n",
       "    <tr>\n",
       "        <th>Lowpass</th>\n",
       "        <td>256.00 Hz</td>\n",
       "    </tr>\n",
       "    \n",
       "    \n",
       "    \n",
       "    <tr>\n",
       "        <th>Filenames</th>\n",
       "        <td>pybv_file01.eeg&lt;br&gt;pybv_file02.eeg&lt;br&gt;pybv_file03.eeg&lt;br&gt;pybv_file04.eeg&lt;br&gt;pybv_file05.eeg&lt;br&gt;pybv_file06.eeg&lt;br&gt;pybv_file07.eeg&lt;br&gt;pybv_file08.eeg&lt;br&gt;pybv_file09.eeg&lt;br&gt;pybv_file10.eeg&lt;br&gt;pybv_file11.eeg&lt;br&gt;pybv_file12.eeg&lt;br&gt;pybv_file13.eeg&lt;br&gt;pybv_file14.eeg&lt;br&gt;pybv_file15.eeg&lt;br&gt;pybv_file16.eeg&lt;br&gt;pybv_file17.eeg&lt;br&gt;pybv_file18.eeg&lt;br&gt;pybv_file19.eeg&lt;br&gt;pybv_file20.eeg&lt;br&gt;pybv_file21.eeg&lt;br&gt;pybv_file22.eeg&lt;br&gt;pybv_file23.eeg&lt;br&gt;pybv_file24.eeg&lt;br&gt;pybv_file25.eeg&lt;br&gt;pybv_file26.eeg&lt;br&gt;pybv_file27.eeg&lt;br&gt;pybv_file28.eeg&lt;br&gt;pybv_file29.eeg&lt;br&gt;pybv_file30.eeg&lt;br&gt;pybv_file31.eeg&lt;br&gt;pybv_file32.eeg&lt;br&gt;pybv_file33.eeg&lt;br&gt;pybv_file34.eeg&lt;br&gt;pybv_file35.eeg&lt;br&gt;pybv_file36.eeg&lt;br&gt;pybv_file37.eeg&lt;br&gt;pybv_file38.eeg&lt;br&gt;pybv_file39.eeg&lt;br&gt;pybv_file40.eeg&lt;br&gt;pybv_file41.eeg&lt;br&gt;pybv_file42.eeg&lt;br&gt;pybv_file43.eeg&lt;br&gt;pybv_file44.eeg&lt;br&gt;pybv_file45.eeg&lt;br&gt;pybv_file46.eeg&lt;br&gt;pybv_file47.eeg&lt;br&gt;pybv_file48.eeg&lt;br&gt;pybv_file49.eeg&lt;br&gt;pybv_file50.eeg&lt;br&gt;pybv_file51.eeg&lt;br&gt;pybv_file53.eeg&lt;br&gt;pybv_file54.eeg&lt;br&gt;pybv_file55.eeg&lt;br&gt;pybv_file56.eeg&lt;br&gt;pybv_file57.eeg&lt;br&gt;pybv_file58.eeg&lt;br&gt;pybv_file59.eeg&lt;br&gt;pybv_file60.eeg&lt;br&gt;pybv_file61.eeg&lt;br&gt;pybv_file62.eeg&lt;br&gt;pybv_file63.eeg&lt;br&gt;pybv_file64.eeg</td>\n",
       "    </tr>\n",
       "    \n",
       "    <tr>\n",
       "        <th>Duration</th>\n",
       "        <td>12:16:32 (HH:MM:SS)</td>\n",
       "    </tr>\n",
       "</table>"
      ],
      "text/plain": [
       "<RawBrainVision | pybv_file01.eeg, 16 x 22626248 (44191.9 s), ~2.70 GB, data loaded>"
      ]
     },
     "execution_count": 10,
     "metadata": {},
     "output_type": "execute_result"
    }
   ],
   "source": [
    "montage = mne.channels.make_standard_montage('standard_1005')\n",
    "raw.set_montage(montage)\n",
    "#raw.plot()"
   ]
  },
  {
   "cell_type": "code",
   "execution_count": 11,
   "metadata": {},
   "outputs": [],
   "source": [
    "# Definir una función que ajuste la magnitud de la señal\n",
    "def escalar_magnitud(data):\n",
    "    return data * 1e-8\n",
    "\n",
    "# Aplicar la función a los datos\n",
    "#raw_e = raw.copy().apply_function(escalar_magnitud)\n",
    "#raw_e.crop(tmin=5, tmax=7)\n",
    "#fig = raw_e.plot()\n",
    "#fig.savefig('signal_raw_invaders.png')"
   ]
  },
  {
   "cell_type": "code",
   "execution_count": 12,
   "metadata": {
    "colab": {
     "base_uri": "https://localhost:8080/",
     "height": 1000
    },
    "executionInfo": {
     "elapsed": 77470,
     "status": "ok",
     "timestamp": 1694293217127,
     "user": {
      "displayName": "Ivan Daniel Villegas Isasa",
      "userId": "00302774522595278560"
     },
     "user_tz": 300
    },
    "id": "RL3is_PXBt2b",
    "outputId": "62b22d0d-092c-45db-9128-cf6cf8391016"
   },
   "outputs": [
    {
     "name": "stdout",
     "output_type": "stream",
     "text": [
      "Fitting ICA to data using 16 channels (please be patient, this may take a while)\n"
     ]
    },
    {
     "name": "stderr",
     "output_type": "stream",
     "text": [
      "<ipython-input-12-95d6cd58f0c6>:2: RuntimeWarning: The data has not been high-pass filtered. For good ICA performance, it should be high-pass filtered (e.g., with a 1.0 Hz lower bound) before fitting ICA.\n",
      "  ica.fit(raw.copy())\n"
     ]
    },
    {
     "name": "stdout",
     "output_type": "stream",
     "text": [
      "Selecting by number: 16 components\n",
      "Fitting ICA took 370.6s.\n"
     ]
    },
    {
     "data": {
      "text/html": [
       "<table class=\"table table-hover table-striped table-sm table-responsive small\">\n",
       "    <tr>\n",
       "        <th>Method</th>\n",
       "        <td>fastica</td>\n",
       "    </tr>\n",
       "    <tr>\n",
       "        <th>Fit</th>\n",
       "        <td>60 iterations on raw data (22626248 samples)</td>\n",
       "    </tr>\n",
       "    \n",
       "    <tr>\n",
       "        <th>ICA components</th>\n",
       "        <td>16</td>\n",
       "    </tr>\n",
       "    <tr>\n",
       "        <th>Available PCA components</th>\n",
       "        <td>16</td>\n",
       "    </tr>\n",
       "    <tr>\n",
       "        <th>Channel types</th>\n",
       "        <td>eeg</td>\n",
       "    </tr>\n",
       "    <tr>\n",
       "        <th>ICA components marked for exclusion</th>\n",
       "        <td>&mdash;</td>\n",
       "    </tr>\n",
       "    \n",
       "</table>"
      ],
      "text/plain": [
       "<ICA | raw data decomposition, method: fastica (fit in 60 iterations on 22626248 samples), 16 ICA components (16 PCA components available), channel types: eeg, no sources marked for exclusion>"
      ]
     },
     "execution_count": 12,
     "metadata": {},
     "output_type": "execute_result"
    }
   ],
   "source": [
    "ica = mne.preprocessing.ICA(n_components=16, random_state=0)\n",
    "ica.fit(raw.copy())"
   ]
  },
  {
   "cell_type": "code",
   "execution_count": 13,
   "metadata": {},
   "outputs": [
    {
     "data": {
      "text/plain": [
       "[13, 14, 7, 4]"
      ]
     },
     "execution_count": 13,
     "metadata": {},
     "output_type": "execute_result"
    }
   ],
   "source": [
    "# Obtener los datos de la señal\n",
    "data = raw.get_data()\n",
    "\n",
    "# Calcular la matriz de covarianza\n",
    "covariance = np.cov(data)\n",
    "\n",
    "# Calcular la varianza explicada por cada componente\n",
    "variances = np.diag(covariance)\n",
    "\n",
    "\n",
    "# Seleccionar los dos componentes con varianzas más altas y dos componentes con varianzas más bajas\n",
    "n_components = 4\n",
    "high_variances = variances.argsort()[::-1][:n_components]\n",
    "#low_variances = variances.argsort()[:n_components]\n",
    "selected_components = list(high_variances)# + list(low_variances)\n",
    "\n",
    "#rawICA = ica.apply(raw.copy())\n",
    "selected_components"
   ]
  },
  {
   "cell_type": "code",
   "execution_count": 14,
   "metadata": {
    "colab": {
     "base_uri": "https://localhost:8080/",
     "height": 1000
    },
    "executionInfo": {
     "elapsed": 4831,
     "status": "ok",
     "timestamp": 1694293221948,
     "user": {
      "displayName": "Ivan Daniel Villegas Isasa",
      "userId": "00302774522595278560"
     },
     "user_tz": 300
    },
    "id": "fvjWfmjON0w8",
    "outputId": "2ab56e15-383d-46c0-97c1-2741a7cea101"
   },
   "outputs": [],
   "source": [
    "figs = ica.plot_components(outlines='head', show=False)\n",
    "\n",
    "# Guardar la primera figura en un archivo PNG\n",
    "figs[0].savefig('signal_components_invaders.png', format='png')"
   ]
  },
  {
   "cell_type": "code",
   "execution_count": 15,
   "metadata": {
    "executionInfo": {
     "elapsed": 18,
     "status": "ok",
     "timestamp": 1694293221949,
     "user": {
      "displayName": "Ivan Daniel Villegas Isasa",
      "userId": "00302774522595278560"
     },
     "user_tz": 300
    },
    "id": "ryp8by1sN6ZY"
   },
   "outputs": [],
   "source": [
    "ica.exclude = selected_components"
   ]
  },
  {
   "cell_type": "code",
   "execution_count": 16,
   "metadata": {
    "colab": {
     "base_uri": "https://localhost:8080/"
    },
    "executionInfo": {
     "elapsed": 795,
     "status": "ok",
     "timestamp": 1694293222728,
     "user": {
      "displayName": "Ivan Daniel Villegas Isasa",
      "userId": "00302774522595278560"
     },
     "user_tz": 300
    },
    "id": "TY0Gx6jEOsIS",
    "outputId": "5f791064-6d5a-4543-8e37-fe5d00138cd6"
   },
   "outputs": [
    {
     "name": "stdout",
     "output_type": "stream",
     "text": [
      "Using EOG channel: Fp2\n",
      "... filtering ICA sources\n",
      "Setting up band-pass filter from 1 - 10 Hz\n",
      "\n",
      "FIR filter parameters\n",
      "---------------------\n",
      "Designing a two-pass forward and reverse, zero-phase, non-causal bandpass filter:\n",
      "- Windowed frequency-domain design (firwin2) method\n",
      "- Hann window\n",
      "- Lower passband edge: 1.00\n",
      "- Lower transition bandwidth: 0.50 Hz (-12 dB cutoff frequency: 0.75 Hz)\n",
      "- Upper passband edge: 10.00 Hz\n",
      "- Upper transition bandwidth: 0.50 Hz (-12 dB cutoff frequency: 10.25 Hz)\n",
      "- Filter length: 5120 samples (10.000 sec)\n",
      "\n"
     ]
    },
    {
     "name": "stderr",
     "output_type": "stream",
     "text": [
      "[Parallel(n_jobs=1)]: Using backend SequentialBackend with 1 concurrent workers.\n",
      "[Parallel(n_jobs=1)]: Done   1 out of   1 | elapsed:    0.6s remaining:    0.0s\n",
      "[Parallel(n_jobs=1)]: Done   2 out of   2 | elapsed:    1.2s remaining:    0.0s\n",
      "[Parallel(n_jobs=1)]: Done   3 out of   3 | elapsed:    1.7s remaining:    0.0s\n",
      "[Parallel(n_jobs=1)]: Done   4 out of   4 | elapsed:    2.3s remaining:    0.0s\n"
     ]
    },
    {
     "name": "stdout",
     "output_type": "stream",
     "text": [
      "... filtering target\n",
      "Setting up band-pass filter from 1 - 10 Hz\n",
      "\n",
      "FIR filter parameters\n",
      "---------------------\n",
      "Designing a two-pass forward and reverse, zero-phase, non-causal bandpass filter:\n",
      "- Windowed frequency-domain design (firwin2) method\n",
      "- Hann window\n",
      "- Lower passband edge: 1.00\n",
      "- Lower transition bandwidth: 0.50 Hz (-12 dB cutoff frequency: 0.75 Hz)\n",
      "- Upper passband edge: 10.00 Hz\n"
     ]
    },
    {
     "name": "stderr",
     "output_type": "stream",
     "text": [
      "[Parallel(n_jobs=1)]: Done  16 out of  16 | elapsed:    9.3s finished\n"
     ]
    },
    {
     "name": "stdout",
     "output_type": "stream",
     "text": [
      "- Upper transition bandwidth: 0.50 Hz (-12 dB cutoff frequency: 10.25 Hz)\n",
      "- Filter length: 5120 samples (10.000 sec)\n",
      "\n"
     ]
    },
    {
     "name": "stderr",
     "output_type": "stream",
     "text": [
      "[Parallel(n_jobs=1)]: Using backend SequentialBackend with 1 concurrent workers.\n",
      "[Parallel(n_jobs=1)]: Done   1 out of   1 | elapsed:    0.6s remaining:    0.0s\n",
      "[Parallel(n_jobs=1)]: Done   1 out of   1 | elapsed:    0.6s finished\n"
     ]
    },
    {
     "name": "stdout",
     "output_type": "stream",
     "text": [
      "[0, 11]\n"
     ]
    }
   ],
   "source": [
    "bad_idx, scores = ica.find_bads_eog(raw,'Fp2', threshold=2)\n",
    "print(bad_idx)"
   ]
  },
  {
   "cell_type": "code",
   "execution_count": 17,
   "metadata": {
    "colab": {
     "base_uri": "https://localhost:8080/",
     "height": 1000
    },
    "executionInfo": {
     "elapsed": 11775,
     "status": "ok",
     "timestamp": 1694293234498,
     "user": {
      "displayName": "Ivan Daniel Villegas Isasa",
      "userId": "00302774522595278560"
     },
     "user_tz": 300
    },
    "id": "NJg2lkAcnlji",
    "outputId": "9e319869-d4fb-4fbf-fcb8-6d5bc93513ac"
   },
   "outputs": [],
   "source": [
    "#raw.plot()"
   ]
  },
  {
   "cell_type": "code",
   "execution_count": 18,
   "metadata": {
    "colab": {
     "base_uri": "https://localhost:8080/",
     "height": 1000
    },
    "executionInfo": {
     "elapsed": 13004,
     "status": "ok",
     "timestamp": 1694293247492,
     "user": {
      "displayName": "Ivan Daniel Villegas Isasa",
      "userId": "00302774522595278560"
     },
     "user_tz": 300
    },
    "id": "rs2_o0pgoPeQ",
    "outputId": "9297dbc3-3c27-479e-a0ee-4b6420c68141"
   },
   "outputs": [
    {
     "name": "stdout",
     "output_type": "stream",
     "text": [
      "Applying ICA to Raw instance\n",
      "    Transforming to ICA space (16 components)\n",
      "    Zeroing out 4 ICA components\n",
      "    Projecting back using 16 PCA components\n"
     ]
    }
   ],
   "source": [
    "rawICA = ica.apply(raw.copy(),exclude = ica.exclude)\n",
    "#rawICA.plot()"
   ]
  },
  {
   "cell_type": "code",
   "execution_count": 19,
   "metadata": {
    "executionInfo": {
     "elapsed": 17,
     "status": "ok",
     "timestamp": 1694293247494,
     "user": {
      "displayName": "Ivan Daniel Villegas Isasa",
      "userId": "00302774522595278560"
     },
     "user_tz": 300
    },
    "id": "Lsh1QpDfpuAn"
   },
   "outputs": [],
   "source": [
    "plt.rcParams[\"figure.figsize\"]=20,10"
   ]
  },
  {
   "cell_type": "markdown",
   "metadata": {
    "id": "KzYkVIbyd5Wd"
   },
   "source": [
    "## Filtrado de las señales\n",
    "Para el filtrado de la señal, se utiliza un filtro pasa banda tipo fir con frecuencia de corte inferior en los 0.1Hz y frecuencia superior de corte a los 15Hz"
   ]
  },
  {
   "cell_type": "code",
   "execution_count": 20,
   "metadata": {
    "executionInfo": {
     "elapsed": 936,
     "status": "ok",
     "timestamp": 1694293249278,
     "user": {
      "displayName": "Ivan Daniel Villegas Isasa",
      "userId": "00302774522595278560"
     },
     "user_tz": 300
    },
    "id": "PT-UjYR-B0aM"
   },
   "outputs": [],
   "source": [
    "#lowpass, highpass = 40, 0.1\n",
    "rawICAF =  rawICA.filter(l_freq=0.1, h_freq=15, fir_design='firwin', verbose=False)\n",
    "#picks = ['Fz', 'Cz', 'Pz']\n",
    "#rawF.pick_channels(picks)\n",
    "#rawF.crop(tmin=10, tmax=12)\n",
    "#rawICAF.plot()"
   ]
  },
  {
   "cell_type": "code",
   "execution_count": 21,
   "metadata": {
    "executionInfo": {
     "elapsed": 869,
     "status": "ok",
     "timestamp": 1694293248349,
     "user": {
      "displayName": "Ivan Daniel Villegas Isasa",
      "userId": "00302774522595278560"
     },
     "user_tz": 300
    },
    "id": "07OraTvXBwpl"
   },
   "outputs": [],
   "source": [
    "# Aplicar la función a los datos\n",
    "#raw_e = rawICAF.copy().apply_function(escalar_magnitud)\n",
    "#raw_e.crop(tmin=5, tmax=7)\n",
    "#fig=raw_e.plot()\n",
    "#fig.savefig('signal_filter_invaders.png')"
   ]
  },
  {
   "cell_type": "markdown",
   "metadata": {
    "id": "oFlKwpgddh7v"
   },
   "source": [
    "## Listar los eventos\n",
    "Los eventos se cargan y luego se asigna las categorias de los eventos, para este caso el dataset se divide en eventos relacionados al potencial P300 y los que no estan relacionados con este."
   ]
  },
  {
   "cell_type": "code",
   "execution_count": 22,
   "metadata": {
    "executionInfo": {
     "elapsed": 17,
     "status": "ok",
     "timestamp": 1694293249280,
     "user": {
      "displayName": "Ivan Daniel Villegas Isasa",
      "userId": "00302774522595278560"
     },
     "user_tz": 300
    },
    "id": "WNH6L_xGB0dq"
   },
   "outputs": [],
   "source": [
    "events, _ = mne.events_from_annotations(raw, verbose=False)\n",
    "event_dict = {\"NoP300\":0,\"P300\":1}"
   ]
  },
  {
   "cell_type": "markdown",
   "metadata": {
    "id": "fmrfvSbzUe_5"
   },
   "source": [
    "## Separar la señal en Epocas\n",
    "Como la grabación tiene la información de toda la linea de tiempo, esta se divide en diferentes epocas relacionadas a cada evento.\n",
    "Estas epocas inician a los 300ms antes del evento (tmin) y termina 700ms despues del evento (tmax)"
   ]
  },
  {
   "cell_type": "code",
   "execution_count": 23,
   "metadata": {
    "colab": {
     "base_uri": "https://localhost:8080/"
    },
    "executionInfo": {
     "elapsed": 2134,
     "status": "ok",
     "timestamp": 1694293251400,
     "user": {
      "displayName": "Ivan Daniel Villegas Isasa",
      "userId": "00302774522595278560"
     },
     "user_tz": 300
    },
    "id": "KLl0ZkMQB8CE",
    "outputId": "458b3e10-e819-46d1-f4f9-1ab5da917901"
   },
   "outputs": [
    {
     "name": "stdout",
     "output_type": "stream",
     "text": [
      "Not setting metadata\n",
      "60158 matching events found\n",
      "Setting baseline interval to [-0.30078125, 0.0] sec\n",
      "Applying baseline correction (mode: mean)\n",
      "0 projection items activated\n",
      "Using data from preloaded Raw for 60158 events and 513 original time points ...\n",
      "4 bad epochs dropped\n"
     ]
    }
   ],
   "source": [
    "#epochsr = mne.Epochs(raw, events, tmin=-0.3, tmax=0.7, event_id=event_dict, preload=True)\n",
    "epochs = mne.Epochs(rawICAF, events, tmin=-0.3, tmax=0.7, event_id=event_dict, preload=True)"
   ]
  },
  {
   "cell_type": "code",
   "execution_count": 24,
   "metadata": {
    "executionInfo": {
     "elapsed": 18,
     "status": "ok",
     "timestamp": 1694293251405,
     "user": {
      "displayName": "Ivan Daniel Villegas Isasa",
      "userId": "00302774522595278560"
     },
     "user_tz": 300
    },
    "id": "JmnXs2KuCDO1"
   },
   "outputs": [],
   "source": [
    "#baseline_tmin, baseline_tmax = None, 0  # None takes the first timepoint\n",
    "#baseline = (baseline_tmin, baseline_tmax)\n",
    "#epochs_base = epochs.copy().apply_baseline(baseline)\n",
    "#raw_e = epochs_base.copy().apply_function(escalar_magnitud)\n",
    "#fig = raw_e.plot(n_epochs=5)\n",
    "#fig.savefig('signal_epoch_invaders.png')"
   ]
  },
  {
   "cell_type": "code",
   "execution_count": 25,
   "metadata": {
    "colab": {
     "base_uri": "https://localhost:8080/",
     "height": 0
    },
    "executionInfo": {
     "elapsed": 29,
     "status": "ok",
     "timestamp": 1694293251403,
     "user": {
      "displayName": "Ivan Daniel Villegas Isasa",
      "userId": "00302774522595278560"
     },
     "user_tz": 300
    },
    "id": "ybX9dTqIB8PK",
    "outputId": "a5ab579e-d702-44a4-c696-435e7c1ffbd6"
   },
   "outputs": [
    {
     "name": "stdout",
     "output_type": "stream",
     "text": [
      "{'NoP300': 0, 'P300': 1}\n",
      "<Epochs |  10026 events (all good), -0.300781 - 0.699219 sec, baseline -0.300781 – 0 sec, ~627.9 MB, data loaded,\n",
      " 'P300': 10026>\n",
      "10026\n"
     ]
    },
    {
     "data": {
      "text/html": [
       "<table class=\"table table-hover table-striped table-sm table-responsive small\">\n",
       "    <tr>\n",
       "        <th>Measurement date</th>\n",
       "        \n",
       "        <td>Unknown</td>\n",
       "        \n",
       "    </tr>\n",
       "    <tr>\n",
       "        <th>Experimenter</th>\n",
       "        \n",
       "        <td>Unknown</td>\n",
       "        \n",
       "    </tr>\n",
       "        <th>Participant</th>\n",
       "        \n",
       "        <td>Unknown</td>\n",
       "        \n",
       "    </tr>\n",
       "    <tr>\n",
       "        <th>Digitized points</th>\n",
       "        \n",
       "        <td>19 points</td>\n",
       "        \n",
       "    </tr>\n",
       "    <tr>\n",
       "        <th>Good channels</th>\n",
       "        <td>16 EEG</td>\n",
       "    </tr>\n",
       "    <tr>\n",
       "        <th>Bad channels</th>\n",
       "        <td>None</td>\n",
       "    </tr>\n",
       "    <tr>\n",
       "        <th>EOG channels</th>\n",
       "        <td>Not available</td>\n",
       "    </tr>\n",
       "    <tr>\n",
       "        <th>ECG channels</th>\n",
       "        <td>Not available</td>\n",
       "    \n",
       "    <tr>\n",
       "        <th>Sampling frequency</th>\n",
       "        <td>512.00 Hz</td>\n",
       "    </tr>\n",
       "    \n",
       "    \n",
       "    <tr>\n",
       "        <th>Highpass</th>\n",
       "        <td>0.10 Hz</td>\n",
       "    </tr>\n",
       "    \n",
       "    \n",
       "    <tr>\n",
       "        <th>Lowpass</th>\n",
       "        <td>15.00 Hz</td>\n",
       "    </tr>\n",
       "    \n",
       "    \n",
       "</table>"
      ],
      "text/plain": [
       "<Info | 8 non-empty values\n",
       " bads: []\n",
       " ch_names: Fp1, Fp2, F5, AFz, F6, T7, Cz, T8, P7, P3, Pz, P4, P8, O1, Oz, O2\n",
       " chs: 16 EEG\n",
       " custom_ref_applied: False\n",
       " dig: 19 items (3 Cardinal, 16 EEG)\n",
       " highpass: 0.1 Hz\n",
       " lowpass: 15.0 Hz\n",
       " meas_date: unspecified\n",
       " nchan: 16\n",
       " projs: []\n",
       " sfreq: 512.0 Hz\n",
       ">"
      ]
     },
     "execution_count": 25,
     "metadata": {},
     "output_type": "execute_result"
    }
   ],
   "source": [
    "print(epochs.event_id)\n",
    "print(epochs[\"P300\"])\n",
    "print(len(epochs[\"P300\"]))\n",
    "epochs.info"
   ]
  },
  {
   "cell_type": "code",
   "execution_count": 26,
   "metadata": {
    "executionInfo": {
     "elapsed": 21,
     "status": "ok",
     "timestamp": 1694293251408,
     "user": {
      "displayName": "Ivan Daniel Villegas Isasa",
      "userId": "00302774522595278560"
     },
     "user_tz": 300
    },
    "id": "_M7RuSCU05Om"
   },
   "outputs": [],
   "source": [
    "#picks = ['Cz']\n",
    "#epochsr.pick_channels(picks)\n",
    "#epochsr['P300'].plot(n_epochs=1)"
   ]
  },
  {
   "cell_type": "markdown",
   "metadata": {
    "id": "siGxQZNsUHlU"
   },
   "source": [
    "## Guardar el Archivo de epocas\n",
    "Se guarda el archivo de epocas para hacer más analisis, para visualización o para ingresarlo a ML"
   ]
  },
  {
   "cell_type": "code",
   "execution_count": 27,
   "metadata": {
    "colab": {
     "base_uri": "https://localhost:8080/"
    },
    "executionInfo": {
     "elapsed": 213,
     "status": "ok",
     "timestamp": 1694293251863,
     "user": {
      "displayName": "Ivan Daniel Villegas Isasa",
      "userId": "00302774522595278560"
     },
     "user_tz": 300
    },
    "id": "sPlve5GEjWCM",
    "outputId": "3cf7d7e8-f64a-4fd9-b8ac-e691904015bb"
   },
   "outputs": [],
   "source": [
    "epochs.save(\"Data/epocas/oddball_epo.fif\",overwrite=True)"
   ]
  },
  {
   "cell_type": "markdown",
   "metadata": {
    "id": "siGxQZNsUHlU"
   },
   "source": [
    "## Sub Sampling\n",
    "Se baja la frecuencia de muestreo para que quede a 125Hz igual que el casco OpenBCI"
   ]
  },
  {
   "cell_type": "code",
   "execution_count": 28,
   "metadata": {},
   "outputs": [],
   "source": [
    "# Reducir la frecuencia de muestreo a 100 Hz\n",
    "epochs_resampled = epochs.copy().resample(125)"
   ]
  },
  {
   "cell_type": "code",
   "execution_count": 29,
   "metadata": {},
   "outputs": [
    {
     "data": {
      "text/plain": [
       "513"
      ]
     },
     "execution_count": 29,
     "metadata": {},
     "output_type": "execute_result"
    }
   ],
   "source": [
    "n_data1 = epochs[0].get_data()\n",
    "n_data1[0][0].size"
   ]
  },
  {
   "cell_type": "code",
   "execution_count": 30,
   "metadata": {},
   "outputs": [
    {
     "data": {
      "text/plain": [
       "125"
      ]
     },
     "execution_count": 30,
     "metadata": {},
     "output_type": "execute_result"
    }
   ],
   "source": [
    "epochs_resampled[0].get_data().size\n",
    "n_data2 = epochs_resampled[0].get_data()\n",
    "n_data2[0][0].size"
   ]
  },
  {
   "cell_type": "code",
   "execution_count": 31,
   "metadata": {},
   "outputs": [],
   "source": [
    "epochs_resampled.save(\"Data/epocas/oddball_subsampl_epo.fif\",overwrite=True)"
   ]
  }
 ],
 "metadata": {
  "colab": {
   "authorship_tag": "ABX9TyPCPLdr4BBOBJujOZWdmh3e",
   "provenance": []
  },
  "kernelspec": {
   "display_name": "Python 3",
   "language": "python",
   "name": "python3"
  },
  "language_info": {
   "codemirror_mode": {
    "name": "ipython",
    "version": 3
   },
   "file_extension": ".py",
   "mimetype": "text/x-python",
   "name": "python",
   "nbconvert_exporter": "python",
   "pygments_lexer": "ipython3",
   "version": "3.7.6"
  }
 },
 "nbformat": 4,
 "nbformat_minor": 4
}
