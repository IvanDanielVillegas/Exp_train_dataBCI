{
 "cells": [
  {
   "cell_type": "code",
   "execution_count": 1,
   "metadata": {
    "colab": {
     "base_uri": "https://localhost:8080/"
    },
    "executionInfo": {
     "elapsed": 16564,
     "status": "ok",
     "timestamp": 1698938736298,
     "user": {
      "displayName": "Ivan Daniel Villegas Isasa",
      "userId": "00302774522595278560"
     },
     "user_tz": 300
    },
    "id": "7wv1uVtmjwpq",
    "outputId": "d9a2e3d2-f000-47f7-a103-9a362aaee0b2"
   },
   "outputs": [],
   "source": [
    "#from google.colab import drive\n",
    "#drive.mount('/content/drive/')"
   ]
  },
  {
   "cell_type": "code",
   "execution_count": 2,
   "metadata": {
    "colab": {
     "base_uri": "https://localhost:8080/"
    },
    "executionInfo": {
     "elapsed": 11242,
     "status": "ok",
     "timestamp": 1698938747535,
     "user": {
      "displayName": "Ivan Daniel Villegas Isasa",
      "userId": "00302774522595278560"
     },
     "user_tz": 300
    },
    "id": "dksF0EhMj1LO",
    "outputId": "3c53a271-2d87-41d8-81d6-e73cdb46c6ac"
   },
   "outputs": [],
   "source": [
    "#!pip install mne"
   ]
  },
  {
   "cell_type": "code",
   "execution_count": 1,
   "metadata": {
    "executionInfo": {
     "elapsed": 2603,
     "status": "ok",
     "timestamp": 1698938750130,
     "user": {
      "displayName": "Ivan Daniel Villegas Isasa",
      "userId": "00302774522595278560"
     },
     "user_tz": 300
    },
    "id": "jAXaC-DQj3ab"
   },
   "outputs": [],
   "source": [
    "import scipy.io as sio\n",
    "import numpy as np\n",
    "import matplotlib.pyplot as plt\n",
    "import pandas as pd\n",
    "from scipy import signal\n",
    "import math\n",
    "import mne\n",
    "%matplotlib inline"
   ]
  },
  {
   "cell_type": "code",
   "execution_count": 4,
   "metadata": {
    "colab": {
     "base_uri": "https://localhost:8080/"
    },
    "executionInfo": {
     "elapsed": 6284,
     "status": "ok",
     "timestamp": 1698938756410,
     "user": {
      "displayName": "Ivan Daniel Villegas Isasa",
      "userId": "00302774522595278560"
     },
     "user_tz": 300
    },
    "id": "Fac3_rjfkDBz",
    "outputId": "e6f5b113-5bfa-4ead-e1a7-5016b7d62584"
   },
   "outputs": [
    {
     "name": "stdout",
     "output_type": "stream",
     "text": [
      "Reading /home/ivandanielvillegas/work/home/BrainInvaders/Data/epocas/oddball_epo.fif ...\n",
      "    Found the data of interest:\n",
      "        t =    -300.78 ...     699.22 ms\n",
      "        0 CTF compensation matrices available\n",
      "Not setting metadata\n",
      "60154 matching events found\n",
      "No baseline correction applied\n",
      "0 projection items activated\n"
     ]
    }
   ],
   "source": [
    "epochs = mne.read_epochs('Data/epocas/oddball_epo.fif')"
   ]
  },
  {
   "cell_type": "markdown",
   "metadata": {
    "id": "1j0akyNM2Ve9"
   },
   "source": [
    "## Sub Sampling"
   ]
  },
  {
   "cell_type": "code",
   "execution_count": 5,
   "metadata": {
    "executionInfo": {
     "elapsed": 38439,
     "status": "ok",
     "timestamp": 1698938794846,
     "user": {
      "displayName": "Ivan Daniel Villegas Isasa",
      "userId": "00302774522595278560"
     },
     "user_tz": 300
    },
    "id": "xsFR_vIn2RI3"
   },
   "outputs": [],
   "source": [
    "# Reducir la frecuencia de muestreo a 100 Hz\n",
    "epochs_resampled = epochs.copy().resample(125)"
   ]
  },
  {
   "cell_type": "code",
   "execution_count": 6,
   "metadata": {
    "colab": {
     "base_uri": "https://localhost:8080/"
    },
    "executionInfo": {
     "elapsed": 50,
     "status": "ok",
     "timestamp": 1698938794847,
     "user": {
      "displayName": "Ivan Daniel Villegas Isasa",
      "userId": "00302774522595278560"
     },
     "user_tz": 300
    },
    "id": "o36Rp1fB2afF",
    "outputId": "4de6329a-958b-4884-f545-16d27ac67fea"
   },
   "outputs": [
    {
     "data": {
      "text/plain": [
       "513"
      ]
     },
     "execution_count": 6,
     "metadata": {},
     "output_type": "execute_result"
    }
   ],
   "source": [
    "n_data1 = epochs[0].get_data()\n",
    "n_data1[0][0].size"
   ]
  },
  {
   "cell_type": "code",
   "execution_count": 7,
   "metadata": {
    "colab": {
     "base_uri": "https://localhost:8080/"
    },
    "executionInfo": {
     "elapsed": 46,
     "status": "ok",
     "timestamp": 1698938794848,
     "user": {
      "displayName": "Ivan Daniel Villegas Isasa",
      "userId": "00302774522595278560"
     },
     "user_tz": 300
    },
    "id": "6VMvSdAz2c29",
    "outputId": "d65f2abd-4379-4754-9a81-cca5a84b8b12"
   },
   "outputs": [
    {
     "data": {
      "text/plain": [
       "125"
      ]
     },
     "execution_count": 7,
     "metadata": {},
     "output_type": "execute_result"
    }
   ],
   "source": [
    "epochs_resampled[0].get_data().size\n",
    "n_data2 = epochs_resampled[0].get_data()\n",
    "n_data2[0][0].size"
   ]
  },
  {
   "cell_type": "code",
   "execution_count": 8,
   "metadata": {
    "colab": {
     "base_uri": "https://localhost:8080/"
    },
    "executionInfo": {
     "elapsed": 6248,
     "status": "ok",
     "timestamp": 1698938801054,
     "user": {
      "displayName": "Ivan Daniel Villegas Isasa",
      "userId": "00302774522595278560"
     },
     "user_tz": 300
    },
    "id": "0B9EilDV2ekc",
    "outputId": "4220853b-20a3-49a4-8022-56f510ec68a8"
   },
   "outputs": [
    {
     "name": "stdout",
     "output_type": "stream",
     "text": [
      "Overwriting existing file.\n"
     ]
    }
   ],
   "source": [
    "epochs_resampled.save('Data/epocas/oddball_subsampl_epo.fif',overwrite=True)"
   ]
  },
  {
   "cell_type": "code",
   "execution_count": 2,
   "metadata": {},
   "outputs": [
    {
     "name": "stdout",
     "output_type": "stream",
     "text": [
      "Reading /home/ivandanielvillegas/work/home/BrainInvaders/Data/epocas/oddball_subsampl_epo.fif ...\n",
      "    Found the data of interest:\n",
      "        t =    -304.00 ...     688.00 ms\n",
      "        0 CTF compensation matrices available\n",
      "Not setting metadata\n",
      "60154 matching events found\n",
      "No baseline correction applied\n",
      "0 projection items activated\n"
     ]
    }
   ],
   "source": [
    "epochs_resampled = mne.read_epochs('Data/epocas/oddball_subsampl_epo.fif')"
   ]
  },
  {
   "cell_type": "markdown",
   "metadata": {
    "id": "Esfyvfiu2yv9"
   },
   "source": [
    "## Se balancea el set de datos"
   ]
  },
  {
   "cell_type": "code",
   "execution_count": null,
   "metadata": {
    "colab": {
     "base_uri": "https://localhost:8080/"
    },
    "executionInfo": {
     "elapsed": 135524,
     "status": "ok",
     "timestamp": 1698938936558,
     "user": {
      "displayName": "Ivan Daniel Villegas Isasa",
      "userId": "00302774522595278560"
     },
     "user_tz": 300
    },
    "id": "Czh07scKIO5d",
    "outputId": "1aa3e09e-0181-4e3e-bd3f-6067c263ff18"
   },
   "outputs": [],
   "source": [
    "event_dict = {\"NoP300\":0,\"P300\":1}\n",
    "epochs_equalized = epochs_resampled.copy()\n",
    "epochs_equalized.equalize_event_counts(event_dict)"
   ]
  },
  {
   "cell_type": "code",
   "execution_count": null,
   "metadata": {
    "colab": {
     "base_uri": "https://localhost:8080/",
     "height": 104
    },
    "executionInfo": {
     "elapsed": 22,
     "status": "ok",
     "timestamp": 1698938936558,
     "user": {
      "displayName": "Ivan Daniel Villegas Isasa",
      "userId": "00302774522595278560"
     },
     "user_tz": 300
    },
    "id": "WY10I7YVMYFD",
    "outputId": "f287ef46-f76d-425f-ca1b-94dbb9569149"
   },
   "outputs": [],
   "source": [
    "epochs_equalized['P300']"
   ]
  },
  {
   "cell_type": "code",
   "execution_count": null,
   "metadata": {
    "colab": {
     "base_uri": "https://localhost:8080/",
     "height": 104
    },
    "executionInfo": {
     "elapsed": 18,
     "status": "ok",
     "timestamp": 1698938936558,
     "user": {
      "displayName": "Ivan Daniel Villegas Isasa",
      "userId": "00302774522595278560"
     },
     "user_tz": 300
    },
    "id": "XMpA4wReO_f5",
    "outputId": "08f6909f-d681-4bfa-a781-d2c1648ad9ba"
   },
   "outputs": [],
   "source": [
    "epochs_equalized['NoP300']"
   ]
  },
  {
   "cell_type": "code",
   "execution_count": 3,
   "metadata": {
    "colab": {
     "base_uri": "https://localhost:8080/"
    },
    "executionInfo": {
     "elapsed": 18,
     "status": "ok",
     "timestamp": 1698938936559,
     "user": {
      "displayName": "Ivan Daniel Villegas Isasa",
      "userId": "00302774522595278560"
     },
     "user_tz": 300
    },
    "id": "40FIBX7uSW43",
    "outputId": "1eb584c1-0ee1-4d6d-8786-186bdff9929f"
   },
   "outputs": [],
   "source": [
    "epochs_equalized = epochs_resampled.copy()"
   ]
  },
  {
   "cell_type": "markdown",
   "metadata": {
    "id": "MA_L9QVY262t"
   },
   "source": [
    "## Se agrupan los electrodos segun la zona de la corteza cerebral"
   ]
  },
  {
   "cell_type": "code",
   "execution_count": 4,
   "metadata": {
    "executionInfo": {
     "elapsed": 13,
     "status": "ok",
     "timestamp": 1698938936559,
     "user": {
      "displayName": "Ivan Daniel Villegas Isasa",
      "userId": "00302774522595278560"
     },
     "user_tz": 300
    },
    "id": "4ZaSeirthaWq"
   },
   "outputs": [],
   "source": [
    "info = epochs_equalized.info\n",
    "ch_names = info['ch_names']\n",
    "electrodos_F = [ch_name for ch_name in ch_names if 'F' in ch_name]\n",
    "electrodos_C = [ch_name for ch_name in ch_names if ch_name.startswith('C')] #.startswith('C')\n",
    "electrodos_O = [ch_name for ch_name in ch_names if 'O' in ch_name]\n",
    "electrodos_P = [ch_name for ch_name in ch_names if ch_name.startswith('P')]\n",
    "#electrodos_C, electrodos_O, electrodos_P"
   ]
  },
  {
   "cell_type": "code",
   "execution_count": 5,
   "metadata": {
    "colab": {
     "base_uri": "https://localhost:8080/"
    },
    "executionInfo": {
     "elapsed": 396,
     "status": "ok",
     "timestamp": 1698938936945,
     "user": {
      "displayName": "Ivan Daniel Villegas Isasa",
      "userId": "00302774522595278560"
     },
     "user_tz": 300
    },
    "id": "3MsL_zMbzJof",
    "outputId": "954677af-bf31-4110-bbba-e7a8e5dcebad"
   },
   "outputs": [],
   "source": [
    "S_O = epochs_equalized.copy().pick_channels(electrodos_O)\n",
    "S_C = epochs_equalized.copy().pick_channels(electrodos_C)\n",
    "S_P = epochs_equalized.copy().pick_channels(electrodos_P)\n",
    "S_F = epochs_equalized.copy().pick_channels(electrodos_F)\n",
    "#S_O.info"
   ]
  },
  {
   "cell_type": "code",
   "execution_count": 6,
   "metadata": {
    "colab": {
     "base_uri": "https://localhost:8080/"
    },
    "executionInfo": {
     "elapsed": 8,
     "status": "ok",
     "timestamp": 1698938936945,
     "user": {
      "displayName": "Ivan Daniel Villegas Isasa",
      "userId": "00302774522595278560"
     },
     "user_tz": 300
    },
    "id": "os0gBqzyhE7I",
    "outputId": "1479318f-3ffb-49bd-cead-462a002d275a"
   },
   "outputs": [
    {
     "name": "stdout",
     "output_type": "stream",
     "text": [
      "(10026, 3, 125)\n"
     ]
    },
    {
     "data": {
      "text/plain": [
       "((10026, 125), (10026, 125), (10026, 125), (10026, 125))"
      ]
     },
     "execution_count": 6,
     "metadata": {},
     "output_type": "execute_result"
    }
   ],
   "source": [
    "data_OT = S_O[\"P300\"].get_data()\n",
    "data_CT = S_C[\"P300\"].get_data()\n",
    "data_PT = S_P[\"P300\"].get_data()\n",
    "data_FT = S_F[\"P300\"].get_data()\n",
    "print(data_OT.shape)\n",
    "# Sumar los valores de los electrodos\n",
    "mean_data_OT = data_OT.mean(axis=1)\n",
    "mean_data_CT = data_CT.mean(axis=1)\n",
    "mean_data_PT = data_PT.mean(axis=1)\n",
    "mean_data_FT = data_FT.mean(axis=1)\n",
    "mean_data_OT.shape, mean_data_CT.shape, mean_data_PT.shape, mean_data_FT.shape"
   ]
  },
  {
   "cell_type": "code",
   "execution_count": 7,
   "metadata": {
    "colab": {
     "base_uri": "https://localhost:8080/"
    },
    "executionInfo": {
     "elapsed": 6,
     "status": "ok",
     "timestamp": 1698938936946,
     "user": {
      "displayName": "Ivan Daniel Villegas Isasa",
      "userId": "00302774522595278560"
     },
     "user_tz": 300
    },
    "id": "jxi2Jpokv6h7",
    "outputId": "f6f83a07-9429-41ed-ac1e-d763d4c4d3f6"
   },
   "outputs": [
    {
     "name": "stdout",
     "output_type": "stream",
     "text": [
      "(10026, 3, 125)\n"
     ]
    },
    {
     "data": {
      "text/plain": [
       "((50128, 125), (50128, 125), (50128, 125), (50128, 125))"
      ]
     },
     "execution_count": 7,
     "metadata": {},
     "output_type": "execute_result"
    }
   ],
   "source": [
    "data_OF = S_O[\"NoP300\"].get_data()\n",
    "data_CF = S_C[\"NoP300\"].get_data()\n",
    "data_PF = S_P[\"NoP300\"].get_data()\n",
    "data_FF = S_F[\"NoP300\"].get_data()\n",
    "print(data_OT.shape)\n",
    "# Sumar los valores de los electrodos\n",
    "mean_data_OF = data_OF.mean(axis=1)\n",
    "mean_data_CF = data_CF.mean(axis=1)\n",
    "mean_data_PF = data_PF.mean(axis=1)\n",
    "mean_data_FF = data_FF.mean(axis=1)\n",
    "mean_data_OF.shape, mean_data_CF.shape, mean_data_PF.shape, mean_data_FF.shape"
   ]
  },
  {
   "cell_type": "code",
   "execution_count": 8,
   "metadata": {
    "colab": {
     "base_uri": "https://localhost:8080/"
    },
    "executionInfo": {
     "elapsed": 5,
     "status": "ok",
     "timestamp": 1698938936946,
     "user": {
      "displayName": "Ivan Daniel Villegas Isasa",
      "userId": "00302774522595278560"
     },
     "user_tz": 300
    },
    "id": "yPACGKXsTnfd",
    "outputId": "115d9e19-f168-461b-cf33-c95ffb99a53a"
   },
   "outputs": [
    {
     "data": {
      "text/plain": [
       "((10026, 4, 125), (50128, 4, 125))"
      ]
     },
     "execution_count": 8,
     "metadata": {},
     "output_type": "execute_result"
    }
   ],
   "source": [
    "# Concatenar los tres np.array a lo largo del segundo eje\n",
    "data_T = np.concatenate((mean_data_OT[:, np.newaxis, :], mean_data_CT[:, np.newaxis, :], mean_data_PT[:, np.newaxis, :], mean_data_FT[:, np.newaxis, :]), axis=1)\n",
    "data_F = np.concatenate((mean_data_OF[:, np.newaxis, :], mean_data_CF[:, np.newaxis, :], mean_data_PF[:, np.newaxis, :], mean_data_FF[:, np.newaxis, :]), axis=1)\n",
    "data_T.shape, data_F.shape"
   ]
  },
  {
   "cell_type": "markdown",
   "metadata": {
    "id": "6R4kFCdJ3Lhf"
   },
   "source": [
    "## Se vuelve a convertir a epocas"
   ]
  },
  {
   "cell_type": "code",
   "execution_count": 9,
   "metadata": {
    "colab": {
     "base_uri": "https://localhost:8080/"
    },
    "executionInfo": {
     "elapsed": 229,
     "status": "ok",
     "timestamp": 1698938937171,
     "user": {
      "displayName": "Ivan Daniel Villegas Isasa",
      "userId": "00302774522595278560"
     },
     "user_tz": 300
    },
    "id": "SQHsFIh7T3fe",
    "outputId": "0e7386d0-545b-43be-830d-8e6e5736bd8c"
   },
   "outputs": [
    {
     "name": "stdout",
     "output_type": "stream",
     "text": [
      "[4623    0    1]\n",
      "Not setting metadata\n",
      "10026 matching events found\n",
      "No baseline correction applied\n",
      "0 projection items activated\n"
     ]
    }
   ],
   "source": [
    "ch_names = ['O','C','P','F']\n",
    "events = S_O['P300'].events\n",
    "print(events[1])\n",
    "ch_types = ['eeg','eeg','eeg','eeg']\n",
    "sfreq = 125\n",
    "info = mne.create_info(ch_names=ch_names, sfreq=sfreq, ch_types=ch_types)\n",
    "epochs_T = mne.EpochsArray(data=data_T, info=info, events=events)"
   ]
  },
  {
   "cell_type": "code",
   "execution_count": 10,
   "metadata": {
    "colab": {
     "base_uri": "https://localhost:8080/"
    },
    "executionInfo": {
     "elapsed": 7,
     "status": "ok",
     "timestamp": 1698938937171,
     "user": {
      "displayName": "Ivan Daniel Villegas Isasa",
      "userId": "00302774522595278560"
     },
     "user_tz": 300
    },
    "id": "Ho3BxeDFVNHN",
    "outputId": "3f727174-9c3c-459f-b300-184214738ea3"
   },
   "outputs": [
    {
     "name": "stdout",
     "output_type": "stream",
     "text": [
      "[2907    0    0]\n",
      "Not setting metadata\n",
      "50128 matching events found\n",
      "No baseline correction applied\n",
      "0 projection items activated\n"
     ]
    }
   ],
   "source": [
    "ch_names = ['O','C','P','F']\n",
    "events = S_O['NoP300'].events\n",
    "print(events[1])\n",
    "ch_types = ['eeg','eeg','eeg','eeg']\n",
    "sfreq = 125\n",
    "info = mne.create_info(ch_names=ch_names, sfreq=sfreq, ch_types=ch_types)\n",
    "epochs_F = mne.EpochsArray(data=data_F, info=info, events=events)"
   ]
  },
  {
   "cell_type": "code",
   "execution_count": 11,
   "metadata": {
    "colab": {
     "base_uri": "https://localhost:8080/"
    },
    "executionInfo": {
     "elapsed": 5,
     "status": "ok",
     "timestamp": 1698938937171,
     "user": {
      "displayName": "Ivan Daniel Villegas Isasa",
      "userId": "00302774522595278560"
     },
     "user_tz": 300
    },
    "id": "bddQP5voVaGe",
    "outputId": "c0281016-19e5-4b34-8b8a-06bc0ce3ee32"
   },
   "outputs": [
    {
     "name": "stdout",
     "output_type": "stream",
     "text": [
      "Not setting metadata\n",
      "60154 matching events found\n",
      "No baseline correction applied\n"
     ]
    }
   ],
   "source": [
    "epochs_list = [epochs_T, epochs_F]\n",
    "epochs_concatenated = mne.concatenate_epochs(epochs_list)"
   ]
  },
  {
   "cell_type": "code",
   "execution_count": 12,
   "metadata": {
    "executionInfo": {
     "elapsed": 4,
     "status": "ok",
     "timestamp": 1698938937171,
     "user": {
      "displayName": "Ivan Daniel Villegas Isasa",
      "userId": "00302774522595278560"
     },
     "user_tz": 300
    },
    "id": "9QT73ewaW8x6"
   },
   "outputs": [],
   "source": [
    "epochs_shifted = epochs_concatenated.shift_time(-0.3)"
   ]
  },
  {
   "cell_type": "code",
   "execution_count": 13,
   "metadata": {
    "colab": {
     "base_uri": "https://localhost:8080/"
    },
    "executionInfo": {
     "elapsed": 489,
     "status": "ok",
     "timestamp": 1698938937657,
     "user": {
      "displayName": "Ivan Daniel Villegas Isasa",
      "userId": "00302774522595278560"
     },
     "user_tz": 300
    },
    "id": "abFUUggEbCjx",
    "outputId": "c5dc0231-623e-473f-cd95-d705a183d82e"
   },
   "outputs": [
    {
     "name": "stdout",
     "output_type": "stream",
     "text": [
      "Overwriting existing file.\n"
     ]
    }
   ],
   "source": [
    "epochs_shifted.save('Data/epocas/elect_mean_epo.fif',overwrite=True)"
   ]
  },
  {
   "cell_type": "code",
   "execution_count": 14,
   "metadata": {
    "colab": {
     "base_uri": "https://localhost:8080/",
     "height": 1000
    },
    "executionInfo": {
     "elapsed": 6218,
     "status": "ok",
     "timestamp": 1698940856565,
     "user": {
      "displayName": "Ivan Daniel Villegas Isasa",
      "userId": "00302774522595278560"
     },
     "user_tz": 300
    },
    "id": "8OfaLbY-Vkqn",
    "outputId": "1934bd21-a2e2-489d-e864-961ef7405067"
   },
   "outputs": [
    {
     "name": "stdout",
     "output_type": "stream",
     "text": [
      "Not setting metadata\n",
      "10026 matching events found\n",
      "No baseline correction applied\n",
      "0 projection items activated\n"
     ]
    },
    {
     "name": "stderr",
     "output_type": "stream",
     "text": [
      "<ipython-input-14-7384e7c2e8aa>:1: RuntimeWarning: Cannot find channel coordinates in the supplied Evokeds. Not showing channel locations.\n",
      "  epochs_shifted['1'].plot_image(picks=['F'])#P300\n"
     ]
    },
    {
     "data": {
      "image/png": "[encoded data removed]",
      "text/plain": [
       "<Figure size 432x288 with 3 Axes>"
      ]
     },
     "metadata": {
      "needs_background": "light"
     },
     "output_type": "display_data"
    },
    {
     "name": "stdout",
     "output_type": "stream",
     "text": [
      "Not setting metadata\n",
      "50128 matching events found\n",
      "No baseline correction applied\n",
      "0 projection items activated\n"
     ]
    },
    {
     "name": "stderr",
     "output_type": "stream",
     "text": [
      "<ipython-input-14-7384e7c2e8aa>:2: RuntimeWarning: Cannot find channel coordinates in the supplied Evokeds. Not showing channel locations.\n",
      "  epochs_shifted['0'].plot_image(picks=['F'])#NoP300\n"
     ]
    },
    {
     "data": {
      "image/png": "[encoded data removed]",
      "text/plain": [
       "<Figure size 432x288 with 3 Axes>"
      ]
     },
     "metadata": {
      "needs_background": "light"
     },
     "output_type": "display_data"
    },
    {
     "data": {
      "text/plain": [
       "[<Figure size 432x288 with 3 Axes>]"
      ]
     },
     "execution_count": 14,
     "metadata": {},
     "output_type": "execute_result"
    }
   ],
   "source": [
    "epochs_shifted['1'].plot_image(picks=['F'])#P300\n",
    "epochs_shifted['0'].plot_image(picks=['F'])#NoP300"
   ]
  },
  {
   "cell_type": "code",
   "execution_count": 15,
   "metadata": {
    "colab": {
     "base_uri": "https://localhost:8080/",
     "height": 1000
    },
    "executionInfo": {
     "elapsed": 2665,
     "status": "ok",
     "timestamp": 1698938943981,
     "user": {
      "displayName": "Ivan Daniel Villegas Isasa",
      "userId": "00302774522595278560"
     },
     "user_tz": 300
    },
    "id": "LecNH4dMFsW8",
    "outputId": "aff68f0d-26ae-4b6c-9130-869aa33a5ec2"
   },
   "outputs": [
    {
     "name": "stdout",
     "output_type": "stream",
     "text": [
      "Not setting metadata\n",
      "10026 matching events found\n",
      "No baseline correction applied\n",
      "0 projection items activated\n"
     ]
    },
    {
     "name": "stderr",
     "output_type": "stream",
     "text": [
      "<ipython-input-15-ac3baa63d0b2>:1: RuntimeWarning: Cannot find channel coordinates in the supplied Evokeds. Not showing channel locations.\n",
      "  epochs_shifted['1'].plot_image(picks=['C'])#P300\n"
     ]
    },
    {
     "data": {
      "image/png": "[encoded data removed]",
      "text/plain": [
       "<Figure size 432x288 with 3 Axes>"
      ]
     },
     "metadata": {
      "needs_background": "light"
     },
     "output_type": "display_data"
    },
    {
     "name": "stdout",
     "output_type": "stream",
     "text": [
      "Not setting metadata\n",
      "50128 matching events found\n",
      "No baseline correction applied\n",
      "0 projection items activated\n"
     ]
    },
    {
     "name": "stderr",
     "output_type": "stream",
     "text": [
      "<ipython-input-15-ac3baa63d0b2>:2: RuntimeWarning: Cannot find channel coordinates in the supplied Evokeds. Not showing channel locations.\n",
      "  epochs_shifted['0'].plot_image(picks=['C'])#NoP300\n"
     ]
    },
    {
     "data": {
      "image/png": "[encoded data removed]",
      "text/plain": [
       "<Figure size 432x288 with 3 Axes>"
      ]
     },
     "metadata": {
      "needs_background": "light"
     },
     "output_type": "display_data"
    },
    {
     "data": {
      "text/plain": [
       "[<Figure size 432x288 with 3 Axes>]"
      ]
     },
     "execution_count": 15,
     "metadata": {},
     "output_type": "execute_result"
    }
   ],
   "source": [
    "epochs_shifted['1'].plot_image(picks=['C'])#P300\n",
    "epochs_shifted['0'].plot_image(picks=['C'])#NoP300"
   ]
  },
  {
   "cell_type": "code",
   "execution_count": 16,
   "metadata": {
    "colab": {
     "base_uri": "https://localhost:8080/",
     "height": 1000
    },
    "executionInfo": {
     "elapsed": 2471,
     "status": "ok",
     "timestamp": 1698938946449,
     "user": {
      "displayName": "Ivan Daniel Villegas Isasa",
      "userId": "00302774522595278560"
     },
     "user_tz": 300
    },
    "id": "hpw64sXnWX50",
    "outputId": "4dc58ad3-33b2-43ce-fa7f-33cdbf1d1b36"
   },
   "outputs": [
    {
     "name": "stdout",
     "output_type": "stream",
     "text": [
      "Not setting metadata\n",
      "10026 matching events found\n",
      "No baseline correction applied\n",
      "0 projection items activated\n"
     ]
    },
    {
     "name": "stderr",
     "output_type": "stream",
     "text": [
      "<ipython-input-16-a4ddccaaaad9>:1: RuntimeWarning: Cannot find channel coordinates in the supplied Evokeds. Not showing channel locations.\n",
      "  epochs_shifted['1'].plot_image(picks=['P'])#P300\n"
     ]
    },
    {
     "data": {
      "image/png": "[encoded data removed]",
      "text/plain": [
       "<Figure size 432x288 with 3 Axes>"
      ]
     },
     "metadata": {
      "needs_background": "light"
     },
     "output_type": "display_data"
    },
    {
     "name": "stdout",
     "output_type": "stream",
     "text": [
      "Not setting metadata\n",
      "50128 matching events found\n",
      "No baseline correction applied\n",
      "0 projection items activated\n"
     ]
    },
    {
     "name": "stderr",
     "output_type": "stream",
     "text": [
      "<ipython-input-16-a4ddccaaaad9>:2: RuntimeWarning: Cannot find channel coordinates in the supplied Evokeds. Not showing channel locations.\n",
      "  epochs_shifted['0'].plot_image(picks=['P'])#NoP300\n"
     ]
    },
    {
     "data": {
      "image/png": "[encoded data removed]",
      "text/plain": [
       "<Figure size 432x288 with 3 Axes>"
      ]
     },
     "metadata": {
      "needs_background": "light"
     },
     "output_type": "display_data"
    },
    {
     "data": {
      "text/plain": [
       "[<Figure size 432x288 with 3 Axes>]"
      ]
     },
     "execution_count": 16,
     "metadata": {},
     "output_type": "execute_result"
    }
   ],
   "source": [
    "epochs_shifted['1'].plot_image(picks=['P'])#P300\n",
    "epochs_shifted['0'].plot_image(picks=['P'])#NoP300"
   ]
  },
  {
   "cell_type": "code",
   "execution_count": null,
   "metadata": {
    "executionInfo": {
     "elapsed": 8,
     "status": "ok",
     "timestamp": 1698938946450,
     "user": {
      "displayName": "Ivan Daniel Villegas Isasa",
      "userId": "00302774522595278560"
     },
     "user_tz": 300
    },
    "id": "TlAuLIKGWZfU"
   },
   "outputs": [],
   "source": []
  }
 ],
 "metadata": {
  "colab": {
   "authorship_tag": "ABX9TyMgBF3rXm90/E+EaVnIxwEk",
   "provenance": []
  },
  "kernelspec": {
   "display_name": "Python 3",
   "language": "python",
   "name": "python3"
  },
  "language_info": {
   "codemirror_mode": {
    "name": "ipython",
    "version": 3
   },
   "file_extension": ".py",
   "mimetype": "text/x-python",
   "name": "python",
   "nbconvert_exporter": "python",
   "pygments_lexer": "ipython3",
   "version": "3.7.6"
  }
 },
 "nbformat": 4,
 "nbformat_minor": 4
}
