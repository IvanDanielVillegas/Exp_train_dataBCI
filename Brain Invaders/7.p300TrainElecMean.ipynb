{
 "cells": [
  {
   "cell_type": "code",
   "execution_count": 1,
   "metadata": {
    "colab": {
     "base_uri": "https://localhost:8080/"
    },
    "executionInfo": {
     "elapsed": 18854,
     "status": "ok",
     "timestamp": 1699385116636,
     "user": {
      "displayName": "Ivan Daniel Villegas Isasa",
      "userId": "00302774522595278560"
     },
     "user_tz": 300
    },
    "id": "7wv1uVtmjwpq",
    "outputId": "9e91ae04-370a-44a3-8fb1-27c72830ceb8"
   },
   "outputs": [
    {
     "name": "stdout",
     "output_type": "stream",
     "text": [
      "Mounted at /content/drive/\n"
     ]
    }
   ],
   "source": [
    "#from google.colab import drive\n",
    "#drive.mount('/content/drive/')"
   ]
  },
  {
   "cell_type": "code",
   "execution_count": 2,
   "metadata": {
    "colab": {
     "base_uri": "https://localhost:8080/"
    },
    "executionInfo": {
     "elapsed": 27755,
     "status": "ok",
     "timestamp": 1699385144380,
     "user": {
      "displayName": "Ivan Daniel Villegas Isasa",
      "userId": "00302774522595278560"
     },
     "user_tz": 300
    },
    "id": "dksF0EhMj1LO",
    "outputId": "f7191dfa-d374-47e5-ce71-7daa46b681c9"
   },
   "outputs": [
    {
     "name": "stdout",
     "output_type": "stream",
     "text": [
      "Collecting mne\n",
      "  Downloading mne-1.5.1-py3-none-any.whl (7.7 MB)\n",
      "\u001b[2K     \u001b[90m━━━━━━━━━━━━━━━━━━━━━━━━━━━━━━━━━━━━━━━━\u001b[0m \u001b[32m7.7/7.7 MB\u001b[0m \u001b[31m10.8 MB/s\u001b[0m eta \u001b[36m0:00:00\u001b[0m\n",
      "\u001b[?25hRequirement already satisfied: numpy>=1.15.4 in /usr/local/lib/python3.10/dist-packages (from mne) (1.23.5)\n",
      "Requirement already satisfied: scipy>=1.6.3 in /usr/local/lib/python3.10/dist-packages (from mne) (1.11.3)\n",
      "Requirement already satisfied: matplotlib>=3.4.0 in /usr/local/lib/python3.10/dist-packages (from mne) (3.7.1)\n",
      "Requirement already satisfied: tqdm in /usr/local/lib/python3.10/dist-packages (from mne) (4.66.1)\n",
      "Requirement already satisfied: pooch>=1.5 in /usr/local/lib/python3.10/dist-packages (from mne) (1.8.0)\n",
      "Requirement already satisfied: decorator in /usr/local/lib/python3.10/dist-packages (from mne) (4.4.2)\n",
      "Requirement already satisfied: packaging in /usr/local/lib/python3.10/dist-packages (from mne) (23.2)\n",
      "Requirement already satisfied: jinja2 in /usr/local/lib/python3.10/dist-packages (from mne) (3.1.2)\n",
      "Requirement already satisfied: contourpy>=1.0.1 in /usr/local/lib/python3.10/dist-packages (from matplotlib>=3.4.0->mne) (1.2.0)\n",
      "Requirement already satisfied: cycler>=0.10 in /usr/local/lib/python3.10/dist-packages (from matplotlib>=3.4.0->mne) (0.12.1)\n",
      "Requirement already satisfied: fonttools>=4.22.0 in /usr/local/lib/python3.10/dist-packages (from matplotlib>=3.4.0->mne) (4.44.0)\n",
      "Requirement already satisfied: kiwisolver>=1.0.1 in /usr/local/lib/python3.10/dist-packages (from matplotlib>=3.4.0->mne) (1.4.5)\n",
      "Requirement already satisfied: pillow>=6.2.0 in /usr/local/lib/python3.10/dist-packages (from matplotlib>=3.4.0->mne) (9.4.0)\n",
      "Requirement already satisfied: pyparsing>=2.3.1 in /usr/local/lib/python3.10/dist-packages (from matplotlib>=3.4.0->mne) (3.1.1)\n",
      "Requirement already satisfied: python-dateutil>=2.7 in /usr/local/lib/python3.10/dist-packages (from matplotlib>=3.4.0->mne) (2.8.2)\n",
      "Requirement already satisfied: platformdirs>=2.5.0 in /usr/local/lib/python3.10/dist-packages (from pooch>=1.5->mne) (3.11.0)\n",
      "Requirement already satisfied: requests>=2.19.0 in /usr/local/lib/python3.10/dist-packages (from pooch>=1.5->mne) (2.31.0)\n",
      "Requirement already satisfied: MarkupSafe>=2.0 in /usr/local/lib/python3.10/dist-packages (from jinja2->mne) (2.1.3)\n",
      "Requirement already satisfied: six>=1.5 in /usr/local/lib/python3.10/dist-packages (from python-dateutil>=2.7->matplotlib>=3.4.0->mne) (1.16.0)\n",
      "Requirement already satisfied: charset-normalizer<4,>=2 in /usr/local/lib/python3.10/dist-packages (from requests>=2.19.0->pooch>=1.5->mne) (3.3.2)\n",
      "Requirement already satisfied: idna<4,>=2.5 in /usr/local/lib/python3.10/dist-packages (from requests>=2.19.0->pooch>=1.5->mne) (3.4)\n",
      "Requirement already satisfied: urllib3<3,>=1.21.1 in /usr/local/lib/python3.10/dist-packages (from requests>=2.19.0->pooch>=1.5->mne) (2.0.7)\n",
      "Requirement already satisfied: certifi>=2017.4.17 in /usr/local/lib/python3.10/dist-packages (from requests>=2.19.0->pooch>=1.5->mne) (2023.7.22)\n",
      "Installing collected packages: mne\n",
      "Successfully installed mne-1.5.1\n"
     ]
    }
   ],
   "source": [
    "#!pip install mne"
   ]
  },
  {
   "cell_type": "code",
   "execution_count": 1,
   "metadata": {
    "executionInfo": {
     "elapsed": 3931,
     "status": "ok",
     "timestamp": 1699385148300,
     "user": {
      "displayName": "Ivan Daniel Villegas Isasa",
      "userId": "00302774522595278560"
     },
     "user_tz": 300
    },
    "id": "jAXaC-DQj3ab"
   },
   "outputs": [],
   "source": [
    "import scipy.io as sio\n",
    "import numpy as np\n",
    "import matplotlib.pyplot as plt\n",
    "import seaborn as sns\n",
    "import pandas as pd\n",
    "from scipy import signal\n",
    "import math\n",
    "import mne\n",
    "%matplotlib inline"
   ]
  },
  {
   "cell_type": "code",
   "execution_count": 2,
   "metadata": {
    "colab": {
     "base_uri": "https://localhost:8080/",
     "height": 410
    },
    "executionInfo": {
     "elapsed": 1138,
     "status": "ok",
     "timestamp": 1699385149432,
     "user": {
      "displayName": "Ivan Daniel Villegas Isasa",
      "userId": "00302774522595278560"
     },
     "user_tz": 300
    },
    "id": "Fac3_rjfkDBz",
    "outputId": "5d5d18cf-b2dd-4fc9-eed7-9c73daa2cbc1"
   },
   "outputs": [
    {
     "name": "stdout",
     "output_type": "stream",
     "text": [
      "Reading /home/ivandanielvillegas/work/home/BrainInvaders/Data/epocas/elect_mean_epo.fif ...\n",
      "Isotrak not found\n",
      "    Found the data of interest:\n",
      "        t =    -304.00 ...     688.00 ms\n",
      "        0 CTF compensation matrices available\n",
      "Not setting metadata\n",
      "60154 matching events found\n",
      "No baseline correction applied\n",
      "0 projection items activated\n"
     ]
    },
    {
     "data": {
      "text/html": [
       "<table class=\"table table-hover table-striped table-sm table-responsive small\">\n",
       "    <tr>\n",
       "        <th>Measurement date</th>\n",
       "        \n",
       "        <td>Unknown</td>\n",
       "        \n",
       "    </tr>\n",
       "    <tr>\n",
       "        <th>Experimenter</th>\n",
       "        \n",
       "        <td>Unknown</td>\n",
       "        \n",
       "    </tr>\n",
       "        <th>Participant</th>\n",
       "        \n",
       "        <td>Unknown</td>\n",
       "        \n",
       "    </tr>\n",
       "    <tr>\n",
       "        <th>Digitized points</th>\n",
       "        \n",
       "        <td>Not available</td>\n",
       "        \n",
       "    </tr>\n",
       "    <tr>\n",
       "        <th>Good channels</th>\n",
       "        <td>4 EEG</td>\n",
       "    </tr>\n",
       "    <tr>\n",
       "        <th>Bad channels</th>\n",
       "        <td>None</td>\n",
       "    </tr>\n",
       "    <tr>\n",
       "        <th>EOG channels</th>\n",
       "        <td>Not available</td>\n",
       "    </tr>\n",
       "    <tr>\n",
       "        <th>ECG channels</th>\n",
       "        <td>Not available</td>\n",
       "    \n",
       "    <tr>\n",
       "        <th>Sampling frequency</th>\n",
       "        <td>125.00 Hz</td>\n",
       "    </tr>\n",
       "    \n",
       "    \n",
       "    <tr>\n",
       "        <th>Highpass</th>\n",
       "        <td>0.00 Hz</td>\n",
       "    </tr>\n",
       "    \n",
       "    \n",
       "    <tr>\n",
       "        <th>Lowpass</th>\n",
       "        <td>62.50 Hz</td>\n",
       "    </tr>\n",
       "    \n",
       "    \n",
       "</table>"
      ],
      "text/plain": [
       "<Info | 9 non-empty values\n",
       " bads: []\n",
       " ch_names: O, C, P, F\n",
       " chs: 4 EEG\n",
       " custom_ref_applied: False\n",
       " file_id: 4 items (dict)\n",
       " highpass: 0.0 Hz\n",
       " lowpass: 62.5 Hz\n",
       " meas_date: unspecified\n",
       " meas_id: 4 items (dict)\n",
       " nchan: 4\n",
       " projs: []\n",
       " sfreq: 125.0 Hz\n",
       ">"
      ]
     },
     "execution_count": 2,
     "metadata": {},
     "output_type": "execute_result"
    }
   ],
   "source": [
    "epochs = mne.read_epochs('Data/epocas/elect_mean_epo.fif')\n",
    "#Ruta felipe: /content/drive/MyDrive/P300_PYTHON/drive-download-20230826T021221Z-001.zip (Unzipped Files)/oddball_train_epo.fif\n",
    "epochs.info"
   ]
  },
  {
   "cell_type": "code",
   "execution_count": 3,
   "metadata": {
    "colab": {
     "base_uri": "https://localhost:8080/"
    },
    "executionInfo": {
     "elapsed": 19,
     "status": "ok",
     "timestamp": 1699385149432,
     "user": {
      "displayName": "Ivan Daniel Villegas Isasa",
      "userId": "00302774522595278560"
     },
     "user_tz": 300
    },
    "id": "qWHb6HTFkZwl",
    "outputId": "cc4873e6-254c-4f95-eed0-1fdf67351098"
   },
   "outputs": [],
   "source": [
    "pick_channels = ['C']#['Cz','Pz','Oz']\n",
    "target = epochs[\"1\"].pick_channels(pick_channels)#.average()\n",
    "#target.get_data()"
   ]
  },
  {
   "cell_type": "code",
   "execution_count": 4,
   "metadata": {
    "colab": {
     "base_uri": "https://localhost:8080/",
     "height": 122
    },
    "executionInfo": {
     "elapsed": 17,
     "status": "ok",
     "timestamp": 1699385149433,
     "user": {
      "displayName": "Ivan Daniel Villegas Isasa",
      "userId": "00302774522595278560"
     },
     "user_tz": 300
    },
    "id": "dut1nDytkv9k",
    "outputId": "267be00d-fbde-4ddf-c81e-6c126488b670"
   },
   "outputs": [
    {
     "data": {
      "text/html": [
       "<table class=\"table table-hover table-striped table-sm table-responsive small\">\n",
       "    <tr>\n",
       "        <th>Number of events</th>\n",
       "        <td>50128</td>\n",
       "    </tr>\n",
       "    <tr>\n",
       "        <th>Events</th>\n",
       "        \n",
       "        <td>0: 50128</td>\n",
       "        \n",
       "    </tr>\n",
       "    <tr>\n",
       "        <th>Time range</th>\n",
       "        <td>-0.304 – 0.688 sec</td>\n",
       "    </tr>\n",
       "    <tr>\n",
       "        <th>Baseline</th>\n",
       "        <td>off</td>\n",
       "    </tr>\n",
       "</table>"
      ],
      "text/plain": [
       "<EpochsFIF |  50128 events (all good), -0.304 - 0.688 sec, baseline off, ~47.8 MB, data loaded,\n",
       " '0': 50128>"
      ]
     },
     "execution_count": 4,
     "metadata": {},
     "output_type": "execute_result"
    }
   ],
   "source": [
    "standard = epochs[\"0\"].pick_channels(pick_channels)#.average()\n",
    "standard"
   ]
  },
  {
   "cell_type": "code",
   "execution_count": 5,
   "metadata": {
    "executionInfo": {
     "elapsed": 615,
     "status": "ok",
     "timestamp": 1699385154623,
     "user": {
      "displayName": "Ivan Daniel Villegas Isasa",
      "userId": "00302774522595278560"
     },
     "user_tz": 300
    },
    "id": "_bzHeBi5fXuU"
   },
   "outputs": [],
   "source": [
    "def ventanas(epochs,m1,m2,m3,m4,F):\n",
    "  epochs_part1 = epochs.copy().crop(tmin=m1, tmax=m2)\n",
    "  epochs_part2 = epochs.copy().crop(tmin=m2, tmax=m3)\n",
    "  epochs_part3 = epochs.copy().crop(tmin=m3, tmax=m4)\n",
    "  epochs_part4 = epochs.copy().crop(tmin=m4, tmax=F)\n",
    "  data_part1 = epochs_part1.get_data()\n",
    "  data_part2 = epochs_part2.get_data()\n",
    "  data_part3 = epochs_part3.get_data()\n",
    "  data_part4 = epochs_part4.get_data()\n",
    "  mean_part1 = np.mean(data_part1[:, :], axis=2)\n",
    "  mean_part2 = np.mean(data_part2[:, :], axis=2)\n",
    "  mean_part3 = np.mean(data_part3[:, :], axis=2)\n",
    "  mean_part4 = np.mean(data_part4[:, :], axis=2)\n",
    "  return mean_part1, mean_part2, mean_part3, mean_part4"
   ]
  },
  {
   "cell_type": "code",
   "execution_count": 6,
   "metadata": {
    "executionInfo": {
     "elapsed": 15,
     "status": "ok",
     "timestamp": 1699385155003,
     "user": {
      "displayName": "Ivan Daniel Villegas Isasa",
      "userId": "00302774522595278560"
     },
     "user_tz": 300
    },
    "id": "T7BSb93wDZ4b"
   },
   "outputs": [],
   "source": [
    "def ventanas_CV(epochs,m1,m2,m3,m4,F):\n",
    "  prom = np.mean(epochs.get_data())  #, axis=2\n",
    "  epochs_part1 = epochs.copy().crop(tmin=m1, tmax=m2)\n",
    "  epochs_part2 = epochs.copy().crop(tmin=m2, tmax=m3)\n",
    "  epochs_part3 = epochs.copy().crop(tmin=m3, tmax=m4)\n",
    "  epochs_part4 = epochs.copy().crop(tmin=m4, tmax=F)\n",
    "  data_part1 = epochs_part1.get_data()\n",
    "  data_part2 = epochs_part2.get_data()\n",
    "  data_part3 = epochs_part3.get_data()\n",
    "  data_part4 = epochs_part4.get_data()\n",
    "  mean_part1 = np.std(data_part1[:, :], axis=2)/prom\n",
    "  mean_part2 = np.std(data_part2[:, :], axis=2)/prom\n",
    "  mean_part3 = np.std(data_part3[:, :], axis=2)/prom\n",
    "  mean_part4 = np.std(data_part4[:, :], axis=2)/prom\n",
    "  return mean_part1, mean_part2, mean_part3, mean_part4"
   ]
  },
  {
   "cell_type": "code",
   "execution_count": 7,
   "metadata": {
    "executionInfo": {
     "elapsed": 14,
     "status": "ok",
     "timestamp": 1699385155004,
     "user": {
      "displayName": "Ivan Daniel Villegas Isasa",
      "userId": "00302774522595278560"
     },
     "user_tz": 300
    },
    "id": "JAQP6RxxPHdC"
   },
   "outputs": [],
   "source": [
    "def buscar_indice_max_min(a):\n",
    "  max_indices = []\n",
    "  min_indices = []\n",
    "  for i in range(a.shape[1]):\n",
    "    index = np.argmax(a[:, i])\n",
    "    max_indices.append(index)\n",
    "  for i in range(a.shape[1]):\n",
    "    index = np.argmin(a[:, i])\n",
    "    min_indices.append(index)\n",
    "  return np.array(max_indices), np.array(min_indices)\n",
    "\n",
    "def ventanas_DADT(epochs,m1,m2,m3,m4,F):\n",
    "  epochs_part1 = epochs.copy().crop(tmin=m1, tmax=m2)\n",
    "  epochs_part2 = epochs.copy().crop(tmin=m2, tmax=m3)\n",
    "  epochs_part3 = epochs.copy().crop(tmin=m3, tmax=m4)\n",
    "  epochs_part4 = epochs.copy().crop(tmin=m4, tmax=F)\n",
    "  data_part1 = epochs_part1.get_data()\n",
    "  data_part2 = epochs_part2.get_data()\n",
    "  data_part3 = epochs_part3.get_data()\n",
    "  data_part4 = epochs_part4.get_data()\n",
    "  max_part1 = np.max(data_part1[:, :], axis=2)\n",
    "  max_part2 = np.max(data_part2[:, :], axis=2)\n",
    "  max_part3 = np.max(data_part3[:, :], axis=2)\n",
    "  max_part4 = np.max(data_part4[:, :], axis=2)\n",
    "  min_part1 = np.min(data_part1[:, :], axis=2)\n",
    "  min_part2 = np.min(data_part2[:, :], axis=2)\n",
    "  min_part3 = np.min(data_part3[:, :], axis=2)\n",
    "  min_part4 = np.min(data_part4[:, :], axis=2)\n",
    "  index_max_part1, index_min_part1 = buscar_indice_max_min(data_part1[:, :])\n",
    "  index_max_part2, index_min_part2 = buscar_indice_max_min(data_part2[:, :])\n",
    "  index_max_part3, index_min_part3 = buscar_indice_max_min(data_part3[:, :])\n",
    "  index_max_part4, index_min_part4 = buscar_indice_max_min(data_part4[:, :])\n",
    "  mean_part1 = (max_part1-min_part1)/(index_max_part1-index_min_part1)\n",
    "  mean_part2 = (max_part2-min_part2)/(index_max_part2-index_min_part2)\n",
    "  mean_part3 = (max_part3-min_part3)/(index_max_part3-index_min_part3)\n",
    "  mean_part4 = (max_part4-min_part4)/(index_max_part4-index_min_part4)\n",
    "  return mean_part1, mean_part2, mean_part3, mean_part4"
   ]
  },
  {
   "cell_type": "code",
   "execution_count": 8,
   "metadata": {
    "colab": {
     "base_uri": "https://localhost:8080/"
    },
    "executionInfo": {
     "elapsed": 14,
     "status": "ok",
     "timestamp": 1699385155005,
     "user": {
      "displayName": "Ivan Daniel Villegas Isasa",
      "userId": "00302774522595278560"
     },
     "user_tz": 300
    },
    "id": "1JRY3IoLgEWA",
    "outputId": "3318f01f-6681-4feb-b436-d2b4c8065a75"
   },
   "outputs": [
    {
     "name": "stderr",
     "output_type": "stream",
     "text": [
      "<ipython-input-7-870ca4a36b85>:16: RuntimeWarning: tmax is not in time interval. tmax is set to <class 'mne.epochs.EpochsFIF'>.tmax (0.688 sec)\n",
      "  epochs_part4 = epochs.copy().crop(tmin=m4, tmax=F)\n"
     ]
    },
    {
     "data": {
      "text/plain": [
       "((10026, 1), (10026, 1), (10026, 1), (10026, 1))"
      ]
     },
     "execution_count": 8,
     "metadata": {},
     "output_type": "execute_result"
    }
   ],
   "source": [
    "mean_target_part1, mean_target_part2 ,mean_target_part3 ,mean_target_part4 = ventanas_DADT(target,-0.3,0,0.25,0.4,0.7)\n",
    "mean_target_part1.shape, mean_target_part2.shape ,mean_target_part3.shape ,mean_target_part4.shape"
   ]
  },
  {
   "cell_type": "code",
   "execution_count": 9,
   "metadata": {
    "colab": {
     "base_uri": "https://localhost:8080/"
    },
    "executionInfo": {
     "elapsed": 9,
     "status": "ok",
     "timestamp": 1699385155005,
     "user": {
      "displayName": "Ivan Daniel Villegas Isasa",
      "userId": "00302774522595278560"
     },
     "user_tz": 300
    },
    "id": "mbMY_U4rhjXI",
    "outputId": "c9ce411a-34d1-4da3-8f1a-748decf25c3b"
   },
   "outputs": [
    {
     "name": "stderr",
     "output_type": "stream",
     "text": [
      "<ipython-input-7-870ca4a36b85>:16: RuntimeWarning: tmax is not in time interval. tmax is set to <class 'mne.epochs.EpochsFIF'>.tmax (0.688 sec)\n",
      "  epochs_part4 = epochs.copy().crop(tmin=m4, tmax=F)\n"
     ]
    },
    {
     "data": {
      "text/plain": [
       "((50128, 1), (50128, 1), (50128, 1), (50128, 1))"
      ]
     },
     "execution_count": 9,
     "metadata": {},
     "output_type": "execute_result"
    }
   ],
   "source": [
    "mean_standard_part1, mean_standard_part2, mean_standard_part3, mean_standard_part4 = ventanas_DADT(standard,-0.3,0,0.25,0.4,0.7)\n",
    "mean_standard_part1.shape, mean_standard_part2.shape, mean_standard_part3.shape, mean_standard_part4.shape"
   ]
  },
  {
   "cell_type": "code",
   "execution_count": 10,
   "metadata": {
    "colab": {
     "base_uri": "https://localhost:8080/",
     "height": 598
    },
    "executionInfo": {
     "elapsed": 1271,
     "status": "ok",
     "timestamp": 1699385156269,
     "user": {
      "displayName": "Ivan Daniel Villegas Isasa",
      "userId": "00302774522595278560"
     },
     "user_tz": 300
    },
    "id": "RrzUGk9-QiBI",
    "outputId": "a3e7ae98-add0-4754-cec6-e43aca7415ce"
   },
   "outputs": [
    {
     "ename": "ValueError",
     "evalue": "'c' argument has 50128 elements, which is not acceptable for use with 'x' with size 50128, 'y' with size 50128.",
     "output_type": "error",
     "traceback": [
      "\u001b[0;31m---------------------------------------------------------------------------\u001b[0m",
      "\u001b[0;31mValueError\u001b[0m                                Traceback (most recent call last)",
      "\u001b[0;32m/opt/conda/lib/python3.7/site-packages/matplotlib/axes/_axes.py\u001b[0m in \u001b[0;36m_parse_scatter_color_args\u001b[0;34m(c, edgecolors, kwargs, xshape, yshape, get_next_color_func)\u001b[0m\n\u001b[1;32m   4283\u001b[0m             \u001b[0;32mtry\u001b[0m\u001b[0;34m:\u001b[0m  \u001b[0;31m# Then is 'c' acceptable as PathCollection facecolors?\u001b[0m\u001b[0;34m\u001b[0m\u001b[0;34m\u001b[0m\u001b[0m\n\u001b[0;32m-> 4284\u001b[0;31m                 \u001b[0mcolors\u001b[0m \u001b[0;34m=\u001b[0m \u001b[0mmcolors\u001b[0m\u001b[0;34m.\u001b[0m\u001b[0mto_rgba_array\u001b[0m\u001b[0;34m(\u001b[0m\u001b[0mc\u001b[0m\u001b[0;34m)\u001b[0m\u001b[0;34m\u001b[0m\u001b[0;34m\u001b[0m\u001b[0m\n\u001b[0m\u001b[1;32m   4285\u001b[0m                 \u001b[0mn_elem\u001b[0m \u001b[0;34m=\u001b[0m \u001b[0mcolors\u001b[0m\u001b[0;34m.\u001b[0m\u001b[0mshape\u001b[0m\u001b[0;34m[\u001b[0m\u001b[0;36m0\u001b[0m\u001b[0;34m]\u001b[0m\u001b[0;34m\u001b[0m\u001b[0;34m\u001b[0m\u001b[0m\n",
      "\u001b[0;32m/opt/conda/lib/python3.7/site-packages/matplotlib/colors.py\u001b[0m in \u001b[0;36mto_rgba_array\u001b[0;34m(c, alpha)\u001b[0m\n\u001b[1;32m    293\u001b[0m     \u001b[0;32mfor\u001b[0m \u001b[0mi\u001b[0m\u001b[0;34m,\u001b[0m \u001b[0mcc\u001b[0m \u001b[0;32min\u001b[0m \u001b[0menumerate\u001b[0m\u001b[0;34m(\u001b[0m\u001b[0mc\u001b[0m\u001b[0;34m)\u001b[0m\u001b[0;34m:\u001b[0m\u001b[0;34m\u001b[0m\u001b[0;34m\u001b[0m\u001b[0m\n\u001b[0;32m--> 294\u001b[0;31m         \u001b[0mresult\u001b[0m\u001b[0;34m[\u001b[0m\u001b[0mi\u001b[0m\u001b[0;34m]\u001b[0m \u001b[0;34m=\u001b[0m \u001b[0mto_rgba\u001b[0m\u001b[0;34m(\u001b[0m\u001b[0mcc\u001b[0m\u001b[0;34m,\u001b[0m \u001b[0malpha\u001b[0m\u001b[0;34m)\u001b[0m\u001b[0;34m\u001b[0m\u001b[0;34m\u001b[0m\u001b[0m\n\u001b[0m\u001b[1;32m    295\u001b[0m     \u001b[0;32mreturn\u001b[0m \u001b[0mresult\u001b[0m\u001b[0;34m\u001b[0m\u001b[0;34m\u001b[0m\u001b[0m\n",
      "\u001b[0;32m/opt/conda/lib/python3.7/site-packages/matplotlib/colors.py\u001b[0m in \u001b[0;36mto_rgba\u001b[0;34m(c, alpha)\u001b[0m\n\u001b[1;32m    176\u001b[0m     \u001b[0;32mif\u001b[0m \u001b[0mrgba\u001b[0m \u001b[0;32mis\u001b[0m \u001b[0;32mNone\u001b[0m\u001b[0;34m:\u001b[0m  \u001b[0;31m# Suppress exception chaining of cache lookup failure.\u001b[0m\u001b[0;34m\u001b[0m\u001b[0;34m\u001b[0m\u001b[0m\n\u001b[0;32m--> 177\u001b[0;31m         \u001b[0mrgba\u001b[0m \u001b[0;34m=\u001b[0m \u001b[0m_to_rgba_no_colorcycle\u001b[0m\u001b[0;34m(\u001b[0m\u001b[0mc\u001b[0m\u001b[0;34m,\u001b[0m \u001b[0malpha\u001b[0m\u001b[0;34m)\u001b[0m\u001b[0;34m\u001b[0m\u001b[0;34m\u001b[0m\u001b[0m\n\u001b[0m\u001b[1;32m    178\u001b[0m         \u001b[0;32mtry\u001b[0m\u001b[0;34m:\u001b[0m\u001b[0;34m\u001b[0m\u001b[0;34m\u001b[0m\u001b[0m\n",
      "\u001b[0;32m/opt/conda/lib/python3.7/site-packages/matplotlib/colors.py\u001b[0m in \u001b[0;36m_to_rgba_no_colorcycle\u001b[0;34m(c, alpha)\u001b[0m\n\u001b[1;32m    243\u001b[0m     \u001b[0;32mif\u001b[0m \u001b[0mlen\u001b[0m\u001b[0;34m(\u001b[0m\u001b[0mc\u001b[0m\u001b[0;34m)\u001b[0m \u001b[0;32mnot\u001b[0m \u001b[0;32min\u001b[0m \u001b[0;34m[\u001b[0m\u001b[0;36m3\u001b[0m\u001b[0;34m,\u001b[0m \u001b[0;36m4\u001b[0m\u001b[0;34m]\u001b[0m\u001b[0;34m:\u001b[0m\u001b[0;34m\u001b[0m\u001b[0;34m\u001b[0m\u001b[0m\n\u001b[0;32m--> 244\u001b[0;31m         \u001b[0;32mraise\u001b[0m \u001b[0mValueError\u001b[0m\u001b[0;34m(\u001b[0m\u001b[0;34m\"RGBA sequence should have length 3 or 4\"\u001b[0m\u001b[0;34m)\u001b[0m\u001b[0;34m\u001b[0m\u001b[0;34m\u001b[0m\u001b[0m\n\u001b[0m\u001b[1;32m    245\u001b[0m     \u001b[0;32mif\u001b[0m \u001b[0mlen\u001b[0m\u001b[0;34m(\u001b[0m\u001b[0mc\u001b[0m\u001b[0;34m)\u001b[0m \u001b[0;34m==\u001b[0m \u001b[0;36m3\u001b[0m \u001b[0;32mand\u001b[0m \u001b[0malpha\u001b[0m \u001b[0;32mis\u001b[0m \u001b[0;32mNone\u001b[0m\u001b[0;34m:\u001b[0m\u001b[0;34m\u001b[0m\u001b[0;34m\u001b[0m\u001b[0m\n",
      "\u001b[0;31mValueError\u001b[0m: RGBA sequence should have length 3 or 4",
      "\nDuring handling of the above exception, another exception occurred:\n",
      "\u001b[0;31mValueError\u001b[0m                                Traceback (most recent call last)",
      "\u001b[0;32m<ipython-input-10-c5647290fa29>\u001b[0m in \u001b[0;36m<module>\u001b[0;34m\u001b[0m\n\u001b[1;32m     16\u001b[0m \u001b[0mc1\u001b[0m \u001b[0;34m=\u001b[0m \u001b[0mmean_standard_part3\u001b[0m\u001b[0;34m\u001b[0m\u001b[0;34m\u001b[0m\u001b[0m\n\u001b[1;32m     17\u001b[0m \u001b[0;34m\u001b[0m\u001b[0m\n\u001b[0;32m---> 18\u001b[0;31m \u001b[0mimg2\u001b[0m \u001b[0;34m=\u001b[0m \u001b[0max\u001b[0m\u001b[0;34m.\u001b[0m\u001b[0mscatter\u001b[0m\u001b[0;34m(\u001b[0m\u001b[0mx1\u001b[0m\u001b[0;34m,\u001b[0m \u001b[0my1\u001b[0m\u001b[0;34m,\u001b[0m \u001b[0mz1\u001b[0m\u001b[0;34m,\u001b[0m \u001b[0mc\u001b[0m\u001b[0;34m=\u001b[0m\u001b[0mc1\u001b[0m\u001b[0;34m,\u001b[0m \u001b[0ms\u001b[0m \u001b[0;34m=\u001b[0m \u001b[0;36m100\u001b[0m\u001b[0;34m,\u001b[0m \u001b[0mmarker\u001b[0m \u001b[0;34m=\u001b[0m \u001b[0;34m\"*\"\u001b[0m\u001b[0;34m,\u001b[0m \u001b[0mcmap\u001b[0m\u001b[0;34m=\u001b[0m\u001b[0mplt\u001b[0m\u001b[0;34m.\u001b[0m\u001b[0mwinter\u001b[0m\u001b[0;34m(\u001b[0m\u001b[0;34m)\u001b[0m\u001b[0;34m)\u001b[0m\u001b[0;34m\u001b[0m\u001b[0;34m\u001b[0m\u001b[0m\n\u001b[0m\u001b[1;32m     19\u001b[0m \u001b[0mcbar\u001b[0m \u001b[0;34m=\u001b[0m \u001b[0mfig\u001b[0m\u001b[0;34m.\u001b[0m\u001b[0mcolorbar\u001b[0m\u001b[0;34m(\u001b[0m\u001b[0mimg2\u001b[0m\u001b[0;34m)\u001b[0m\u001b[0;34m\u001b[0m\u001b[0;34m\u001b[0m\u001b[0m\n\u001b[1;32m     20\u001b[0m \u001b[0mcbar\u001b[0m\u001b[0;34m.\u001b[0m\u001b[0mset_label\u001b[0m\u001b[0;34m(\u001b[0m\u001b[0;34m'Pendiente de la ventana 1'\u001b[0m\u001b[0;34m)\u001b[0m\u001b[0;34m\u001b[0m\u001b[0;34m\u001b[0m\u001b[0m\n",
      "\u001b[0;32m/opt/conda/lib/python3.7/site-packages/mpl_toolkits/mplot3d/axes3d.py\u001b[0m in \u001b[0;36mscatter\u001b[0;34m(self, xs, ys, zs, zdir, s, c, depthshade, *args, **kwargs)\u001b[0m\n\u001b[1;32m   2325\u001b[0m         \u001b[0mxs\u001b[0m\u001b[0;34m,\u001b[0m \u001b[0mys\u001b[0m\u001b[0;34m,\u001b[0m \u001b[0mzs\u001b[0m\u001b[0;34m,\u001b[0m \u001b[0ms\u001b[0m\u001b[0;34m,\u001b[0m \u001b[0mc\u001b[0m \u001b[0;34m=\u001b[0m \u001b[0mcbook\u001b[0m\u001b[0;34m.\u001b[0m\u001b[0mdelete_masked_points\u001b[0m\u001b[0;34m(\u001b[0m\u001b[0mxs\u001b[0m\u001b[0;34m,\u001b[0m \u001b[0mys\u001b[0m\u001b[0;34m,\u001b[0m \u001b[0mzs\u001b[0m\u001b[0;34m,\u001b[0m \u001b[0ms\u001b[0m\u001b[0;34m,\u001b[0m \u001b[0mc\u001b[0m\u001b[0;34m)\u001b[0m\u001b[0;34m\u001b[0m\u001b[0;34m\u001b[0m\u001b[0m\n\u001b[1;32m   2326\u001b[0m \u001b[0;34m\u001b[0m\u001b[0m\n\u001b[0;32m-> 2327\u001b[0;31m         \u001b[0mpatches\u001b[0m \u001b[0;34m=\u001b[0m \u001b[0msuper\u001b[0m\u001b[0;34m(\u001b[0m\u001b[0;34m)\u001b[0m\u001b[0;34m.\u001b[0m\u001b[0mscatter\u001b[0m\u001b[0;34m(\u001b[0m\u001b[0mxs\u001b[0m\u001b[0;34m,\u001b[0m \u001b[0mys\u001b[0m\u001b[0;34m,\u001b[0m \u001b[0ms\u001b[0m\u001b[0;34m=\u001b[0m\u001b[0ms\u001b[0m\u001b[0;34m,\u001b[0m \u001b[0mc\u001b[0m\u001b[0;34m=\u001b[0m\u001b[0mc\u001b[0m\u001b[0;34m,\u001b[0m \u001b[0;34m*\u001b[0m\u001b[0margs\u001b[0m\u001b[0;34m,\u001b[0m \u001b[0;34m**\u001b[0m\u001b[0mkwargs\u001b[0m\u001b[0;34m)\u001b[0m\u001b[0;34m\u001b[0m\u001b[0;34m\u001b[0m\u001b[0m\n\u001b[0m\u001b[1;32m   2328\u001b[0m         art3d.patch_collection_2d_to_3d(patches, zs=zs, zdir=zdir,\n\u001b[1;32m   2329\u001b[0m                                         depthshade=depthshade)\n",
      "\u001b[0;32m/opt/conda/lib/python3.7/site-packages/matplotlib/__init__.py\u001b[0m in \u001b[0;36minner\u001b[0;34m(ax, data, *args, **kwargs)\u001b[0m\n\u001b[1;32m   1597\u001b[0m     \u001b[0;32mdef\u001b[0m \u001b[0minner\u001b[0m\u001b[0;34m(\u001b[0m\u001b[0max\u001b[0m\u001b[0;34m,\u001b[0m \u001b[0;34m*\u001b[0m\u001b[0margs\u001b[0m\u001b[0;34m,\u001b[0m \u001b[0mdata\u001b[0m\u001b[0;34m=\u001b[0m\u001b[0;32mNone\u001b[0m\u001b[0;34m,\u001b[0m \u001b[0;34m**\u001b[0m\u001b[0mkwargs\u001b[0m\u001b[0;34m)\u001b[0m\u001b[0;34m:\u001b[0m\u001b[0;34m\u001b[0m\u001b[0;34m\u001b[0m\u001b[0m\n\u001b[1;32m   1598\u001b[0m         \u001b[0;32mif\u001b[0m \u001b[0mdata\u001b[0m \u001b[0;32mis\u001b[0m \u001b[0;32mNone\u001b[0m\u001b[0;34m:\u001b[0m\u001b[0;34m\u001b[0m\u001b[0;34m\u001b[0m\u001b[0m\n\u001b[0;32m-> 1599\u001b[0;31m             \u001b[0;32mreturn\u001b[0m \u001b[0mfunc\u001b[0m\u001b[0;34m(\u001b[0m\u001b[0max\u001b[0m\u001b[0;34m,\u001b[0m \u001b[0;34m*\u001b[0m\u001b[0mmap\u001b[0m\u001b[0;34m(\u001b[0m\u001b[0msanitize_sequence\u001b[0m\u001b[0;34m,\u001b[0m \u001b[0margs\u001b[0m\u001b[0;34m)\u001b[0m\u001b[0;34m,\u001b[0m \u001b[0;34m**\u001b[0m\u001b[0mkwargs\u001b[0m\u001b[0;34m)\u001b[0m\u001b[0;34m\u001b[0m\u001b[0;34m\u001b[0m\u001b[0m\n\u001b[0m\u001b[1;32m   1600\u001b[0m \u001b[0;34m\u001b[0m\u001b[0m\n\u001b[1;32m   1601\u001b[0m         \u001b[0mbound\u001b[0m \u001b[0;34m=\u001b[0m \u001b[0mnew_sig\u001b[0m\u001b[0;34m.\u001b[0m\u001b[0mbind\u001b[0m\u001b[0;34m(\u001b[0m\u001b[0max\u001b[0m\u001b[0;34m,\u001b[0m \u001b[0;34m*\u001b[0m\u001b[0margs\u001b[0m\u001b[0;34m,\u001b[0m \u001b[0;34m**\u001b[0m\u001b[0mkwargs\u001b[0m\u001b[0;34m)\u001b[0m\u001b[0;34m\u001b[0m\u001b[0;34m\u001b[0m\u001b[0m\n",
      "\u001b[0;32m/opt/conda/lib/python3.7/site-packages/matplotlib/axes/_axes.py\u001b[0m in \u001b[0;36mscatter\u001b[0;34m(self, x, y, s, c, marker, cmap, norm, vmin, vmax, alpha, linewidths, verts, edgecolors, plotnonfinite, **kwargs)\u001b[0m\n\u001b[1;32m   4451\u001b[0m             self._parse_scatter_color_args(\n\u001b[1;32m   4452\u001b[0m                 \u001b[0mc\u001b[0m\u001b[0;34m,\u001b[0m \u001b[0medgecolors\u001b[0m\u001b[0;34m,\u001b[0m \u001b[0mkwargs\u001b[0m\u001b[0;34m,\u001b[0m \u001b[0mxshape\u001b[0m\u001b[0;34m,\u001b[0m \u001b[0myshape\u001b[0m\u001b[0;34m,\u001b[0m\u001b[0;34m\u001b[0m\u001b[0;34m\u001b[0m\u001b[0m\n\u001b[0;32m-> 4453\u001b[0;31m                 get_next_color_func=self._get_patches_for_fill.get_next_color)\n\u001b[0m\u001b[1;32m   4454\u001b[0m \u001b[0;34m\u001b[0m\u001b[0m\n\u001b[1;32m   4455\u001b[0m         \u001b[0;32mif\u001b[0m \u001b[0mplotnonfinite\u001b[0m \u001b[0;32mand\u001b[0m \u001b[0mcolors\u001b[0m \u001b[0;32mis\u001b[0m \u001b[0;32mNone\u001b[0m\u001b[0;34m:\u001b[0m\u001b[0;34m\u001b[0m\u001b[0;34m\u001b[0m\u001b[0m\n",
      "\u001b[0;32m/opt/conda/lib/python3.7/site-packages/matplotlib/axes/_axes.py\u001b[0m in \u001b[0;36m_parse_scatter_color_args\u001b[0;34m(c, edgecolors, kwargs, xshape, yshape, get_next_color_func)\u001b[0m\n\u001b[1;32m   4295\u001b[0m                         \u001b[0;34m\"acceptable for use with 'x' with size {xs}, \"\u001b[0m\u001b[0;34m\u001b[0m\u001b[0;34m\u001b[0m\u001b[0m\n\u001b[1;32m   4296\u001b[0m                         \u001b[0;34m\"'y' with size {ys}.\"\u001b[0m\u001b[0;34m\u001b[0m\u001b[0;34m\u001b[0m\u001b[0m\n\u001b[0;32m-> 4297\u001b[0;31m                             \u001b[0;34m.\u001b[0m\u001b[0mformat\u001b[0m\u001b[0;34m(\u001b[0m\u001b[0mnc\u001b[0m\u001b[0;34m=\u001b[0m\u001b[0mn_elem\u001b[0m\u001b[0;34m,\u001b[0m \u001b[0mxs\u001b[0m\u001b[0;34m=\u001b[0m\u001b[0mxsize\u001b[0m\u001b[0;34m,\u001b[0m \u001b[0mys\u001b[0m\u001b[0;34m=\u001b[0m\u001b[0mysize\u001b[0m\u001b[0;34m)\u001b[0m\u001b[0;34m\u001b[0m\u001b[0;34m\u001b[0m\u001b[0m\n\u001b[0m\u001b[1;32m   4298\u001b[0m                     )\n\u001b[1;32m   4299\u001b[0m                 \u001b[0;32melse\u001b[0m\u001b[0;34m:\u001b[0m\u001b[0;34m\u001b[0m\u001b[0;34m\u001b[0m\u001b[0m\n",
      "\u001b[0;31mValueError\u001b[0m: 'c' argument has 50128 elements, which is not acceptable for use with 'x' with size 50128, 'y' with size 50128."
     ]
    },
    {
     "data": {
      "image/png": "[encoded data removed]",
      "text/plain": [
       "<Figure size 720x504 with 1 Axes>"
      ]
     },
     "metadata": {
      "needs_background": "light"
     },
     "output_type": "display_data"
    }
   ],
   "source": [
    "from mpl_toolkits.mplot3d import Axes3D\n",
    "import matplotlib.pyplot as plt\n",
    "import numpy as np\n",
    "\n",
    "fig = plt.figure(figsize =(10, 7))\n",
    "ax = fig.add_subplot(111, projection='3d')\n",
    "\n",
    "x = mean_target_part1\n",
    "y = mean_target_part4\n",
    "z = mean_target_part2\n",
    "c = mean_target_part3\n",
    "\n",
    "x1 = mean_standard_part1\n",
    "y1 = mean_standard_part4\n",
    "z1 = mean_standard_part2\n",
    "c1 = mean_standard_part3\n",
    "\n",
    "img2 = ax.scatter(x1, y1, z1, c=c1, s = 100, marker = \"*\", cmap=plt.winter())\n",
    "cbar = fig.colorbar(img2)\n",
    "cbar.set_label('Pendiente de la ventana 1')\n",
    "\n",
    "ax.set_xlabel('Pendiente de la ventana 3')\n",
    "ax.set_ylabel('Pendiente de la ventana 4')\n",
    "ax.set_zlabel('Pendiente de la ventana 2')\n",
    "ax.set_label('Pendiente de la ventana 1')\n",
    "plt.title('Pendientes en diferentes ventanas, los + P300 y los * son No P300')\n",
    "\n",
    "\n",
    "img = ax.scatter(x, y, z, c=c, s = 100,marker = \"+\", cmap=plt.winter())\n",
    "ax.view_init(40, 10)\n",
    "#fig.colorbar(img,img2)\n",
    "fig.savefig('scatter_Competition')\n",
    "plt.show()"
   ]
  },
  {
   "cell_type": "code",
   "execution_count": 11,
   "metadata": {
    "colab": {
     "base_uri": "https://localhost:8080/"
    },
    "executionInfo": {
     "elapsed": 23,
     "status": "ok",
     "timestamp": 1699385156270,
     "user": {
      "displayName": "Ivan Daniel Villegas Isasa",
      "userId": "00302774522595278560"
     },
     "user_tz": 300
    },
    "id": "U0wCVROXk9qb",
    "outputId": "989778f6-5ee0-4139-8c5d-5fafd77d798f"
   },
   "outputs": [
    {
     "name": "stdout",
     "output_type": "stream",
     "text": [
      "(10026, 4)\n",
      "(50128, 4)\n"
     ]
    }
   ],
   "source": [
    "featuresT = np.concatenate((mean_target_part1, mean_target_part2, mean_target_part3, mean_target_part4), axis=1)\n",
    "featuresF = np.concatenate((mean_standard_part1, mean_standard_part2, mean_standard_part3, mean_standard_part4), axis=1)\n",
    "print(featuresT.shape)\n",
    "print(featuresF.shape)"
   ]
  },
  {
   "cell_type": "code",
   "execution_count": 12,
   "metadata": {
    "colab": {
     "base_uri": "https://localhost:8080/"
    },
    "executionInfo": {
     "elapsed": 20,
     "status": "ok",
     "timestamp": 1699385156271,
     "user": {
      "displayName": "Ivan Daniel Villegas Isasa",
      "userId": "00302774522595278560"
     },
     "user_tz": 300
    },
    "id": "CCZGBvftlYZe",
    "outputId": "048a0143-df22-441b-bd27-1e393dda0bd0"
   },
   "outputs": [
    {
     "name": "stdout",
     "output_type": "stream",
     "text": [
      "(10026,)\n",
      "(50128,)\n"
     ]
    }
   ],
   "source": [
    "labelT = np.ones([len(mean_target_part1)])\n",
    "labelF = np.zeros([len(mean_standard_part1)])\n",
    "print(labelT.shape)\n",
    "print(labelF.shape)"
   ]
  },
  {
   "cell_type": "code",
   "execution_count": 13,
   "metadata": {
    "colab": {
     "base_uri": "https://localhost:8080/"
    },
    "executionInfo": {
     "elapsed": 17,
     "status": "ok",
     "timestamp": 1699385156271,
     "user": {
      "displayName": "Ivan Daniel Villegas Isasa",
      "userId": "00302774522595278560"
     },
     "user_tz": 300
    },
    "id": "SuQHy-lolyAD",
    "outputId": "1a0b3375-54cb-4f20-a2ca-ba1cf3796eb6"
   },
   "outputs": [
    {
     "name": "stdout",
     "output_type": "stream",
     "text": [
      "(60154, 4)\n",
      "(60154,)\n"
     ]
    }
   ],
   "source": [
    "features = np.concatenate((featuresT,featuresF), axis=0)\n",
    "labels = np.concatenate((labelT,labelF), axis=0)\n",
    "\n",
    "print(features.shape)\n",
    "print(labels.shape)"
   ]
  },
  {
   "cell_type": "markdown",
   "metadata": {
    "id": "rotdcfdR_s-S"
   },
   "source": [
    "## División del dataset"
   ]
  },
  {
   "cell_type": "code",
   "execution_count": 14,
   "metadata": {
    "executionInfo": {
     "elapsed": 527,
     "status": "ok",
     "timestamp": 1699385156783,
     "user": {
      "displayName": "Ivan Daniel Villegas Isasa",
      "userId": "00302774522595278560"
     },
     "user_tz": 300
    },
    "id": "rbEjFAS_mHQF"
   },
   "outputs": [],
   "source": [
    "import numpy as np\n",
    "from sklearn.discriminant_analysis import LinearDiscriminantAnalysis\n",
    "from sklearn.model_selection import train_test_split\n",
    "from sklearn.metrics import confusion_matrix, classification_report, f1_score, precision_score, accuracy_score\n",
    "from sklearn.model_selection import cross_val_score, cross_validate\n"
   ]
  },
  {
   "cell_type": "code",
   "execution_count": 15,
   "metadata": {
    "colab": {
     "base_uri": "https://localhost:8080/"
    },
    "executionInfo": {
     "elapsed": 10,
     "status": "ok",
     "timestamp": 1699385156783,
     "user": {
      "displayName": "Ivan Daniel Villegas Isasa",
      "userId": "00302774522595278560"
     },
     "user_tz": 300
    },
    "id": "UA1U7RYJ4NOs",
    "outputId": "834504a8-a32e-433d-fab5-cbe6be366d57"
   },
   "outputs": [
    {
     "name": "stdout",
     "output_type": "stream",
     "text": [
      "(36092, 4)\n",
      "(12031, 4)\n",
      "(12031, 4)\n"
     ]
    }
   ],
   "source": [
    "\n",
    "# Crear los datos de las características (X) y las etiquetas de las clases (y)\n",
    "# Estos son datos de prueba, debes reemplazarlos por tus datos reales\n",
    "X = features # Arreglo con los valores de las cuatro características\n",
    "y = labels # Arreglo con las etiquetas de las clases (0 o 1)\n",
    "\n",
    "# Dividir los datos en train y test usando una proporción de 80/20\n",
    "X_train, X_test, y_train, y_test = train_test_split(X, y, test_size=0.2, random_state=42)\n",
    "\n",
    "# Dividir el subconjunto de train en train y validation usando una proporción de 75/25\n",
    "X_train, X_val, y_train, y_val = train_test_split(X_train, y_train, test_size=0.25, random_state=42)\n",
    "\n",
    "# Mostrar el resultado\n",
    "print(X_train.shape) # (2052, 4)\n",
    "print(X_val.shape) # (684, 4)\n",
    "print(X_test.shape) # (684, 4)"
   ]
  },
  {
   "cell_type": "markdown",
   "metadata": {
    "id": "V_kdrwlT_2GN"
   },
   "source": [
    "## Entrenamiento"
   ]
  },
  {
   "cell_type": "code",
   "execution_count": 16,
   "metadata": {
    "colab": {
     "base_uri": "https://localhost:8080/"
    },
    "executionInfo": {
     "elapsed": 273,
     "status": "ok",
     "timestamp": 1699385157050,
     "user": {
      "displayName": "Ivan Daniel Villegas Isasa",
      "userId": "00302774522595278560"
     },
     "user_tz": 300
    },
    "id": "kHQgaI-oobQ-",
    "outputId": "2f673c74-d67b-4d08-87a9-1c9c9a659262"
   },
   "outputs": [
    {
     "name": "stdout",
     "output_type": "stream",
     "text": [
      "F1 SCORE: 0.09049011759133134\n",
      "Recall: 0.04807916307161346\n",
      "Precision: 0.8771278122626208\n",
      "Accuracy: 0.8381914766201302\n"
     ]
    }
   ],
   "source": [
    "import numpy as np\n",
    "from sklearn.discriminant_analysis import LinearDiscriminantAnalysis\n",
    "from sklearn.model_selection import cross_validate\n",
    "from sklearn.metrics import f1_score, precision_score, accuracy_score, recall_score, make_scorer\n",
    "\n",
    "# Estos son datos de prueba, debes reemplazarlos por tus datos reales\n",
    "X = X_train # Arreglo con los valores de las cuatro características\n",
    "y = y_train # Arreglo con las etiquetas de las clases (0 o 1)\n",
    "\n",
    "# Crear el clasificador de discriminante lineal\n",
    "lda = LinearDiscriminantAnalysis()\n",
    "\n",
    "# Crear un diccionario que mapee los nombres de las métricas con las funciones\n",
    "scoring = ['f1', 'recall', 'precision', 'accuracy']\n",
    "scores1 = cross_validate(lda, X, y, cv=20, scoring=scoring)\n",
    "\n",
    "\n",
    "print('F1 SCORE:', scores1['test_f1'].mean())\n",
    "print('Recall:', scores1['test_recall'].mean())\n",
    "print('Precision:', scores1['test_precision'].mean())\n",
    "print('Accuracy:', scores1['test_accuracy'].mean())\n",
    "#print(scores1)"
   ]
  },
  {
   "cell_type": "code",
   "execution_count": 17,
   "metadata": {
    "colab": {
     "base_uri": "https://localhost:8080/"
    },
    "executionInfo": {
     "elapsed": 627,
     "status": "ok",
     "timestamp": 1699385157673,
     "user": {
      "displayName": "Ivan Daniel Villegas Isasa",
      "userId": "00302774522595278560"
     },
     "user_tz": 300
    },
    "id": "aLYDZIC3AZxc",
    "outputId": "0dc8d75b-cf04-40c4-86e5-308fc6260562"
   },
   "outputs": [
    {
     "name": "stdout",
     "output_type": "stream",
     "text": [
      "F1 SCORE: 1.0\n",
      "Recall: 1.0\n",
      "Precision: 1.0\n",
      "Accuracy: 1.0\n"
     ]
    }
   ],
   "source": [
    "from sklearn import tree\n",
    "\n",
    "X = X_train # Arreglo con los valores de las cuatro características\n",
    "y = y_train # Arreglo con las etiquetas de las clases (0 o 1)\n",
    "\n",
    "# Crea una instancia de la clase SVC\n",
    "tr = tree.DecisionTreeClassifier(max_depth=7)\n",
    "\n",
    "# Realiza validación cruzada en los datos\n",
    "scoring = ['f1', 'recall', 'precision', 'accuracy']\n",
    "scores2 = cross_validate(tr, X, y, cv=20, scoring=scoring)\n",
    "\n",
    "print('F1 SCORE:', scores2['test_f1'].mean())\n",
    "print('Recall:', scores2['test_recall'].mean())\n",
    "print('Precision:', scores2['test_precision'].mean())\n",
    "print('Accuracy:', scores2['test_accuracy'].mean())\n",
    "#print(scores2)"
   ]
  },
  {
   "cell_type": "code",
   "execution_count": 18,
   "metadata": {
    "colab": {
     "base_uri": "https://localhost:8080/"
    },
    "executionInfo": {
     "elapsed": 11547,
     "status": "ok",
     "timestamp": 1699385169209,
     "user": {
      "displayName": "Ivan Daniel Villegas Isasa",
      "userId": "00302774522595278560"
     },
     "user_tz": 300
    },
    "id": "IPGN1GEdaxcE",
    "outputId": "b17fd5f6-0e94-4848-b5d1-0eb4358acf29"
   },
   "outputs": [
    {
     "name": "stdout",
     "output_type": "stream",
     "text": [
      "F1 SCORE: 1.0\n",
      "Recall: 1.0\n",
      "Precision: 1.0\n",
      "Accuracy: 1.0\n"
     ]
    }
   ],
   "source": [
    "from sklearn.ensemble import RandomForestClassifier\n",
    "from sklearn.model_selection import cross_val_score\n",
    "import numpy as np\n",
    "\n",
    "X = X_train # Arreglo con los valores de las cuatro características\n",
    "y = y_train # Arreglo con las etiquetas de las clases (0 o 1)\n",
    "\n",
    "# Crea una instancia del clasificador Random Forest\n",
    "rfc = RandomForestClassifier(n_estimators=100, max_depth=2, random_state=42)\n",
    "\n",
    "# Realiza validación cruzada en los datos\n",
    "scoring = ['f1', 'recall', 'precision', 'accuracy']\n",
    "scores3 = cross_validate(rfc, X, y, cv=20, scoring=scoring)\n",
    "\n",
    "print('F1 SCORE:', scores3['test_f1'].mean())\n",
    "print('Recall:', scores3['test_recall'].mean())\n",
    "print('Precision:', scores3['test_precision'].mean())\n",
    "print('Accuracy:', scores3['test_accuracy'].mean())\n",
    "#print(scores3)"
   ]
  },
  {
   "cell_type": "code",
   "execution_count": 19,
   "metadata": {
    "colab": {
     "base_uri": "https://localhost:8080/"
    },
    "executionInfo": {
     "elapsed": 1315,
     "status": "ok",
     "timestamp": 1699385170493,
     "user": {
      "displayName": "Ivan Daniel Villegas Isasa",
      "userId": "00302774522595278560"
     },
     "user_tz": 300
    },
    "id": "He7EmP-ch5Ak",
    "outputId": "3b09e7cc-99e5-4366-fbbd-5ed41d26d06a"
   },
   "outputs": [
    {
     "name": "stdout",
     "output_type": "stream",
     "text": [
      "F1 SCORE: 0.9941338467923359\n",
      "Recall: 1.0\n",
      "Precision: 0.9883476916505443\n",
      "Accuracy: 0.9980050795093698\n"
     ]
    }
   ],
   "source": [
    "from sklearn.svm import SVC\n",
    "\n",
    "X = X_train # Arreglo con los valores de las cuatro características\n",
    "y = y_train # Arreglo con las etiquetas de las clases (0 o 1)\n",
    "\n",
    "# Crea una instancia de la clase SVC\n",
    "svm = SVC(gamma=\"auto\",kernel='rbf', C=1)\n",
    "\n",
    "# Realiza validación cruzada en los datos\n",
    "scoring = ['f1', 'recall', 'precision', 'accuracy']\n",
    "scores4 = cross_validate(svm, X, y, cv=20, scoring=scoring)\n",
    "\n",
    "print('F1 SCORE:', scores4['test_f1'].mean())\n",
    "print('Recall:', scores4['test_recall'].mean())\n",
    "print('Precision:', scores4['test_precision'].mean())\n",
    "print('Accuracy:', scores4['test_accuracy'].mean())\n",
    "#print(scores4)"
   ]
  },
  {
   "cell_type": "markdown",
   "metadata": {
    "id": "LE-imsb__9PC"
   },
   "source": [
    "## Test"
   ]
  },
  {
   "cell_type": "code",
   "execution_count": 20,
   "metadata": {
    "executionInfo": {
     "elapsed": 10,
     "status": "ok",
     "timestamp": 1699385170493,
     "user": {
      "displayName": "Ivan Daniel Villegas Isasa",
      "userId": "00302774522595278560"
     },
     "user_tz": 300
    },
    "id": "SFokmJJnAJIo"
   },
   "outputs": [],
   "source": [
    "from sklearn.metrics import confusion_matrix, cohen_kappa_score, precision_score, accuracy_score, recall_score, f1_score, roc_auc_score\n",
    "def evaluacion (y_test, y_predi):\n",
    "  cm = confusion_matrix(y_test, y_predi, normalize='true')\n",
    "  acc = accuracy_score(y_true=y_test , y_pred= y_predi)\n",
    "  pre = precision_score(y_true=y_test , y_pred= y_predi)\n",
    "  rec = recall_score(y_true=y_test , y_pred= y_predi)\n",
    "  f1 = f1_score(y_true=y_test , y_pred= y_predi)\n",
    "  k = cohen_kappa_score(y1=y_test, y2=y_predi)\n",
    "\n",
    "  return {'Conf_Matrix':[cm],'Accuracy':acc,'Precision':pre,'Recall':rec,'F1_Score':f1,'Cohen_Kappa':k}\n",
    "\n",
    "def comparar_modelos(y_test,y_predi,modelos):\n",
    "  for i in range(len(y_test)):\n",
    "    eval = evaluacion(y_test[i],y_predi[i])\n",
    "    if(i==0):\n",
    "      df = pd.DataFrame(eval, index=[0])\n",
    "    else:\n",
    "      df = df.append(eval, ignore_index=True)\n",
    "  df['modelo'] = modelos\n",
    "  df = df.reindex(columns=['modelo', 'Accuracy', 'Precision', 'Recall', 'F1_Score', 'Cohen_Kappa','Conf_Matrix'])\n",
    "  fig = df.plot(kind = 'bar', x='modelo')\n",
    "  #hist_modelos(df)\n",
    "  return df, fig"
   ]
  },
  {
   "cell_type": "code",
   "execution_count": 21,
   "metadata": {
    "colab": {
     "base_uri": "https://localhost:8080/",
     "height": 800
    },
    "executionInfo": {
     "elapsed": 1710,
     "status": "ok",
     "timestamp": 1699385172195,
     "user": {
      "displayName": "Ivan Daniel Villegas Isasa",
      "userId": "00302774522595278560"
     },
     "user_tz": 300
    },
    "id": "zmYcHfwSCmKE",
    "outputId": "842c7f10-553f-4c31-d442-beb36df77fa9"
   },
   "outputs": [
    {
     "name": "stdout",
     "output_type": "stream",
     "text": [
      "4 4\n"
     ]
    },
    {
     "data": {
      "text/html": [
       "<div>\n",
       "<style scoped>\n",
       "    .dataframe tbody tr th:only-of-type {\n",
       "        vertical-align: middle;\n",
       "    }\n",
       "\n",
       "    .dataframe tbody tr th {\n",
       "        vertical-align: top;\n",
       "    }\n",
       "\n",
       "    .dataframe thead th {\n",
       "        text-align: right;\n",
       "    }\n",
       "</style>\n",
       "<table border=\"1\" class=\"dataframe\">\n",
       "  <thead>\n",
       "    <tr style=\"text-align: right;\">\n",
       "      <th></th>\n",
       "      <th>modelo</th>\n",
       "      <th>Accuracy</th>\n",
       "      <th>Precision</th>\n",
       "      <th>Recall</th>\n",
       "      <th>F1_Score</th>\n",
       "      <th>Cohen_Kappa</th>\n",
       "      <th>Conf_Matrix</th>\n",
       "    </tr>\n",
       "  </thead>\n",
       "  <tbody>\n",
       "    <tr>\n",
       "      <th>0</th>\n",
       "      <td>LDA</td>\n",
       "      <td>0.839165</td>\n",
       "      <td>0.87156</td>\n",
       "      <td>0.047123</td>\n",
       "      <td>0.089412</td>\n",
       "      <td>0.073485</td>\n",
       "      <td>[[0.9986020968547179, 0.001397903145282077], [...</td>\n",
       "    </tr>\n",
       "    <tr>\n",
       "      <th>1</th>\n",
       "      <td>Tree</td>\n",
       "      <td>1.000000</td>\n",
       "      <td>1.00000</td>\n",
       "      <td>1.000000</td>\n",
       "      <td>1.000000</td>\n",
       "      <td>1.000000</td>\n",
       "      <td>[[[1.0, 0.0], [0.0, 1.0]]]</td>\n",
       "    </tr>\n",
       "    <tr>\n",
       "      <th>2</th>\n",
       "      <td>RF</td>\n",
       "      <td>1.000000</td>\n",
       "      <td>1.00000</td>\n",
       "      <td>1.000000</td>\n",
       "      <td>1.000000</td>\n",
       "      <td>1.000000</td>\n",
       "      <td>[[[1.0, 0.0], [0.0, 1.0]]]</td>\n",
       "    </tr>\n",
       "    <tr>\n",
       "      <th>3</th>\n",
       "      <td>SVM</td>\n",
       "      <td>0.839165</td>\n",
       "      <td>0.87156</td>\n",
       "      <td>0.047123</td>\n",
       "      <td>0.089412</td>\n",
       "      <td>0.073485</td>\n",
       "      <td>[[[0.9986020968547179, 0.001397903145282077], ...</td>\n",
       "    </tr>\n",
       "  </tbody>\n",
       "</table>\n",
       "</div>"
      ],
      "text/plain": [
       "  modelo  Accuracy  Precision    Recall  F1_Score  Cohen_Kappa  \\\n",
       "0    LDA  0.839165    0.87156  0.047123  0.089412     0.073485   \n",
       "1   Tree  1.000000    1.00000  1.000000  1.000000     1.000000   \n",
       "2     RF  1.000000    1.00000  1.000000  1.000000     1.000000   \n",
       "3    SVM  0.839165    0.87156  0.047123  0.089412     0.073485   \n",
       "\n",
       "                                         Conf_Matrix  \n",
       "0  [[0.9986020968547179, 0.001397903145282077], [...  \n",
       "1                         [[[1.0, 0.0], [0.0, 1.0]]]  \n",
       "2                         [[[1.0, 0.0], [0.0, 1.0]]]  \n",
       "3  [[[0.9986020968547179, 0.001397903145282077], ...  "
      ]
     },
     "execution_count": 21,
     "metadata": {},
     "output_type": "execute_result"
    },
    {
     "data": {
      "image/png": "[encoded data removed]",
      "text/plain": [
       "<Figure size 432x288 with 1 Axes>"
      ]
     },
     "metadata": {
      "needs_background": "light"
     },
     "output_type": "display_data"
    }
   ],
   "source": [
    "lda.fit(X, y)\n",
    "tr = tr.fit(X_train, y_train)\n",
    "rfc.fit(X, y)\n",
    "svm.fit(X, y)\n",
    "\n",
    "y_pred_lda = lda.predict(X_test)\n",
    "y_pred_tr = tr.predict(X_test)\n",
    "y_pred_rfc = rfc.predict(X_test)\n",
    "y_pred_svm = lda.predict(X_test)\n",
    "Y_test = [y_test, y_test, y_test, y_test]\n",
    "y_predi = [y_pred_lda, y_pred_tr, y_pred_rfc, y_pred_svm]\n",
    "print(len(Y_test), len(y_predi))\n",
    "modelos = ['LDA','Tree','RF','SVM']\n",
    "df, fig = comparar_modelos(Y_test,y_predi,modelos)\n",
    "df"
   ]
  },
  {
   "cell_type": "code",
   "execution_count": 22,
   "metadata": {
    "executionInfo": {
     "elapsed": 22,
     "status": "ok",
     "timestamp": 1699385172196,
     "user": {
      "displayName": "Ivan Daniel Villegas Isasa",
      "userId": "00302774522595278560"
     },
     "user_tz": 300
    },
    "id": "TM4hlFMkPnbH"
   },
   "outputs": [],
   "source": [
    "#from sklearn.metrics import clasification_report\n",
    "#print(clasification_report(y_test, y_pred_rfc))"
   ]
  },
  {
   "cell_type": "markdown",
   "metadata": {
    "id": "J76af7kl3iWS"
   },
   "source": [
    "https://www.fisterra.com/formacion/metodologia-investigacion/medidas-concordancia-indice-kappa/"
   ]
  },
  {
   "cell_type": "code",
   "execution_count": 23,
   "metadata": {
    "executionInfo": {
     "elapsed": 21,
     "status": "ok",
     "timestamp": 1699385172197,
     "user": {
      "displayName": "Ivan Daniel Villegas Isasa",
      "userId": "00302774522595278560"
     },
     "user_tz": 300
    },
    "id": "zBPYK7fFizTZ"
   },
   "outputs": [],
   "source": [
    "#importances = rfc.feature_importances_\n",
    "#print(importances)\n",
    "#columns = ['M ventana 1', 'M ventana 2', 'M ventana 3', 'M ventana 4']\n",
    "#print(columns)\n",
    "#sns.barplot(x=columns, y=importances, palette='bright', saturation=2.0, edgecolor='black', linewidth=2)\n",
    "#plt.title('Importancia de cada Feature')\n",
    "#plt.show()"
   ]
  },
  {
   "cell_type": "code",
   "execution_count": 24,
   "metadata": {
    "executionInfo": {
     "elapsed": 20,
     "status": "ok",
     "timestamp": 1699385172197,
     "user": {
      "displayName": "Ivan Daniel Villegas Isasa",
      "userId": "00302774522595278560"
     },
     "user_tz": 300
    },
    "id": "fh4grPFvumCE"
   },
   "outputs": [],
   "source": [
    "#import graphviz\n",
    "#dot_data = tree.export_graphviz(tr, out_file=None)\n",
    "#graph = graphviz.Source(dot_data)\n",
    "#graph.render(\"iris\")\n",
    "\n",
    "\n",
    "#dot_data = tree.export_graphviz(tr, out_file=None,\n",
    "#                         feature_names=columns,\n",
    "#                         class_names='P300',\n",
    "#                         filled=True, rounded=True,\n",
    "#                         special_characters=True)\n",
    "#graph = graphviz.Source(dot_data)\n",
    "#graph"
   ]
  },
  {
   "cell_type": "code",
   "execution_count": 25,
   "metadata": {
    "executionInfo": {
     "elapsed": 19,
     "status": "ok",
     "timestamp": 1699385172197,
     "user": {
      "displayName": "Ivan Daniel Villegas Isasa",
      "userId": "00302774522595278560"
     },
     "user_tz": 300
    },
    "id": "CUlzL6iLa-P1"
   },
   "outputs": [],
   "source": [
    "import pandas as pd\n",
    "def tup2data(scores1, clasificador):\n",
    "  data_tuples = list(zip(scores1.keys(), scores1.values()))\n",
    "  df1 = pd.DataFrame(data=data_tuples, columns=['metric', 'values'])\n",
    "  df1 = df1.explode('values')\n",
    "  df1['classifier'] = clasificador\n",
    "  return df1"
   ]
  },
  {
   "cell_type": "code",
   "execution_count": 26,
   "metadata": {
    "executionInfo": {
     "elapsed": 19,
     "status": "ok",
     "timestamp": 1699385172197,
     "user": {
      "displayName": "Ivan Daniel Villegas Isasa",
      "userId": "00302774522595278560"
     },
     "user_tz": 300
    },
    "id": "ytDXknYfqBfw"
   },
   "outputs": [],
   "source": [
    "df1 = tup2data(scores1,'LDA')\n",
    "df2 = tup2data(scores2,'Tree')\n",
    "df3 = tup2data(scores3,'RF')\n",
    "df4 = tup2data(scores4,'SVM')"
   ]
  },
  {
   "cell_type": "code",
   "execution_count": 27,
   "metadata": {
    "colab": {
     "base_uri": "https://localhost:8080/",
     "height": 424
    },
    "executionInfo": {
     "elapsed": 19,
     "status": "ok",
     "timestamp": 1699385172198,
     "user": {
      "displayName": "Ivan Daniel Villegas Isasa",
      "userId": "00302774522595278560"
     },
     "user_tz": 300
    },
    "id": "xdeBIzjMqu1m",
    "outputId": "100bb252-9ddf-4d5f-b417-5b24826f56ba"
   },
   "outputs": [
    {
     "data": {
      "text/html": [
       "<div>\n",
       "<style scoped>\n",
       "    .dataframe tbody tr th:only-of-type {\n",
       "        vertical-align: middle;\n",
       "    }\n",
       "\n",
       "    .dataframe tbody tr th {\n",
       "        vertical-align: top;\n",
       "    }\n",
       "\n",
       "    .dataframe thead th {\n",
       "        text-align: right;\n",
       "    }\n",
       "</style>\n",
       "<table border=\"1\" class=\"dataframe\">\n",
       "  <thead>\n",
       "    <tr style=\"text-align: right;\">\n",
       "      <th></th>\n",
       "      <th>metric</th>\n",
       "      <th>values</th>\n",
       "      <th>classifier</th>\n",
       "    </tr>\n",
       "  </thead>\n",
       "  <tbody>\n",
       "    <tr>\n",
       "      <th>0</th>\n",
       "      <td>fit_time</td>\n",
       "      <td>0.0137203</td>\n",
       "      <td>LDA</td>\n",
       "    </tr>\n",
       "    <tr>\n",
       "      <th>0</th>\n",
       "      <td>fit_time</td>\n",
       "      <td>0.0196068</td>\n",
       "      <td>LDA</td>\n",
       "    </tr>\n",
       "    <tr>\n",
       "      <th>0</th>\n",
       "      <td>fit_time</td>\n",
       "      <td>0.0194645</td>\n",
       "      <td>LDA</td>\n",
       "    </tr>\n",
       "    <tr>\n",
       "      <th>0</th>\n",
       "      <td>fit_time</td>\n",
       "      <td>0.0193717</td>\n",
       "      <td>LDA</td>\n",
       "    </tr>\n",
       "    <tr>\n",
       "      <th>0</th>\n",
       "      <td>fit_time</td>\n",
       "      <td>0.0193288</td>\n",
       "      <td>LDA</td>\n",
       "    </tr>\n",
       "    <tr>\n",
       "      <th>...</th>\n",
       "      <td>...</td>\n",
       "      <td>...</td>\n",
       "      <td>...</td>\n",
       "    </tr>\n",
       "    <tr>\n",
       "      <th>5</th>\n",
       "      <td>test_accuracy</td>\n",
       "      <td>0.997228</td>\n",
       "      <td>SVM</td>\n",
       "    </tr>\n",
       "    <tr>\n",
       "      <th>5</th>\n",
       "      <td>test_accuracy</td>\n",
       "      <td>0.997228</td>\n",
       "      <td>SVM</td>\n",
       "    </tr>\n",
       "    <tr>\n",
       "      <th>5</th>\n",
       "      <td>test_accuracy</td>\n",
       "      <td>0.997783</td>\n",
       "      <td>SVM</td>\n",
       "    </tr>\n",
       "    <tr>\n",
       "      <th>5</th>\n",
       "      <td>test_accuracy</td>\n",
       "      <td>0.998337</td>\n",
       "      <td>SVM</td>\n",
       "    </tr>\n",
       "    <tr>\n",
       "      <th>5</th>\n",
       "      <td>test_accuracy</td>\n",
       "      <td>0.998891</td>\n",
       "      <td>SVM</td>\n",
       "    </tr>\n",
       "  </tbody>\n",
       "</table>\n",
       "<p>480 rows × 3 columns</p>\n",
       "</div>"
      ],
      "text/plain": [
       "           metric     values classifier\n",
       "0        fit_time  0.0137203        LDA\n",
       "0        fit_time  0.0196068        LDA\n",
       "0        fit_time  0.0194645        LDA\n",
       "0        fit_time  0.0193717        LDA\n",
       "0        fit_time  0.0193288        LDA\n",
       "..            ...        ...        ...\n",
       "5   test_accuracy   0.997228        SVM\n",
       "5   test_accuracy   0.997228        SVM\n",
       "5   test_accuracy   0.997783        SVM\n",
       "5   test_accuracy   0.998337        SVM\n",
       "5   test_accuracy   0.998891        SVM\n",
       "\n",
       "[480 rows x 3 columns]"
      ]
     },
     "execution_count": 27,
     "metadata": {},
     "output_type": "execute_result"
    }
   ],
   "source": [
    "df = pd.concat([df1, df2, df3, df4], axis = 0)\n",
    "df"
   ]
  },
  {
   "cell_type": "code",
   "execution_count": 28,
   "metadata": {
    "colab": {
     "base_uri": "https://localhost:8080/",
     "height": 424
    },
    "executionInfo": {
     "elapsed": 306,
     "status": "ok",
     "timestamp": 1699385172488,
     "user": {
      "displayName": "Ivan Daniel Villegas Isasa",
      "userId": "00302774522595278560"
     },
     "user_tz": 300
    },
    "id": "yAAgpgF_chwI",
    "outputId": "59283539-f21d-4b06-c9ef-d1a86310f141"
   },
   "outputs": [
    {
     "data": {
      "text/html": [
       "<div>\n",
       "<style scoped>\n",
       "    .dataframe tbody tr th:only-of-type {\n",
       "        vertical-align: middle;\n",
       "    }\n",
       "\n",
       "    .dataframe tbody tr th {\n",
       "        vertical-align: top;\n",
       "    }\n",
       "\n",
       "    .dataframe thead th {\n",
       "        text-align: right;\n",
       "    }\n",
       "</style>\n",
       "<table border=\"1\" class=\"dataframe\">\n",
       "  <thead>\n",
       "    <tr style=\"text-align: right;\">\n",
       "      <th></th>\n",
       "      <th>metric</th>\n",
       "      <th>values</th>\n",
       "      <th>classifier</th>\n",
       "    </tr>\n",
       "  </thead>\n",
       "  <tbody>\n",
       "    <tr>\n",
       "      <th>2</th>\n",
       "      <td>test_f1</td>\n",
       "      <td>0.0447284</td>\n",
       "      <td>LDA</td>\n",
       "    </tr>\n",
       "    <tr>\n",
       "      <th>2</th>\n",
       "      <td>test_f1</td>\n",
       "      <td>0.0626959</td>\n",
       "      <td>LDA</td>\n",
       "    </tr>\n",
       "    <tr>\n",
       "      <th>2</th>\n",
       "      <td>test_f1</td>\n",
       "      <td>0.0384615</td>\n",
       "      <td>LDA</td>\n",
       "    </tr>\n",
       "    <tr>\n",
       "      <th>2</th>\n",
       "      <td>test_f1</td>\n",
       "      <td>0.155224</td>\n",
       "      <td>LDA</td>\n",
       "    </tr>\n",
       "    <tr>\n",
       "      <th>2</th>\n",
       "      <td>test_f1</td>\n",
       "      <td>0.056962</td>\n",
       "      <td>LDA</td>\n",
       "    </tr>\n",
       "    <tr>\n",
       "      <th>...</th>\n",
       "      <td>...</td>\n",
       "      <td>...</td>\n",
       "      <td>...</td>\n",
       "    </tr>\n",
       "    <tr>\n",
       "      <th>5</th>\n",
       "      <td>test_accuracy</td>\n",
       "      <td>0.997228</td>\n",
       "      <td>SVM</td>\n",
       "    </tr>\n",
       "    <tr>\n",
       "      <th>5</th>\n",
       "      <td>test_accuracy</td>\n",
       "      <td>0.997228</td>\n",
       "      <td>SVM</td>\n",
       "    </tr>\n",
       "    <tr>\n",
       "      <th>5</th>\n",
       "      <td>test_accuracy</td>\n",
       "      <td>0.997783</td>\n",
       "      <td>SVM</td>\n",
       "    </tr>\n",
       "    <tr>\n",
       "      <th>5</th>\n",
       "      <td>test_accuracy</td>\n",
       "      <td>0.998337</td>\n",
       "      <td>SVM</td>\n",
       "    </tr>\n",
       "    <tr>\n",
       "      <th>5</th>\n",
       "      <td>test_accuracy</td>\n",
       "      <td>0.998891</td>\n",
       "      <td>SVM</td>\n",
       "    </tr>\n",
       "  </tbody>\n",
       "</table>\n",
       "<p>320 rows × 3 columns</p>\n",
       "</div>"
      ],
      "text/plain": [
       "           metric     values classifier\n",
       "2         test_f1  0.0447284        LDA\n",
       "2         test_f1  0.0626959        LDA\n",
       "2         test_f1  0.0384615        LDA\n",
       "2         test_f1   0.155224        LDA\n",
       "2         test_f1   0.056962        LDA\n",
       "..            ...        ...        ...\n",
       "5   test_accuracy   0.997228        SVM\n",
       "5   test_accuracy   0.997228        SVM\n",
       "5   test_accuracy   0.997783        SVM\n",
       "5   test_accuracy   0.998337        SVM\n",
       "5   test_accuracy   0.998891        SVM\n",
       "\n",
       "[320 rows x 3 columns]"
      ]
     },
     "execution_count": 28,
     "metadata": {},
     "output_type": "execute_result"
    }
   ],
   "source": [
    "metrics_to_select = ['test_f1', 'test_recall', 'test_precision', 'test_accuracy']\n",
    "df_selected = df.loc[df['metric'].isin(metrics_to_select)]\n",
    "df_selected"
   ]
  },
  {
   "cell_type": "code",
   "execution_count": 29,
   "metadata": {
    "colab": {
     "base_uri": "https://localhost:8080/",
     "height": 564
    },
    "executionInfo": {
     "elapsed": 2224,
     "status": "ok",
     "timestamp": 1699385174704,
     "user": {
      "displayName": "Ivan Daniel Villegas Isasa",
      "userId": "00302774522595278560"
     },
     "user_tz": 300
    },
    "id": "vcqaNgWXIaoP",
    "outputId": "d6516ed9-3990-4fee-82c4-98049abb42ae"
   },
   "outputs": [
    {
     "data": {
      "image/png": "[encoded data removed]",
      "text/plain": [
       "<Figure size 864x432 with 1 Axes>"
      ]
     },
     "metadata": {
      "needs_background": "light"
     },
     "output_type": "display_data"
    }
   ],
   "source": [
    "# DATOS DE ENTRADA\n",
    "variable_numerica = \"values\"\n",
    "variable_categorica_agrupacion = \"metric\"\n",
    "variable_categorica_agrupacion2 = \"classifier\"\n",
    "titulo_grafico = \"Resultados de las metricas en diferentes clasificadores dataset BCI Competition\"\n",
    "\n",
    "#Gráfico Boxplot a una sola variable númerica según dos categorica\n",
    "plt.figure(figsize=(12,6))\n",
    "sns.boxplot(x=variable_categorica_agrupacion, y=variable_numerica, hue=variable_categorica_agrupacion2, data=df_selected, palette=\"Set1\")\n",
    "plt.title(titulo_grafico)\n",
    "plt.savefig('boxplot_Competition')\n",
    "plt.show()"
   ]
  },
  {
   "cell_type": "markdown",
   "metadata": {
    "id": "IUMzP7_O3lND"
   },
   "source": [
    "## Clasificación con redes convolucionales\n",
    "Se utiliza Keras para realizar la clasificación"
   ]
  },
  {
   "cell_type": "code",
   "execution_count": 30,
   "metadata": {
    "colab": {
     "base_uri": "https://localhost:8080/"
    },
    "executionInfo": {
     "elapsed": 409,
     "status": "ok",
     "timestamp": 1699385184930,
     "user": {
      "displayName": "Ivan Daniel Villegas Isasa",
      "userId": "00302774522595278560"
     },
     "user_tz": 300
    },
    "id": "8K1me3771Yyv",
    "outputId": "4010b7b4-d3b5-4d4e-d72e-5882131751a2"
   },
   "outputs": [
    {
     "data": {
      "text/plain": [
       "(4, 125)"
      ]
     },
     "execution_count": 30,
     "metadata": {},
     "output_type": "execute_result"
    }
   ],
   "source": [
    "np.squeeze(epochs[\"1\"][1].get_data()).shape"
   ]
  },
  {
   "cell_type": "code",
   "execution_count": 31,
   "metadata": {
    "colab": {
     "base_uri": "https://localhost:8080/"
    },
    "executionInfo": {
     "elapsed": 10,
     "status": "ok",
     "timestamp": 1699385187698,
     "user": {
      "displayName": "Ivan Daniel Villegas Isasa",
      "userId": "00302774522595278560"
     },
     "user_tz": 300
    },
    "id": "xDcoHxpe6RBY",
    "outputId": "257b1b24-cc73-4839-b378-1a42ef7e1a80"
   },
   "outputs": [
    {
     "data": {
      "text/plain": [
       "50128"
      ]
     },
     "execution_count": 31,
     "metadata": {},
     "output_type": "execute_result"
    }
   ],
   "source": [
    "len(epochs[\"0\"])"
   ]
  },
  {
   "cell_type": "code",
   "execution_count": 32,
   "metadata": {
    "colab": {
     "base_uri": "https://localhost:8080/"
    },
    "executionInfo": {
     "elapsed": 418,
     "status": "ok",
     "timestamp": 1699385198757,
     "user": {
      "displayName": "Ivan Daniel Villegas Isasa",
      "userId": "00302774522595278560"
     },
     "user_tz": 300
    },
    "id": "0ZG1Q1wB5VH6",
    "outputId": "ac1e7b07-bfc3-455f-e538-82dfde8bed6a"
   },
   "outputs": [
    {
     "data": {
      "text/plain": [
       "((60154, 1), (60154, 4, 125))"
      ]
     },
     "execution_count": 32,
     "metadata": {},
     "output_type": "execute_result"
    }
   ],
   "source": [
    "target = epochs[\"1\"]\n",
    "standard = epochs[\"0\"]\n",
    "labelT = np.ones([len(epochs[\"1\"])])\n",
    "labelF = np.zeros([len(epochs[\"0\"])])\n",
    "features = np.concatenate((target,standard), axis=0)\n",
    "labels = np.concatenate((labelT,labelF), axis=0)\n",
    "labels = labels.reshape(-1,1)\n",
    "labels.shape, features.shape"
   ]
  },
  {
   "cell_type": "code",
   "execution_count": 33,
   "metadata": {
    "colab": {
     "base_uri": "https://localhost:8080/",
     "height": 98
    },
    "executionInfo": {
     "elapsed": 1227,
     "status": "ok",
     "timestamp": 1699385206531,
     "user": {
      "displayName": "Ivan Daniel Villegas Isasa",
      "userId": "00302774522595278560"
     },
     "user_tz": 300
    },
    "id": "S4fBzEX832GW",
    "outputId": "95d22cf2-564d-4ba1-9793-0c428013c126"
   },
   "outputs": [
    {
     "data": {
      "image/png": "[encoded data removed]",
      "text/plain": [
       "<Figure size 1080x504 with 1 Axes>"
      ]
     },
     "metadata": {
      "needs_background": "light"
     },
     "output_type": "display_data"
    }
   ],
   "source": [
    "plt.figure(1, figsize=(15, 7))\n",
    "plt.imshow(np.squeeze(epochs[\"1\"][6].get_data()), cmap=plt.cm.gray_r, interpolation='nearest')\n",
    "\n",
    "plt.show()"
   ]
  },
  {
   "cell_type": "code",
   "execution_count": 34,
   "metadata": {
    "colab": {
     "base_uri": "https://localhost:8080/",
     "height": 98
    },
    "executionInfo": {
     "elapsed": 353,
     "status": "ok",
     "timestamp": 1699385206879,
     "user": {
      "displayName": "Ivan Daniel Villegas Isasa",
      "userId": "00302774522595278560"
     },
     "user_tz": 300
    },
    "id": "1icWlqWKIyIr",
    "outputId": "11aee21f-c77c-42a1-b6c4-e724733986f0"
   },
   "outputs": [
    {
     "data": {
      "image/png": "[encoded data removed]",
      "text/plain": [
       "<Figure size 1080x504 with 1 Axes>"
      ]
     },
     "metadata": {
      "needs_background": "light"
     },
     "output_type": "display_data"
    }
   ],
   "source": [
    "plt.figure(1, figsize=(15, 7))\n",
    "plt.imshow(np.squeeze(epochs[\"0\"][6].get_data()), cmap=plt.cm.gray_r, interpolation='nearest')\n",
    "\n",
    "plt.show()"
   ]
  },
  {
   "cell_type": "code",
   "execution_count": 35,
   "metadata": {
    "executionInfo": {
     "elapsed": 287,
     "status": "ok",
     "timestamp": 1699385214931,
     "user": {
      "displayName": "Ivan Daniel Villegas Isasa",
      "userId": "00302774522595278560"
     },
     "user_tz": 300
    },
    "id": "oRjHOY0h6v2S"
   },
   "outputs": [],
   "source": [
    "from sklearn.model_selection import train_test_split\n",
    "X = features # Arreglo con los valores de las cuatro características\n",
    "y = labels # Arreglo con las etiquetas de las clases (0 o 1)\n",
    "\n",
    "# Dividir los datos en train y test usando una proporción de 80/20\n",
    "X_train, x_test, Y_train, y_test = train_test_split(X, y, test_size=0.2, random_state=42)\n",
    "\n",
    "# Dividir los datos en train y validation usando una proporción de 80/20\n",
    "x_train, x_val, y_train, y_val = train_test_split(X_train, Y_train, test_size=0.2, random_state=42)"
   ]
  },
  {
   "cell_type": "code",
   "execution_count": 36,
   "metadata": {
    "colab": {
     "base_uri": "https://localhost:8080/"
    },
    "executionInfo": {
     "elapsed": 327,
     "status": "ok",
     "timestamp": 1699385254982,
     "user": {
      "displayName": "Ivan Daniel Villegas Isasa",
      "userId": "00302774522595278560"
     },
     "user_tz": 300
    },
    "id": "KZhKIDsF34e7",
    "outputId": "f57972a8-5f5c-4ae7-c606-275128e05f4f"
   },
   "outputs": [
    {
     "name": "stderr",
     "output_type": "stream",
     "text": [
      "Using TensorFlow backend.\n"
     ]
    },
    {
     "name": "stdout",
     "output_type": "stream",
     "text": [
      "Model: \"sequential_1\"\n",
      "_________________________________________________________________\n",
      "Layer (type)                 Output Shape              Param #   \n",
      "=================================================================\n",
      "conv2d_1 (Conv2D)            (None, 3, 125, 4)         20        \n",
      "_________________________________________________________________\n",
      "max_pooling2d_1 (MaxPooling2 (None, 1, 41, 4)          0         \n",
      "_________________________________________________________________\n",
      "flatten_1 (Flatten)          (None, 164)               0         \n",
      "_________________________________________________________________\n",
      "dense_1 (Dense)              (None, 3)                 495       \n",
      "_________________________________________________________________\n",
      "dense_2 (Dense)              (None, 1)                 4         \n",
      "=================================================================\n",
      "Total params: 519\n",
      "Trainable params: 519\n",
      "Non-trainable params: 0\n",
      "_________________________________________________________________\n"
     ]
    }
   ],
   "source": [
    "from keras.models import Sequential\n",
    "from keras.layers import Dense, Conv2D, Flatten, MaxPooling2D\n",
    "from keras.metrics import Accuracy, AUC, Precision, Recall\n",
    "\n",
    "# Crear modelo\n",
    "model = Sequential()\n",
    "\n",
    "# Agregar capas\n",
    "model.add(Conv2D(4, kernel_size=2, activation='relu', input_shape=(4,126,1)))\n",
    "model.add(MaxPooling2D(pool_size=(3, 3)))\n",
    "#model.add(Conv2D(32, kernel_size=2, activation='relu'))\n",
    "#model.add(MaxPooling2D(pool_size=(3, 3)))\n",
    "model.add(Flatten())\n",
    "model.add(Dense(3, activation='softmax'))\n",
    "model.add(Dense(1, activation='softmax'))\n",
    "\n",
    "# Compilar modelo\n",
    "model.compile(optimizer='adam', loss='binary_crossentropy', metrics=[Accuracy(), AUC(), Precision(), Recall()])\n",
    "model.summary()"
   ]
  },
  {
   "cell_type": "code",
   "execution_count": 37,
   "metadata": {
    "executionInfo": {
     "elapsed": 21252,
     "status": "aborted",
     "timestamp": 1699385174958,
     "user": {
      "displayName": "Ivan Daniel Villegas Isasa",
      "userId": "00302774522595278560"
     },
     "user_tz": 300
    },
    "id": "2B3BWHWY5Nlb"
   },
   "outputs": [],
   "source": [
    "#history = model.fit(x_train, y_train, validation_data=(x_val, y_val), epochs=10, batch_size=32)"
   ]
  },
  {
   "cell_type": "code",
   "execution_count": 38,
   "metadata": {
    "executionInfo": {
     "elapsed": 8,
     "status": "aborted",
     "timestamp": 1699385175269,
     "user": {
      "displayName": "Ivan Daniel Villegas Isasa",
      "userId": "00302774522595278560"
     },
     "user_tz": 300
    },
    "id": "RW_Ug37s7i8s"
   },
   "outputs": [
    {
     "ename": "NameError",
     "evalue": "name 'history' is not defined",
     "output_type": "error",
     "traceback": [
      "\u001b[0;31m---------------------------------------------------------------------------\u001b[0m",
      "\u001b[0;31mNameError\u001b[0m                                 Traceback (most recent call last)",
      "\u001b[0;32m<ipython-input-38-e961063ae544>\u001b[0m in \u001b[0;36m<module>\u001b[0;34m\u001b[0m\n\u001b[0;32m----> 1\u001b[0;31m \u001b[0mprint\u001b[0m\u001b[0;34m(\u001b[0m\u001b[0mhistory\u001b[0m\u001b[0;34m.\u001b[0m\u001b[0mhistory\u001b[0m\u001b[0;34m[\u001b[0m\u001b[0;34m'loss'\u001b[0m\u001b[0;34m]\u001b[0m\u001b[0;34m)\u001b[0m\u001b[0;34m\u001b[0m\u001b[0;34m\u001b[0m\u001b[0m\n\u001b[0m\u001b[1;32m      2\u001b[0m \u001b[0mprint\u001b[0m\u001b[0;34m(\u001b[0m\u001b[0mhistory\u001b[0m\u001b[0;34m.\u001b[0m\u001b[0mhistory\u001b[0m\u001b[0;34m[\u001b[0m\u001b[0;34m'accuracy'\u001b[0m\u001b[0;34m]\u001b[0m\u001b[0;34m)\u001b[0m\u001b[0;34m\u001b[0m\u001b[0;34m\u001b[0m\u001b[0m\n\u001b[1;32m      3\u001b[0m \u001b[0;34m\u001b[0m\u001b[0m\n\u001b[1;32m      4\u001b[0m \u001b[0;31m# Graficar pérdida y precisión\u001b[0m\u001b[0;34m\u001b[0m\u001b[0;34m\u001b[0m\u001b[0;34m\u001b[0m\u001b[0m\n\u001b[1;32m      5\u001b[0m \u001b[0mplt\u001b[0m\u001b[0;34m.\u001b[0m\u001b[0mplot\u001b[0m\u001b[0;34m(\u001b[0m\u001b[0mhistory\u001b[0m\u001b[0;34m.\u001b[0m\u001b[0mhistory\u001b[0m\u001b[0;34m[\u001b[0m\u001b[0;34m'loss'\u001b[0m\u001b[0;34m]\u001b[0m\u001b[0;34m)\u001b[0m\u001b[0;34m\u001b[0m\u001b[0;34m\u001b[0m\u001b[0m\n",
      "\u001b[0;31mNameError\u001b[0m: name 'history' is not defined"
     ]
    }
   ],
   "source": [
    "print(history.history['loss'])\n",
    "print(history.history['accuracy'])\n",
    "\n",
    "# Graficar pérdida y precisión\n",
    "plt.plot(history.history['loss'])\n",
    "plt.plot(history.history['accuracy'])\n",
    "plt.title('Modelo de pérdida y precisión')\n",
    "plt.ylabel('Pérdida/Precisión')\n",
    "plt.xlabel('Época')\n",
    "plt.legend(['Pérdida', 'Precisión'], loc='upper right')\n",
    "plt.show()"
   ]
  },
  {
   "cell_type": "code",
   "execution_count": null,
   "metadata": {
    "executionInfo": {
     "elapsed": 8,
     "status": "aborted",
     "timestamp": 1699385175270,
     "user": {
      "displayName": "Ivan Daniel Villegas Isasa",
      "userId": "00302774522595278560"
     },
     "user_tz": 300
    },
    "id": "96xfCFfXFoME"
   },
   "outputs": [],
   "source": []
  }
 ],
 "metadata": {
  "colab": {
   "authorship_tag": "ABX9TyPCMEDY/VuKoUPrvGvgTLdF",
   "provenance": []
  },
  "kernelspec": {
   "display_name": "Python 3",
   "language": "python",
   "name": "python3"
  },
  "language_info": {
   "codemirror_mode": {
    "name": "ipython",
    "version": 3
   },
   "file_extension": ".py",
   "mimetype": "text/x-python",
   "name": "python",
   "nbconvert_exporter": "python",
   "pygments_lexer": "ipython3",
   "version": "3.7.6"
  }
 },
 "nbformat": 4,
 "nbformat_minor": 4
}
